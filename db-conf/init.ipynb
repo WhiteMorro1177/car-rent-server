{
    "metadata": {
        "kernelspec": {
            "name": "SQL",
            "display_name": "SQL",
            "language": "sql"
        },
        "language_info": {
            "name": "sql",
            "version": ""
        }
    },
    "nbformat_minor": 2,
    "nbformat": 4,
    "cells": [
        {
            "cell_type": "markdown",
            "source": [
                "**Initialize database**"
            ],
            "metadata": {
                "azdata_cell_guid": "8bd1c088-7509-49d7-899b-15fb367d9433"
            },
            "attachments": {}
        },
        {
            "cell_type": "code",
            "source": [
                "set role postgres;\n",
                "\n",
                "CREATE EXTENSION IF NOT EXISTS pgcrypto;\n",
                "\n",
                "/* Drop Tables */\n",
                "\n",
                "\n",
                "\n",
                "DROP TABLE IF EXISTS accident_archive;\n",
                "DROP TABLE IF EXISTS contract_archive;\n",
                "DROP TABLE IF EXISTS raw_accidents;\n",
                "DROP TABLE IF EXISTS raw_contracts;\n",
                "DROP TABLE IF EXISTS cars;\n",
                "DROP TABLE IF EXISTS clients;\n",
                "DROP TABLE IF EXISTS managers;\n",
                "DROP TABLE IF EXISTS parkings;\n",
                "DROP TABLE IF EXISTS users;\n",
                "\n",
                "\n",
                "\n",
                "/* Create Tables */\n",
                "\n",
                "CREATE TABLE raw_accidents\n",
                "(\n",
                "\tID_accident int NOT NULL UNIQUE,\n",
                "\treport_date date DEFAULT now() NOT NULL,\n",
                "\tis_confirmed boolean DEFAULT 'FALSE' NOT NULL,\n",
                "\tdriving_license char(10) NOT NULL,\n",
                "\tvin_number char(17) NOT NULL,\n",
                "\tPRIMARY KEY (ID_accident)\n",
                ") WITHOUT OIDS;\n",
                "\n",
                "\n",
                "CREATE TABLE contract_archive\n",
                "(\n",
                "\tID_record serial UNIQUE,\n",
                "\tID_contract int NOT NULL,\n",
                "\tstart_date date NOT NULL,\n",
                "\tend_date date NOT NULL,\n",
                "\tis_returned boolean DEFAULT 'FALSE' NOT NULL,\n",
                "\ttotal_price money NOT NULL,\n",
                "\tcar_vin_number char(17) NOT NULL,\n",
                "\tclient_driving_license char(10) NOT NULL,\n",
                "\tclient_name varchar NOT NULL,\n",
                "\tphone_number varchar NOT NULL,\n",
                "\tPRIMARY KEY (ID_record)\n",
                ") WITHOUT OIDS;\n",
                "\n",
                "\n",
                "CREATE TABLE accident_archive\n",
                "(\n",
                "\tID_record serial UNIQUE,\n",
                "\tID_accident int NOT NULL,\n",
                "\treport_date date NOT NULL,\n",
                "\tcar_vin_number char(17) NOT NULL,\n",
                "\tclient_driving_license char(10) NOT NULL,\n",
                "\tclient_name varchar NOT NULL,\n",
                "\tphone_number varchar NOT NULL,\n",
                "\tPRIMARY KEY (ID_record)\n",
                ") WITHOUT OIDS;\n",
                "\n",
                "\n",
                "CREATE TABLE cars\n",
                "(\n",
                "\tvin_number char(17) NOT NULL UNIQUE,\n",
                "\tcost_per_hour money,\n",
                "\tcar_brand varchar NOT NULL,\n",
                "\tcar_color varchar NOT NULL,\n",
                "\tcar_class varchar NOT NULL,\n",
                "\ttransmission_type varchar NOT NULL,\n",
                "\tfuel_type varchar NOT NULL,\n",
                "\tlocked boolean DEFAULT 'FALSE' NOT NULL,\n",
                "\tID_parking int NOT NULL,\n",
                "\tPRIMARY KEY (vin_number)\n",
                ") WITHOUT OIDS;\n",
                "\n",
                "\n",
                "CREATE TABLE clients\n",
                "(\n",
                "\tdriving_license char(10) NOT NULL,\n",
                "\tname varchar NOT NULL,\n",
                "\tphone varchar UNIQUE,\n",
                "\temail varchar UNIQUE,\n",
                "\tdate_of_birth date,\n",
                "\tregistration_address varchar,\n",
                "\tresidence_address varchar,\n",
                "\tusername varchar NOT NULL UNIQUE,\n",
                "\tPRIMARY KEY (driving_license)\n",
                ") WITHOUT OIDS;\n",
                "\n",
                "\n",
                "CREATE TABLE managers\n",
                "(\n",
                "\tmanager_passport_details char(10) NOT NULL UNIQUE,\n",
                "\tname varchar NOT NULL,\n",
                "\tphone varchar NOT NULL UNIQUE,\n",
                "\texpirience smallint DEFAULT 0,\n",
                "\tsalary int,\n",
                "\tusername varchar NOT NULL UNIQUE,\n",
                "\tID_parking int NOT NULL,\n",
                "\tPRIMARY KEY (manager_passport_details)\n",
                ") WITHOUT OIDS;\n",
                "\n",
                "\n",
                "CREATE TABLE parkings\n",
                "(\n",
                "\tID_parking int NOT NULL UNIQUE,\n",
                "\taddress varchar NOT NULL,\n",
                "\tPRIMARY KEY (ID_parking)\n",
                ") WITHOUT OIDS;\n",
                "\n",
                "\n",
                "CREATE TABLE raw_contracts\n",
                "(\n",
                "\tID_contract int NOT NULL UNIQUE,\n",
                "\trental_duration interval NOT NULL,\n",
                "\ttotal_price money NOT NULL,\n",
                "\tdriving_license char(10) NOT NULL UNIQUE,\n",
                "\tvin_number char(17) NOT NULL UNIQUE,\n",
                "\tsigned boolean DEFAULT 'FALSE' NOT NULL,\n",
                "\tPRIMARY KEY (ID_contract)\n",
                ") WITHOUT OIDS;\n",
                "\n",
                "\n",
                "CREATE TABLE users\n",
                "(\n",
                "\tusername varchar NOT NULL UNIQUE,\n",
                "\tpassword varchar NOT NULL,\n",
                "\trole varchar NOT NULL,\n",
                "\tPRIMARY KEY (username)\n",
                ") WITHOUT OIDS;\n",
                "\n",
                "\n",
                "\n",
                "/* Create Foreign Keys */\n",
                "\n",
                "ALTER TABLE raw_accidents\n",
                "\tADD FOREIGN KEY (vin_number)\n",
                "\tREFERENCES cars (vin_number)\n",
                "\tON UPDATE NO ACTION\n",
                "\tON DELETE NO ACTION\n",
                ";\n",
                "\n",
                "\n",
                "ALTER TABLE raw_accidents\n",
                "\tADD FOREIGN KEY (driving_license)\n",
                "\tREFERENCES clients (driving_license)\n",
                "\tON UPDATE NO ACTION\n",
                "\tON DELETE NO ACTION\n",
                ";\n",
                "\n",
                "\n",
                "ALTER TABLE raw_contracts\n",
                "\tADD FOREIGN KEY (vin_number)\n",
                "\tREFERENCES cars (vin_number)\n",
                "\tON UPDATE NO ACTION\n",
                "\tON DELETE NO ACTION\n",
                ";\n",
                "\n",
                "\n",
                "ALTER TABLE raw_contracts\n",
                "\tADD FOREIGN KEY (driving_license)\n",
                "\tREFERENCES clients (driving_license)\n",
                "\tON UPDATE NO ACTION\n",
                "\tON DELETE NO ACTION\n",
                ";\n",
                "\n",
                "\n",
                "ALTER TABLE cars\n",
                "\tADD FOREIGN KEY (ID_parking)\n",
                "\tREFERENCES parkings (ID_parking)\n",
                "\tON UPDATE NO ACTION\n",
                "\tON DELETE NO ACTION\n",
                ";\n",
                "\n",
                "\n",
                "ALTER TABLE managers\n",
                "\tADD FOREIGN KEY (ID_parking)\n",
                "\tREFERENCES parkings (ID_parking)\n",
                "\tON UPDATE NO ACTION\n",
                "\tON DELETE NO ACTION\n",
                ";\n",
                "\n",
                "\n",
                "ALTER TABLE clients\n",
                "\tADD FOREIGN KEY (username)\n",
                "\tREFERENCES users (username)\n",
                "\tON UPDATE CASCADE\n",
                "\tON DELETE CASCADE\n",
                ";\n",
                "\n",
                "\n",
                "ALTER TABLE managers\n",
                "\tADD FOREIGN KEY (username)\n",
                "\tREFERENCES users (username)\n",
                "\tON UPDATE CASCADE\n",
                "\tON DELETE CASCADE\n",
                ";"
            ],
            "metadata": {
                "azdata_cell_guid": "febc6b73-a219-4b4a-8b5f-ac56c5344e8d",
                "language": "sql",
                "tags": []
            },
            "outputs": [
                {
                    "output_type": "display_data",
                    "data": {
                        "text/html": "SET"
                    },
                    "metadata": {}
                },
                {
                    "output_type": "display_data",
                    "data": {
                        "text/html": "NOTICE: extension \"pgcrypto\" already exists, skipping"
                    },
                    "metadata": {}
                },
                {
                    "output_type": "display_data",
                    "data": {
                        "text/html": "CREATE EXTENSION"
                    },
                    "metadata": {}
                },
                {
                    "output_type": "display_data",
                    "data": {
                        "text/html": "DROP TABLE"
                    },
                    "metadata": {}
                },
                {
                    "output_type": "display_data",
                    "data": {
                        "text/html": "DROP TABLE"
                    },
                    "metadata": {}
                },
                {
                    "output_type": "display_data",
                    "data": {
                        "text/html": "DROP TABLE"
                    },
                    "metadata": {}
                },
                {
                    "output_type": "display_data",
                    "data": {
                        "text/html": "DROP TABLE"
                    },
                    "metadata": {}
                },
                {
                    "output_type": "display_data",
                    "data": {
                        "text/html": "DROP TABLE"
                    },
                    "metadata": {}
                },
                {
                    "output_type": "display_data",
                    "data": {
                        "text/html": "DROP TABLE"
                    },
                    "metadata": {}
                },
                {
                    "output_type": "display_data",
                    "data": {
                        "text/html": "DROP TABLE"
                    },
                    "metadata": {}
                },
                {
                    "output_type": "display_data",
                    "data": {
                        "text/html": "DROP TABLE"
                    },
                    "metadata": {}
                },
                {
                    "output_type": "display_data",
                    "data": {
                        "text/html": "DROP TABLE"
                    },
                    "metadata": {}
                },
                {
                    "output_type": "display_data",
                    "data": {
                        "text/html": "CREATE TABLE"
                    },
                    "metadata": {}
                },
                {
                    "output_type": "display_data",
                    "data": {
                        "text/html": "CREATE TABLE"
                    },
                    "metadata": {}
                },
                {
                    "output_type": "display_data",
                    "data": {
                        "text/html": "CREATE TABLE"
                    },
                    "metadata": {}
                },
                {
                    "output_type": "display_data",
                    "data": {
                        "text/html": "CREATE TABLE"
                    },
                    "metadata": {}
                },
                {
                    "output_type": "display_data",
                    "data": {
                        "text/html": "CREATE TABLE"
                    },
                    "metadata": {}
                },
                {
                    "output_type": "display_data",
                    "data": {
                        "text/html": "CREATE TABLE"
                    },
                    "metadata": {}
                },
                {
                    "output_type": "display_data",
                    "data": {
                        "text/html": "CREATE TABLE"
                    },
                    "metadata": {}
                },
                {
                    "output_type": "display_data",
                    "data": {
                        "text/html": "CREATE TABLE"
                    },
                    "metadata": {}
                },
                {
                    "output_type": "display_data",
                    "data": {
                        "text/html": "CREATE TABLE"
                    },
                    "metadata": {}
                },
                {
                    "output_type": "display_data",
                    "data": {
                        "text/html": "ALTER TABLE"
                    },
                    "metadata": {}
                },
                {
                    "output_type": "display_data",
                    "data": {
                        "text/html": "ALTER TABLE"
                    },
                    "metadata": {}
                },
                {
                    "output_type": "display_data",
                    "data": {
                        "text/html": "ALTER TABLE"
                    },
                    "metadata": {}
                },
                {
                    "output_type": "display_data",
                    "data": {
                        "text/html": "ALTER TABLE"
                    },
                    "metadata": {}
                },
                {
                    "output_type": "display_data",
                    "data": {
                        "text/html": "ALTER TABLE"
                    },
                    "metadata": {}
                },
                {
                    "output_type": "display_data",
                    "data": {
                        "text/html": "ALTER TABLE"
                    },
                    "metadata": {}
                },
                {
                    "output_type": "display_data",
                    "data": {
                        "text/html": "ALTER TABLE"
                    },
                    "metadata": {}
                },
                {
                    "output_type": "display_data",
                    "data": {
                        "text/html": "ALTER TABLE"
                    },
                    "metadata": {}
                },
                {
                    "output_type": "display_data",
                    "data": {
                        "text/html": "Total execution time: 00:00:00.331"
                    },
                    "metadata": {}
                }
            ],
            "execution_count": 130
        },
        {
            "cell_type": "markdown",
            "source": [
                "**Types**"
            ],
            "metadata": {
                "azdata_cell_guid": "f2b019ae-7754-410f-a9ff-94ba2015f311"
            },
            "attachments": {}
        },
        {
            "cell_type": "code",
            "source": [
                "-- drop type if exists type_transmission;\n",
                "\n",
                "-- CREATE TYPE type_transmission AS ENUM ('A', 'M');"
            ],
            "metadata": {
                "azdata_cell_guid": "9f7f7c7a-c2ae-4c3b-821b-410c68e11287",
                "language": "sql"
            },
            "outputs": [
                {
                    "output_type": "display_data",
                    "data": {
                        "text/html": "Total execution time: 00:00:00"
                    },
                    "metadata": {}
                }
            ],
            "execution_count": 131
        },
        {
            "cell_type": "markdown",
            "source": [
                "**Alter table**"
            ],
            "metadata": {
                "azdata_cell_guid": "511e623e-edac-498a-a04f-a234717b401d",
                "language": "sql"
            },
            "attachments": {}
        },
        {
            "cell_type": "code",
            "source": [
                "alter table cars\n",
                "alter column transmission_type type type_transmission using transmission_type::type_transmission; "
            ],
            "metadata": {
                "azdata_cell_guid": "ba38d333-5a99-40d8-ad48-b15ea035579b",
                "language": "sql"
            },
            "outputs": [
                {
                    "output_type": "display_data",
                    "data": {
                        "text/html": "ALTER TABLE"
                    },
                    "metadata": {}
                },
                {
                    "output_type": "display_data",
                    "data": {
                        "text/html": "Total execution time: 00:00:00.022"
                    },
                    "metadata": {}
                }
            ],
            "execution_count": 132
        },
        {
            "cell_type": "markdown",
            "source": [
                "**Functions**"
            ],
            "metadata": {
                "azdata_cell_guid": "8518dc17-b550-4431-9afc-bef77362d1d6"
            },
            "attachments": {}
        },
        {
            "cell_type": "code",
            "source": [
                "drop function if exists check_auth;\n",
                "\n",
                "drop function if exists archive_contract;\n",
                "drop function if exists archive_accident;\n",
                "drop function if exists add_new_user_role;\n",
                "drop function if exists modify_on_insert;\n",
                "drop function if exists get_cars;\n",
                "drop function if exists add_contract;\n",
                "drop function if exists add_accident;\n",
                "drop function if exists create_user_role;\n",
                "drop function if exists get_raw_contracts;\n",
                "drop function if exists get_raw_accidents;\n",
                "drop function if exists get_return;\n",
                "\n",
                "\n",
                "\n",
                "create function check_auth(input_username varchar, input_password varchar)\n",
                "returns varchar as \n",
                "$$\n",
                "declare \n",
                "    user_role varchar;\n",
                "begin\n",
                "    select role into user_role from users where username = input_username and password = crypt(input_password, '$1$Ur3S/3Ln');\n",
                "    return user_role;\n",
                "end\n",
                "$$ LANGUAGE plpgsql;\n",
                "\n",
                "\n",
                "create function get_cars() \n",
                "returns table (hour_cost money, classs varchar, brand varchar, color varchar, transmission type_transmission, fuel varchar, vin char(17)) as $$\n",
                "begin \n",
                "    return query \n",
                "        select cost_per_hour, car_class, car_brand, car_color, transmission_type, fuel_type, vin_number\n",
                "        from cars \n",
                "        where locked = false;\n",
                "end;\n",
                "$$ language plpgsql;\n",
                "\n",
                "\n",
                "create function get_raw_contracts() \n",
                "returns table (id_contract int, client_data text, car_data text, rental_duration numeric, total_price money) as $$\n",
                "begin \n",
                "    return query \n",
                "        select \n",
                "            rc.ID_contract, \n",
                "            (cl.driving_license || ' ' || cl.name || ' ' || cl.phone) as client_data, \n",
                "            (c.car_brand || ' ' || c.car_color || ' ' || c.car_class) as car_data, \n",
                "            extract(hour from rc.rental_duration), \n",
                "            rc.total_price\n",
                "        from raw_contracts as rc\n",
                "        join cars as c on rc.vin_number = c.vin_number\n",
                "        join clients as cl on rc.driving_license = cl.driving_license;\n",
                "end;\n",
                "$$ language plpgsql;\n",
                "\n",
                "\n",
                "create function get_raw_accidents() \n",
                "returns table (id_accident int, client_data text, car_data text) as $$\n",
                "begin \n",
                "    return query \n",
                "        select \n",
                "            rac.ID_accident, \n",
                "            (cl.driving_license || ' ' || cl.name || ' ' || cl.phone) as client_data, \n",
                "            (c.car_brand || ' ' || c.car_color || ' ' || c.car_class) as car_data\n",
                "        from raw_accidents as rac\n",
                "        join cars as c on rac.vin_number = c.vin_number\n",
                "        join clients as cl on rac.driving_license = cl.driving_license;\n",
                "end;\n",
                "$$ language plpgsql;\n",
                "\n",
                "\n",
                "create function get_return() \n",
                "returns table (id int, vin text, car_data text, client_data text) as $$\n",
                "begin \n",
                "    return query \n",
                "        select \n",
                "            ca.ID_record,\n",
                "            cast(ca.car_vin_number as text), \n",
                "            (c.car_brand || ' ' || c.car_color || ' ' || c.car_class) as car_data, \n",
                "            (cl.driving_license || ' ' || cl.name || ' ' || cl.phone) as client_data \n",
                "        from contract_archive as ca\n",
                "        join cars as c on ca.car_vin_number = c.vin_number\n",
                "        join clients as cl on cl.driving_license = ca.client_driving_license\n",
                "        where ca.is_returned = false;\n",
                "end;\n",
                "$$ language plpgsql;\n",
                "\n",
                "\n",
                "-- \"Procedure-like\" functions\n",
                "create function add_contract(user_name varchar, vin varchar, duration interval)\n",
                "returns varchar as $$\n",
                "declare\n",
                "    id int;\n",
                "    hour_cost money;\n",
                "    license varchar;\n",
                "begin\n",
                "    select floor(random() * 10000) into id;\n",
                "    select cost_per_hour into hour_cost from cars where cars.vin_number = vin;\n",
                "    select driving_license into license from clients where username = user_name;\n",
                "\n",
                "    insert into raw_contracts values (id, duration, (hour_cost * extract(hour from duration)), license, vin);\n",
                "    return id;\n",
                "end;\n",
                "$$ language plpgsql;\n",
                "\n",
                "\n",
                "create function add_accident(user_name varchar, vin varchar)\n",
                "returns varchar as $$\n",
                "declare\n",
                "    id int;\n",
                "    license varchar;\n",
                "begin\n",
                "    select floor(random() * 10000) into id;\n",
                "    select driving_license into license from clients where user_name = username;\n",
                "    insert into raw_accidents values (id, default, default, license, vin);\n",
                "    return id;\n",
                "end;\n",
                "$$ language plpgsql;\n",
                "\n",
                "\n",
                "\n",
                "-- Trigger functions\n",
                "create function archive_contract() returns trigger as $$\n",
                "declare\n",
                "    client_name varchar;\n",
                "    phone_number varchar;\n",
                "begin\n",
                "    if new.signed = true then\n",
                "        select name into client_name from clients as c where c.driving_license = new.driving_license;\n",
                "        select phone into phone_number from clients as c where c.driving_license = new.driving_license;\n",
                "\n",
                "        insert into contract_archive (ID_contract, start_date, end_date, is_returned, total_price, car_vin_number, client_driving_license, client_name, phone_number) \n",
                "        values (new.ID_contract, now(), now() + new.rental_duration, DEFAULT, new.total_price, new.vin_number, new.driving_license, client_name, phone_number);\n",
                "\n",
                "        delete from raw_contracts where signed = true;\n",
                "        return new;\n",
                "    end if;\n",
                "end;\n",
                "$$ language plpgsql;\n",
                "\n",
                "create function archive_accident() returns trigger as $$\n",
                "declare\n",
                "    client_name varchar;\n",
                "    phone_number varchar;\n",
                "begin\n",
                "    if new.is_confirmed = true then\n",
                "        select name into client_name from clients as c where c.driving_license = new.driving_license;\n",
                "        select phone into phone_number from clients as c where c.driving_license = new.driving_license;\n",
                "\n",
                "        insert into accident_archive (ID_accident, report_date, car_vin_number, client_driving_license, client_name, phone_number) \n",
                "        values (new.ID_accident, new.report_date, new.vin_number, new.driving_license, client_name, phone_number);\n",
                "\n",
                "        delete from raw_accidents where is_confirmed = true;\n",
                "        return new;\n",
                "    end if;\n",
                "end;\n",
                "$$ language plpgsql;\n",
                "\n",
                "create function create_user_role() returns trigger as $$\n",
                "begin\n",
                "    if not exists (select rolname from pg_roles where new.username = rolname) then\n",
                "        execute 'create user \"'||new.username||'\" with inherit login connection limit 1;';\n",
                "        execute 'grant _client to \"'||new.username||'\"';\n",
                "    end if;\n",
                "    return new;\n",
                "end;\n",
                "$$ language plpgsql;\n",
                "\n",
                "create function modify_on_insert() returns trigger as $$\n",
                "begin\n",
                "    update cars set locked = true where cars.vin_number = new.vin_number;\n",
                "    return new;\n",
                "end;\n",
                "$$ language plpgsql;"
            ],
            "metadata": {
                "azdata_cell_guid": "6f8fe525-b723-46fe-ab2a-e50c9b79e0bb",
                "language": "sql"
            },
            "outputs": [
                {
                    "output_type": "display_data",
                    "data": {
                        "text/html": "DROP FUNCTION"
                    },
                    "metadata": {}
                },
                {
                    "output_type": "display_data",
                    "data": {
                        "text/html": "DROP FUNCTION"
                    },
                    "metadata": {}
                },
                {
                    "output_type": "display_data",
                    "data": {
                        "text/html": "DROP FUNCTION"
                    },
                    "metadata": {}
                },
                {
                    "output_type": "display_data",
                    "data": {
                        "text/html": "NOTICE: function add_new_user_role() does not exist, skipping"
                    },
                    "metadata": {}
                },
                {
                    "output_type": "display_data",
                    "data": {
                        "text/html": "DROP FUNCTION"
                    },
                    "metadata": {}
                },
                {
                    "output_type": "display_data",
                    "data": {
                        "text/html": "DROP FUNCTION"
                    },
                    "metadata": {}
                },
                {
                    "output_type": "display_data",
                    "data": {
                        "text/html": "DROP FUNCTION"
                    },
                    "metadata": {}
                },
                {
                    "output_type": "display_data",
                    "data": {
                        "text/html": "DROP FUNCTION"
                    },
                    "metadata": {}
                },
                {
                    "output_type": "display_data",
                    "data": {
                        "text/html": "DROP FUNCTION"
                    },
                    "metadata": {}
                },
                {
                    "output_type": "display_data",
                    "data": {
                        "text/html": "DROP FUNCTION"
                    },
                    "metadata": {}
                },
                {
                    "output_type": "display_data",
                    "data": {
                        "text/html": "DROP FUNCTION"
                    },
                    "metadata": {}
                },
                {
                    "output_type": "display_data",
                    "data": {
                        "text/html": "DROP FUNCTION"
                    },
                    "metadata": {}
                },
                {
                    "output_type": "display_data",
                    "data": {
                        "text/html": "DROP FUNCTION"
                    },
                    "metadata": {}
                },
                {
                    "output_type": "display_data",
                    "data": {
                        "text/html": "CREATE FUNCTION"
                    },
                    "metadata": {}
                },
                {
                    "output_type": "display_data",
                    "data": {
                        "text/html": "CREATE FUNCTION"
                    },
                    "metadata": {}
                },
                {
                    "output_type": "display_data",
                    "data": {
                        "text/html": "CREATE FUNCTION"
                    },
                    "metadata": {}
                },
                {
                    "output_type": "display_data",
                    "data": {
                        "text/html": "CREATE FUNCTION"
                    },
                    "metadata": {}
                },
                {
                    "output_type": "display_data",
                    "data": {
                        "text/html": "CREATE FUNCTION"
                    },
                    "metadata": {}
                },
                {
                    "output_type": "display_data",
                    "data": {
                        "text/html": "CREATE FUNCTION"
                    },
                    "metadata": {}
                },
                {
                    "output_type": "display_data",
                    "data": {
                        "text/html": "CREATE FUNCTION"
                    },
                    "metadata": {}
                },
                {
                    "output_type": "display_data",
                    "data": {
                        "text/html": "CREATE FUNCTION"
                    },
                    "metadata": {}
                },
                {
                    "output_type": "display_data",
                    "data": {
                        "text/html": "CREATE FUNCTION"
                    },
                    "metadata": {}
                },
                {
                    "output_type": "display_data",
                    "data": {
                        "text/html": "CREATE FUNCTION"
                    },
                    "metadata": {}
                },
                {
                    "output_type": "display_data",
                    "data": {
                        "text/html": "CREATE FUNCTION"
                    },
                    "metadata": {}
                },
                {
                    "output_type": "display_data",
                    "data": {
                        "text/html": "Total execution time: 00:00:00.089"
                    },
                    "metadata": {}
                }
            ],
            "execution_count": 133
        },
        {
            "cell_type": "markdown",
            "source": [
                "**Procedures**"
            ],
            "metadata": {
                "azdata_cell_guid": "dff6b9e3-7734-4344-8619-8f6f5e8f878c",
                "language": "sql"
            },
            "attachments": {}
        },
        {
            "cell_type": "code",
            "source": [
                "drop procedure if exists add_user;\n",
                "drop procedure if exists add_manager;\n",
                "drop procedure if exists confirm_accident;\n",
                "drop procedure if exists confirm_contract;\n",
                "drop procedure if exists return_car;\n",
                "\n",
                "create procedure add_user (user_name varchar, user_password varchar) as\n",
                "$$\n",
                "begin\n",
                "    if not exists (select username from users where user_name = username) then\n",
                "        insert into users values (user_name, crypt(user_password, '$1$Ur3S/3Ln'), 'client');\n",
                "    end if;\n",
                "end;\n",
                "$$ language plpgsql;\n",
                "\n",
                "\n",
                "create procedure add_manager (user_name varchar, user_password varchar) as\n",
                "$$\n",
                "begin\n",
                "    if not exists (select rolname from pg_roles where user_name = rolname) then\n",
                "        execute 'create user \"'||user_name||'\" with login connection limit 1;';\n",
                "        execute 'grant _manager to \"'||user_name||'\"';\n",
                "    end if;\n",
                "\n",
                "    if not exists (select username from users where user_name = username) then\n",
                "        insert into users values (user_name, crypt(user_password, '$1$Ur3S/3Ln'), 'manager');\n",
                "    end if;\n",
                "end;\n",
                "$$ language plpgsql;\n",
                "\n",
                "\n",
                "create procedure confirm_contract (id int) as \n",
                "$$\n",
                "begin \n",
                "    update raw_contracts set signed = true where ID_contract = id;\n",
                "end;\n",
                "$$ language plpgsql;\n",
                "\n",
                "\n",
                "create procedure confirm_accident (id int) as \n",
                "$$\n",
                "begin \n",
                "    update raw_accidents set is_confirmed = true where id = ID_accident;\n",
                "end;\n",
                "$$ language plpgsql;\n",
                "\n",
                "\n",
                "create procedure return_car(id int, vin varchar) as \n",
                "$$\n",
                "declare\n",
                "    parking_id int;\n",
                "begin \n",
                "    select ID_parking into parking_id from managers as m where m.username = current_user;\n",
                "    update cars set locked = false where vin_number = vin;\n",
                "    update cars set ID_parking = parking_id where vin_number = vin;\n",
                "\n",
                "    update contract_archive set is_returned = true where ID_record = id;\n",
                "end;\n",
                "$$ language plpgsql;"
            ],
            "metadata": {
                "azdata_cell_guid": "4537dc7b-702a-452f-a00c-bfaba58df6c9",
                "language": "sql"
            },
            "outputs": [
                {
                    "output_type": "display_data",
                    "data": {
                        "text/html": "DROP PROCEDURE"
                    },
                    "metadata": {}
                },
                {
                    "output_type": "display_data",
                    "data": {
                        "text/html": "DROP PROCEDURE"
                    },
                    "metadata": {}
                },
                {
                    "output_type": "display_data",
                    "data": {
                        "text/html": "DROP PROCEDURE"
                    },
                    "metadata": {}
                },
                {
                    "output_type": "display_data",
                    "data": {
                        "text/html": "DROP PROCEDURE"
                    },
                    "metadata": {}
                },
                {
                    "output_type": "display_data",
                    "data": {
                        "text/html": "DROP PROCEDURE"
                    },
                    "metadata": {}
                },
                {
                    "output_type": "display_data",
                    "data": {
                        "text/html": "CREATE PROCEDURE"
                    },
                    "metadata": {}
                },
                {
                    "output_type": "display_data",
                    "data": {
                        "text/html": "CREATE PROCEDURE"
                    },
                    "metadata": {}
                },
                {
                    "output_type": "display_data",
                    "data": {
                        "text/html": "CREATE PROCEDURE"
                    },
                    "metadata": {}
                },
                {
                    "output_type": "display_data",
                    "data": {
                        "text/html": "CREATE PROCEDURE"
                    },
                    "metadata": {}
                },
                {
                    "output_type": "display_data",
                    "data": {
                        "text/html": "CREATE PROCEDURE"
                    },
                    "metadata": {}
                },
                {
                    "output_type": "display_data",
                    "data": {
                        "text/html": "Total execution time: 00:00:00.040"
                    },
                    "metadata": {}
                }
            ],
            "execution_count": 134
        },
        {
            "cell_type": "markdown",
            "source": [
                "**Triggres**"
            ],
            "metadata": {
                "azdata_cell_guid": "449f6013-1f2c-4b37-9900-094330ad9581",
                "language": "sql"
            },
            "attachments": {}
        },
        {
            "cell_type": "code",
            "source": [
                "CREATE OR REPLACE TRIGGER contract_signed \n",
                "    AFTER UPDATE ON raw_contracts\n",
                "    FOR EACH ROW\n",
                "    EXECUTE PROCEDURE archive_contract();\n",
                "\n",
                "create or replace trigger accident_confirmed\n",
                "    after update on raw_accidents\n",
                "    for each row\n",
                "    execute procedure archive_accident();\n",
                "\n",
                "create or replace trigger on_insert_raw_contracts\n",
                "    after insert on raw_contracts\n",
                "    for each row \n",
                "    execute procedure modify_on_insert();\n",
                "\n",
                "create or replace trigger user_added\n",
                "    after insert on users\n",
                "    for each row\n",
                "    execute procedure create_user_role();"
            ],
            "metadata": {
                "azdata_cell_guid": "97d75978-dc1f-4b05-9060-3fdcc984e233",
                "language": "sql",
                "tags": []
            },
            "outputs": [
                {
                    "output_type": "display_data",
                    "data": {
                        "text/html": "CREATE TRIGGER"
                    },
                    "metadata": {}
                },
                {
                    "output_type": "display_data",
                    "data": {
                        "text/html": "CREATE TRIGGER"
                    },
                    "metadata": {}
                },
                {
                    "output_type": "display_data",
                    "data": {
                        "text/html": "CREATE TRIGGER"
                    },
                    "metadata": {}
                },
                {
                    "output_type": "display_data",
                    "data": {
                        "text/html": "CREATE TRIGGER"
                    },
                    "metadata": {}
                },
                {
                    "output_type": "display_data",
                    "data": {
                        "text/html": "Total execution time: 00:00:00.025"
                    },
                    "metadata": {}
                }
            ],
            "execution_count": 135
        },
        {
            "cell_type": "markdown",
            "source": [
                "**Roles**"
            ],
            "metadata": {
                "azdata_cell_guid": "d5fc3f65-0453-49dd-88b3-ff6609b38a0b",
                "language": "sql"
            },
            "attachments": {}
        },
        {
            "cell_type": "code",
            "source": [
                "/*\n",
                "*/\n",
                "drop role if exists _server;\n",
                "drop role if exists _manager;\n",
                "drop role if exists _client;\n",
                "drop role if exists selector;\n",
                "\n",
                "\n",
                "-- Create roles\n",
                "\n",
                "create role selector with login password 'selectorpassword';\n",
                "grant select on all tables in schema public to selector;\n",
                "\n",
                "\n",
                "create role _manager with inherit nologin;\n",
                "create role _client with inherit nologin;\n",
                "\n",
                "\n",
                "\n",
                "\n",
                "------------------------------------------\n",
                "\n",
                "-- Manager configuration\n",
                "grant select on cars, managers, contract_archive, accident_archive, raw_contracts, raw_accidents, clients to _manager;\n",
                "grant insert on contract_archive, accident_archive to _manager;\n",
                "grant update on raw_contracts, raw_accidents, cars, contract_archive to _manager;\n",
                "grant delete on raw_contracts, raw_accidents to _manager;\n",
                "\n",
                "grant execute on function get_raw_contracts, get_raw_accidents, get_return to _manager;\n",
                "grant execute on procedure confirm_contract, confirm_accident to _manager;\n",
                "\n",
                "grant usage on sequence contract_archive_id_record_seq to _manager;\n",
                "grant usage on sequence accident_archive_id_record_seq to _manager;\n",
                "\n",
                "\n",
                "-- Client configuration\n",
                "grant select on cars, clients to _client;\n",
                "grant insert on raw_contracts, raw_accidents to _client;\n",
                "\n",
                "grant execute on function get_cars, add_contract, add_accident to _client;"
            ],
            "metadata": {
                "azdata_cell_guid": "53f37fe3-f82b-492a-a8d4-a19006308be4",
                "language": "sql"
            },
            "outputs": [
                {
                    "output_type": "display_data",
                    "data": {
                        "text/html": "NOTICE: role \"_server\" does not exist, skipping"
                    },
                    "metadata": {}
                },
                {
                    "output_type": "display_data",
                    "data": {
                        "text/html": "DROP ROLE"
                    },
                    "metadata": {}
                },
                {
                    "output_type": "display_data",
                    "data": {
                        "text/html": "DROP ROLE"
                    },
                    "metadata": {}
                },
                {
                    "output_type": "display_data",
                    "data": {
                        "text/html": "DROP ROLE"
                    },
                    "metadata": {}
                },
                {
                    "output_type": "display_data",
                    "data": {
                        "text/html": "DROP ROLE"
                    },
                    "metadata": {}
                },
                {
                    "output_type": "display_data",
                    "data": {
                        "text/html": "CREATE ROLE"
                    },
                    "metadata": {}
                },
                {
                    "output_type": "display_data",
                    "data": {
                        "text/html": "GRANT"
                    },
                    "metadata": {}
                },
                {
                    "output_type": "display_data",
                    "data": {
                        "text/html": "CREATE ROLE"
                    },
                    "metadata": {}
                },
                {
                    "output_type": "display_data",
                    "data": {
                        "text/html": "CREATE ROLE"
                    },
                    "metadata": {}
                },
                {
                    "output_type": "display_data",
                    "data": {
                        "text/html": "GRANT"
                    },
                    "metadata": {}
                },
                {
                    "output_type": "display_data",
                    "data": {
                        "text/html": "GRANT"
                    },
                    "metadata": {}
                },
                {
                    "output_type": "display_data",
                    "data": {
                        "text/html": "GRANT"
                    },
                    "metadata": {}
                },
                {
                    "output_type": "display_data",
                    "data": {
                        "text/html": "GRANT"
                    },
                    "metadata": {}
                },
                {
                    "output_type": "display_data",
                    "data": {
                        "text/html": "GRANT"
                    },
                    "metadata": {}
                },
                {
                    "output_type": "display_data",
                    "data": {
                        "text/html": "GRANT"
                    },
                    "metadata": {}
                },
                {
                    "output_type": "display_data",
                    "data": {
                        "text/html": "GRANT"
                    },
                    "metadata": {}
                },
                {
                    "output_type": "display_data",
                    "data": {
                        "text/html": "GRANT"
                    },
                    "metadata": {}
                },
                {
                    "output_type": "display_data",
                    "data": {
                        "text/html": "GRANT"
                    },
                    "metadata": {}
                },
                {
                    "output_type": "display_data",
                    "data": {
                        "text/html": "GRANT"
                    },
                    "metadata": {}
                },
                {
                    "output_type": "display_data",
                    "data": {
                        "text/html": "GRANT"
                    },
                    "metadata": {}
                },
                {
                    "output_type": "display_data",
                    "data": {
                        "text/html": "Total execution time: 00:00:00.078"
                    },
                    "metadata": {}
                }
            ],
            "execution_count": 136
        },
        {
            "cell_type": "markdown",
            "source": [
                "**Polices**"
            ],
            "metadata": {
                "azdata_cell_guid": "577dc6d4-b5de-4658-8d87-0d17cb32bfff",
                "language": "sql"
            },
            "attachments": {}
        },
        {
            "cell_type": "code",
            "source": [
                "set role postgres;\n",
                "-- alter table cars enable row level security;\n",
                "alter table raw_accidents enable row level security;\n",
                "alter table raw_contracts enable row level security;\n",
                "\n",
                "-- client \n",
                "\n",
                "\n",
                "-- manager\n",
                "create policy manager_update_raw_contracts on raw_contracts\n",
                "    for update to _manager \n",
                "    using (true);\n",
                "\n",
                "create policy manager_delete_raw_contracts on raw_contracts\n",
                "    for delete to _manager \n",
                "    using (true);\n",
                "\n",
                "create policy manager_update_raw_accidents on raw_accidents\n",
                "    for update to _manager \n",
                "    using (true);\n",
                "\n",
                "create policy manager_delete_raw_accidents on raw_accidents\n",
                "    for delete to _manager \n",
                "    using (true);\n",
                "\n",
                "create policy manager_select_raw_accidents_policy on raw_accidents\n",
                "    for select to _manager\n",
                "    using (vin_number in (\n",
                "        select c.vin_number from cars as c where c.id_parking = (\n",
                "            select ID_parking from managers where username = current_user\n",
                "        )\n",
                "    ));\n",
                "\n",
                "create policy manager_select_raw_contracts_policy on raw_contracts\n",
                "    for select to _manager\n",
                "    using (vin_number in (\n",
                "        select c.vin_number from cars as c where c.id_parking = (\n",
                "            select ID_parking from managers where username = current_user\n",
                "        )\n",
                "    ));\n",
                ""
            ],
            "metadata": {
                "azdata_cell_guid": "6684aa35-dff7-4e02-ba61-33b690d15507",
                "language": "sql"
            },
            "outputs": [
                {
                    "output_type": "display_data",
                    "data": {
                        "text/html": "SET"
                    },
                    "metadata": {}
                },
                {
                    "output_type": "display_data",
                    "data": {
                        "text/html": "ALTER TABLE"
                    },
                    "metadata": {}
                },
                {
                    "output_type": "display_data",
                    "data": {
                        "text/html": "ALTER TABLE"
                    },
                    "metadata": {}
                },
                {
                    "output_type": "display_data",
                    "data": {
                        "text/html": "CREATE POLICY"
                    },
                    "metadata": {}
                },
                {
                    "output_type": "display_data",
                    "data": {
                        "text/html": "CREATE POLICY"
                    },
                    "metadata": {}
                },
                {
                    "output_type": "display_data",
                    "data": {
                        "text/html": "CREATE POLICY"
                    },
                    "metadata": {}
                },
                {
                    "output_type": "display_data",
                    "data": {
                        "text/html": "CREATE POLICY"
                    },
                    "metadata": {}
                },
                {
                    "output_type": "display_data",
                    "data": {
                        "text/html": "CREATE POLICY"
                    },
                    "metadata": {}
                },
                {
                    "output_type": "display_data",
                    "data": {
                        "text/html": "CREATE POLICY"
                    },
                    "metadata": {}
                },
                {
                    "output_type": "display_data",
                    "data": {
                        "text/html": "Total execution time: 00:00:00.031"
                    },
                    "metadata": {}
                }
            ],
            "execution_count": 137
        },
        {
            "cell_type": "markdown",
            "source": [
                "Index"
            ],
            "metadata": {
                "azdata_cell_guid": "c66bca70-def6-4813-9faf-4013309749ef"
            },
            "attachments": {}
        },
        {
            "cell_type": "code",
            "source": [
                "CREATE UNIQUE INDEX index_cars ON cars (vin_number);"
            ],
            "metadata": {
                "azdata_cell_guid": "fb663d2c-4d0b-40d2-9558-2b4d5b6f9af5",
                "language": "sql"
            },
            "outputs": [
                {
                    "output_type": "display_data",
                    "data": {
                        "text/html": "CREATE INDEX"
                    },
                    "metadata": {}
                },
                {
                    "output_type": "display_data",
                    "data": {
                        "text/html": "Total execution time: 00:00:00.012"
                    },
                    "metadata": {}
                }
            ],
            "execution_count": 138
        },
        {
            "cell_type": "markdown",
            "source": [
                "Fill"
            ],
            "metadata": {
                "azdata_cell_guid": "ef9c2c43-103e-4f2b-bf98-17dc294a46e4",
                "language": "sql"
            },
            "attachments": {}
        },
        {
            "cell_type": "code",
            "source": [
                "delete from parkings;\n",
                "delete from managers;\n",
                "delete from clients;\n",
                "delete from raw_accidents;\n",
                "delete from cars;\n",
                "delete from users;\n",
                "\n",
                "\n",
                "drop role if exists karpovato2611;\n",
                "drop role if exists ivanovep1234;\n",
                "drop role if exists petrovdm2345;\n",
                "drop role if exists sidorovama9999;\n",
                "drop role if exists kuznetsovks3355;\n",
                "drop role if exists novikovaod8899;\n",
                "drop role if exists smirnovsp4123;\n",
                "drop role if exists polyakovaai8998;\n",
                "drop role if exists vasilievva7777;\n",
                "drop role if exists kozlovanv6778;\n",
                "drop role if exists nikitinaes8877;\n",
                "drop role if exists alekseevaa8855;\n",
                "drop role if exists maximovam1111;\n",
                "drop role if exists fedorovaf6666;\n",
                "drop role if exists egorova7688;\n",
                "drop role if exists dmitrievai3629;\n",
                "\n",
                "call add_user('karpovato2611', 'password2611');\n",
                "call add_user('ivanovep1234', 'password1234');\n",
                "call add_user('petrovdm2345', 'password2345');\n",
                "call add_user('sidorovama9999', 'password9999');\n",
                "call add_user('kuznetsovks3355', 'password3355');\n",
                "call add_user('novikovaod8899', 'password8899');\n",
                "call add_user('smirnovsp4123', 'password4123');\n",
                "call add_user('polyakovaai8998', 'password8998');\n",
                "call add_user('vasilievva7777', 'password7777');\n",
                "call add_user('kozlovanv6778', 'password6778');\n",
                "call add_user('nikitinaes8877', 'password8877');\n",
                "call add_user('alekseevaa8855', 'password8855');\n",
                "call add_user('maximovam1111', 'password1111');\n",
                "call add_user('fedorovaf6666', 'password6666');\n",
                "call add_user('egorova7688', 'password7688');\n",
                "call add_user('dmitrievai3629', 'password3629');\n",
                "\n",
                "INSERT INTO parkings (ID_parking, address) VALUES \n",
                "(1, 'г. Москва, Улица Тверская, дом 10'),\n",
                "(2, 'г. Москва, Проезд Нижегородская, дом 7'),\n",
                "(3, 'г. Москва, Ленинский проспект, дом 45'),\n",
                "(4, 'г. Москва, Большая Спасская улица, дом 12');\n",
                "\n",
                "INSERT INTO clients (driving_license, name, phone, email, date_of_birth, registration_address, residence_address, username) VALUES \n",
                "('7414292010', 'Карпова Татьяна Олеговна', '89955883514', 'karpova.tatyana1976', '1976-03-24', 'г. Москва, ул. Карла-Маркса, д. 13', 'г. Москва, ул. Карла-Маркса, д. 13', 'karpovato2611'),\n",
                "('5648612345', 'Иванов Егор Павлович', '89951234567', 'ivanov.egor@mail.ru', '1987-05-12', 'г. Москва, ул. Ленина, д. 5', 'г. Москва, ул. Ленина, д. 5', 'ivanovep1234'),\n",
                "('4589623471', 'Петров Денис Максимович', '89957682345', 'petrov.denis@mail.ru', '1995-08-21', 'г. Санкт-Петербург, ул. Приморская, д. 10', 'г. Москва, ул. Пушкина, д. 10', 'petrovdm2345'),\n",
                "('6487239641', 'Сидорова Мария Александровна', '89959999999', 'sidorova.maria@mail.ru', '1989-02-17', 'г. Москва, ул. Пушкина, д. 25', 'г. Москва, ул. Пушкина, д. 25', 'sidorovama9999'),\n",
                "('3578927416', 'Кузнецов Константин Сергеевич', '89953333555', 'kuznetsov.konstantin@mail.ru', '1976-12-04', 'г. Новосибирск, ул. Мира, д. 66', 'г. Москва, ул. Московская, д. 6', 'kuznetsovks3355'),\n",
                "('1426958379', 'Новикова Ольга Дмитриевна', '89957778899', 'novikova.olga@mail.ru', '1975-10-31', 'г. Москва, ул. Лесная, д. 3', 'г. Москва, ул. Ленина, д. 3', 'novikovaod8899'),\n",
                "('3294871692', 'Смирнов Сергей Павлович', '89954441234', 'smirnov.sergey@mail.ru', '1980-07-19', 'г. Владивосток, ул. Центральная, д. 54', 'г. Москва, ул. Красная, д. 50', 'smirnovsp4123'),\n",
                "('8974526813', 'Полякова Анна Игоревна', '89958889988', 'polyakova.anna@mail.ru', '1987-03-28', 'г. Казань, ул. Гагарина, д. 12', 'г. Москва, ул. Ленина, д. 2', 'polyakovaai8998'),\n",
                "('2634890017', 'Васильев Владимир Александрович', '89957777777', 'vasiliev.vladimir@mail.ru', '1973-11-15', 'г. Ростов-на-Дону, ул. Советская, д. 78', 'г. Москва, ул. Светлая, д. 8', 'vasilievva7777'),\n",
                "('3785910035', 'Козлова Наталья Владимировна', '89956667788', 'kozlova.natalia@mail.ru', '1986-02-25', 'г. Челябинск, ул. Ленина, д. 30', 'г. Москва, ул. Большая, д. 32', 'kozlovanv6778'),\n",
                "('4567893210', 'Никитина Елена Сергеевна', '89959998877', 'nikitina.elena@mail.ru', '1990-05-08', 'г. Уфа, ул. Победы, д. 15', 'г. Москва, ул. Первая, д. 75', 'nikitinaes8877'),\n",
                "('1089756423', 'Алексеев Алексей Алексеевич', '89957778855', 'alekseev.aleksei@mail.ru', '1974-08-02', 'г. Самара, ул. Ленина, д. 48', 'г. Москва, ул. Ленина, д. 6', 'alekseevaa8855'),\n",
                "('8945739182', 'Максимов Артем Матвеевич', '89951111111', 'maximov.artem@mail.ru', '1972-12-24', 'г. Волgоград, ул. Пушкина, д. 7', 'г. Москва, ул. Первомайская, д. 17', 'maximovam1111'),\n",
                "('7463879245', 'Федоров Александр Федорович', '89953336666', 'fedorov.alexandr@mail.ru', '1987-06-13', 'г. Омcк, ул. Мира, д. 122', 'г. Москва, ул. Маяковская, д. 22', 'fedorovaf6666'),\n",
                "('5478921436', 'Егорова Екатерина Александровна', '89957778819', 'egorova.ekaterina@mail.ru', '1975-02-15', 'г. Ульяновск, ул. Советская, д. 189', 'г. Москва, ул. Марксисткая, д. 89', 'egorova7688'),\n",
                "('3311248975', 'Дмитриев Андрей Игоревич', '89956453629', 'dmitriev.andrei@mail.ru', '1990-09-14', 'г. Тольятти, ул. Ленина, д. 89', 'г. Москва, ул. Калинина, д. 9', 'dmitrievai3629');\n",
                "\n",
                "INSERT INTO cars (vin_number, cost_per_hour, car_brand, car_color, car_class, transmission_type, fuel_type, locked, ID_parking) VALUES \n",
                "('2C4GJ53XYR6936972', 900, 'Honda', 'черный', 'B', 'A', 'бензин', DEFAULT, 1),\n",
                "('1HGCR2F5XFA02A996', 800, 'Toyota', 'синий', 'C', 'M', 'бензин', DEFAULT, 2),\n",
                "('1HGCR2F5XFA02B001', 750, 'Hyundai', 'зеленый', 'B', 'A', 'гибрид', DEFAULT, 3),\n",
                "('1HGCR2F5XFA02C002', 700, 'BMW', 'черный', 'A', 'M', 'электричество', DEFAULT, 4),\n",
                "('5YJSA1CNXDFP00750', 1200, 'Tesla', 'серебристый', 'E', 'A', 'электричество', DEFAULT, 2),\n",
                "('1G6AB5S3XDPR46200', 750, 'Cadillac', 'красный', 'D', 'A', 'бензин', DEFAULT, 3),\n",
                "('1G1FB1RS4N0101077', 600, 'Chevrolet', 'белый', 'B', 'M', 'бензин', DEFAULT, 4),\n",
                "('1G4PP5LK0E4105633', 800, 'Buick', 'синий', 'C', 'A', 'гибрид', DEFAULT, 1),\n",
                "('9FAHP2HW0DG164988', 650, 'Ford', 'серый', 'E', 'M', 'бензин', DEFAULT, 2),\n",
                "('2S1BM1W74E1128568', 700, 'Mazda', 'синий', 'D', 'A', 'бензин', DEFAULT, 3),\n",
                "('2LMHJ5AT8HGB77688', 850, 'Lincoln', 'черный', 'E', 'A', 'бензин', DEFAULT, 4),\n",
                "('1TDKN3DU4F3253596', 900, 'Toyota', 'красный', 'B', 'M', 'гибрид', DEFAULT, 1),\n",
                "('5YJSA1CN2DFP00750', 1200, 'Tesla', 'зеленый', 'E', 'A', 'электричество', DEFAULT, 2),\n",
                "('1G6AB1S3XDPR46369', 750, 'Cadillac', 'серый', 'D', 'M', 'бензин', DEFAULT, 3),\n",
                "('2C4GJ53KR69369788', 900, 'Honda', 'белый', 'B', 'A', 'бензин', DEFAULT, 4),\n",
                "('5YJSA1CN7DFP00750', 1200, 'Tesla', 'красный', 'E', 'A', 'электричество', DEFAULT, 1),\n",
                "('1G6AB5S3XDPR46344', 750, 'Cadillac', 'серебристый', 'D', 'A', 'бензин', DEFAULT, 2),\n",
                "('9J1FB1RS4D0801067', 600, 'Chevrolet', 'черный', 'B', 'M', 'бензин', DEFAULT, 3),\n",
                "('3G4IO5UD0E4158333', 800, 'Buick', 'серый', 'C', 'A', 'гибрид', DEFAULT, 4),\n",
                "('7FAHP2HW0HK168461', 650, 'Ford', 'красный', 'E', 'A', 'бензин', DEFAULT, 1),\n",
                "('8YK5M1W74E1168354', 700, 'Mazda', 'синий', 'D', 'A', 'бензин', DEFAULT, 2),\n",
                "('2KH7J5AT8HGB78354', 850, 'Lincoln', 'зеленый', 'E', 'M', 'бензин', DEFAULT, 3),\n",
                "('5FGKN3DU4F3257321', 900, 'Toyota', 'белый', 'B', 'A', 'гибрид', DEFAULT, 4),\n",
                "('5KKSA1CN2DFP07632', 1200, 'Tesla', 'серый', 'E', 'A', 'электричество', DEFAULT, 1),\n",
                "('1G6JX1S3XDPR89366', 750, 'Cadillac', 'черный', 'D', 'A', 'бензин', DEFAULT, 2),\n",
                "('2C4GJ53KR69369789', 900, 'Honda', 'красный', 'B', 'M', 'бензин', DEFAULT, 3),\n",
                "('5YHHR1CN7DFP76388', 1200, 'Tesla', 'серебристый', 'E', 'A', 'электричество', DEFAULT, 4),\n",
                "('3G6AB5S3XDPR44569', 750, 'Cadillac', 'белый', 'D', 'A', 'бензин', DEFAULT, 1),\n",
                "('8G1FB1YS4B0101967', 600, 'Chevrolet', 'синий', 'B', 'M', 'бензин', DEFAULT, 2),\n",
                "('9G4WE5SK0K4100451', 800, 'Buick', 'красный', 'C', 'A', 'гибрид', DEFAULT, 3),\n",
                "('8FAHP2KB0DG169056', 650, 'Ford', 'серый', 'E', 'A', 'бензин', DEFAULT, 4),\n",
                "('9H1BM1W74E1156623', 700, 'Mazda', 'зеленый', 'D', 'A', 'гибрид', DEFAULT, 1),\n",
                "('2GN7J5AT8HGB89440', 850, 'Lincoln', 'белый', 'E', 'M', 'бензин', DEFAULT, 2),\n",
                "('6HC8N3DU4F3298541', 900, 'Toyota', 'синий', 'B', 'A', 'гибрид', DEFAULT, 3),\n",
                "('5SDFA1CN2DFP66980', 1200, 'Tesla', 'черный', 'E', 'A', 'электричество', DEFAULT, 4),\n",
                "('1L6AB1S3XDPR48560', 750, 'Cadillac', 'красный', 'D', 'M', 'бензин', DEFAULT, 1),\n",
                "('2C4GJ53KR69369748', 900, 'Honda', 'серый', 'B', 'A', 'бензин', DEFAULT, 2),\n",
                "('5YJSA1CN7LWP77351', 1200, 'Tesla', 'зеленый', 'E', 'A', 'электричество', DEFAULT, 3),\n",
                "('2T6AB5S3XDPR72811', 750, 'Cadillac', 'черный', 'D', 'A', 'бензин', DEFAULT, 4),\n",
                "('7G1FB1RS4C0101583', 600, 'Chevrolet', 'красный', 'B', 'M', 'бензин', DEFAULT, 1),\n",
                "('2G4PP5LP0E4684333', 800, 'Buick', 'серый', 'C', 'A', 'гибрид', DEFAULT, 2),\n",
                "('7FAHP2QR0DG190457', 650, 'Ford', 'зеленый', 'E', 'A', 'бензин', DEFAULT, 3),\n",
                "('8I1BM1W74E1672209', 700, 'Mazda', 'белый', 'D', 'A', 'бензин', DEFAULT, 4),\n",
                "('2HH6J5AT8HGB79981', 850, 'Lincoln', 'синий', 'E', 'M', 'бензин', DEFAULT, 1),\n",
                "('7GUKN3DU4F3286409', 900, 'Toyota', 'черный', 'B', 'A', 'гибрид', DEFAULT, 2),\n",
                "('5GHWA1CN2DFP89567', 1200, 'Tesla', 'серый', 'E', 'A', 'электричество', DEFAULT, 3),\n",
                "('1Z6AB1S3XDPR33719', 750, 'Cadillac', 'красный', 'D', 'M', 'бензин', DEFAULT, 4),\n",
                "('2C4GJ53KR69369796', 900, 'Honda', 'синий', 'B', 'A', 'бензин', DEFAULT, 1),\n",
                "('5KJSA1DG7DFP08843', 1200, 'Tesla', 'черный', 'E', 'A', 'электричество', DEFAULT, 2),\n",
                "('5KLSA1CNXDFP09365', 750, 'Cadillac', 'зеленый', 'D', 'A', 'бензин', DEFAULT, 3),\n",
                "('1J6AB5S3XDPR44369', 700, 'Mazda', 'синий', 'D', 'A', 'БЕНЗИН', DEFAULT, 2),\n",
                "('6NKCV54EZ4M604499', 1100, 'Mercedes-Benz', 'серый', 'C', 'A', 'гибрид', DEFAULT, 2),\n",
                "('1HJHP3EN1AW538231', 800, 'Ford', 'красный', 'A', 'M', 'бензин', DEFAULT, 3),\n",
                "('9M1BK12F761456789', 750, 'Mazda', 'синий', 'B', 'M', 'бензин', DEFAULT, 4),\n",
                "('7H2SW22N2N1V63824', 950, 'Toyota', 'белый', 'C', 'A', 'бензин', DEFAULT, 1),\n",
                "('1BAAM5338YF123456', 1200, 'BMW', 'черный', 'D', 'A', 'бензин', DEFAULT, 2),\n",
                "('7AUZZZ4DX9N012345', 850, 'Audi', 'серый', 'E', 'A', 'бензин', DEFAULT, 3),\n",
                "('1C1PK5SB6E7274536', 1000, 'Chevrolet', 'красный', 'A', 'A', 'бензин', DEFAULT, 4),\n",
                "('3VWZZZ6RZBY123456', 950, 'Volkswagen', 'зеленый', 'B', 'M', 'бензин', DEFAULT, 1),\n",
                "('4H4NA216X1T123456', 900, 'Acura', 'голубой', 'C', 'M', 'бензин', DEFAULT, 2),\n",
                "('1G3NL12E73C123456', 1100, 'Oldsmobile', 'черный', 'D', 'A', 'бензин', DEFAULT, 3),\n",
                "('6AULC68E34A012345', 800, 'Audi', 'серый', 'E', 'A', 'бензин', DEFAULT, 4),\n",
                "('2G1WX15K529123456', 750, 'Chevrolet', 'красный', 'A', 'M', 'бензин', DEFAULT, 1),\n",
                "('9VWZZZ6RZBY098765', 950, 'Volkswagen', 'зеленый', 'B', 'A', 'бензин', DEFAULT, 2),\n",
                "('7P1AD29P07L097012', 1200, 'Porsche', 'белый', 'C', 'A', 'дизель', DEFAULT, 3),\n",
                "('9H4DA3350LS123456', 1000, 'Acura', 'голубой', 'D', 'A', 'бензин', DEFAULT, 4),\n",
                "('4A3AC79L9LU123456', 850, 'Mitsubishi', 'красный', 'A', 'A', 'бензин', DEFAULT, 1),\n",
                "('2A1YD64B32N123456', 950, 'Audi', 'черный', 'B', 'M', 'бензин', DEFAULT, 2),\n",
                "('2LATFY126K3123456', 900, 'Ford', 'серый', 'C', 'M', 'бензин', DEFAULT, 3),\n",
                "('8H4DA9460LS123456', 1100, 'Acura', 'голубой', 'D', 'A', 'бензин', DEFAULT, 4),\n",
                "('3GYFK66N6XG256789', 800, 'Cadillac', 'белый', 'E', 'A', 'гибрид', DEFAULT, 1),\n",
                "('9AULC68E54A123456', 1200, 'Audi', 'черный', 'A', 'A', 'бензин', DEFAULT, 2),\n",
                "('1C3CCBBBXDN666789', 750, 'Chrysler', 'серый', 'B', 'M', 'бензин', DEFAULT, 3),\n",
                "('3C3CFFFH2ET123456', 950, 'Fiat', 'красный', 'C', 'M', 'бензин', DEFAULT, 4),\n",
                "('8VWZZZ6RZBY543210', 900, 'Volkswagen', 'зеленый', 'D', 'A', 'бензин', DEFAULT, 1),\n",
                "('8HMFA15569S789012', 1100, 'Honda', 'серый', 'E', 'A', 'гибрид', DEFAULT, 2),\n",
                "('2GTEC13V271345678', 800, 'GMC', 'белый', 'A', 'A', 'бензин', DEFAULT, 3),\n",
                "('3BAWB33598P012345', 750, 'BMW', 'черный', 'B', 'M', 'бензин', DEFAULT, 4),\n",
                "('3T2BK18U900543210', 950, 'Toyota', 'серебристый', 'C', 'M', 'бензин', DEFAULT, 1),\n",
                "('3D7TT2CT3BG345678', 1000, 'Dodge', 'красный', 'D', 'A', 'бензин', DEFAULT, 2),\n",
                "('5TKJF5C77F3044994', 850, 'Scion', 'оранжевый', 'E', 'A', 'гибрид', DEFAULT, 3),\n",
                "('1GTEC14V291234567', 950, 'GMC', 'зеленый', 'A', 'A', 'бензин', DEFAULT, 4),\n",
                "('1FAFP58201G456789', 900, 'Ford', 'серый', 'B', 'M', 'бензин', DEFAULT, 1),\n",
                "('1HGEM1157XL123456', 1100, 'Honda', 'серебристый', 'C', 'M', 'бензин', DEFAULT, 2),\n",
                "('5BAAM5338XFR12345', 800, 'BMW', 'черный', 'D', 'A', 'бензин', DEFAULT, 3),\n",
                "('4AJWA6FU6F8K91234', 750, 'Jaguar', 'синий', 'E', 'A', 'дизель', DEFAULT, 4),\n",
                "('4TDKDTB30C1449876', 950, 'Toyota', 'оранжевый', 'A', 'A', 'бензин', DEFAULT, 1),\n",
                "('1G8AL54F946123456', 900, 'Saturn', 'серый', 'B', 'M', 'бензин', DEFAULT, 2),\n",
                "('1FAFP55U54G098765', 1200, 'Ford', 'красный', 'C', 'M', 'бензин', DEFAULT, 3),\n",
                "('1FMCU0GX8DUC89012', 1000, 'Ford', 'зеленый', 'D', 'A', 'бензин', DEFAULT, 4),\n",
                "('4MHJF35FDGY702123', 850, 'Hyundai', 'серебристый', 'E', 'A', 'бензин', DEFAULT, 1),\n",
                "('1FMCU9C71CK345678', 950, 'Ford', 'черный', 'A', 'M', 'бензин', DEFAULT, 2),\n",
                "('3N8AZ2KR8CT123456', 900, 'Nissan', 'синий', 'B', 'M', 'бензин', DEFAULT, 3),\n",
                "('1G1ZB5E14CF123456', 1100, 'Chevrolet', 'серый', 'C', 'A', 'бензин', DEFAULT, 4),\n",
                "('3VWZZZ6RZBY987654', 800, 'Volkswagen', 'черный', 'D', 'A', 'бензин', DEFAULT, 1),\n",
                "('8V4940DLX81678901', 750, 'Volvo', 'белый', 'E', 'A', 'бензин', DEFAULT, 2),\n",
                "('9TDKTUD32DDS61008', 950, 'Toyota', 'серый', 'A', 'A', 'гибрид', DEFAULT, 3),\n",
                "('2NKCV54EZ4M604499', 1100, 'Mercedes-Benz', 'серый', 'C', 'A', 'гибрид', DEFAULT, 2),\n",
                "('1FAHP3EN1AW123456', 800, 'Ford', 'красный', 'A', 'M', 'бензин', DEFAULT, 3),\n",
                "('7T2SW22N2N1V65432', 950, 'Toyota', 'белый', 'C', 'A', 'бензин', DEFAULT, 1),\n",
                "('3BAAM5338YF123456', 1200, 'BMW', 'черный', 'D', 'A', 'бензин', DEFAULT, 2),\n",
                "('2AUZZZ4DX9N012345', 850, 'Audi', 'серый', 'E', 'A', 'гибрид', DEFAULT, 3),\n",
                "('1M1PK5SB6E7776804', 1000, 'Chevrolet', 'красный', 'A', 'A', 'бензин', DEFAULT, 4),\n",
                "('7VWZZZ6RZBY123456', 950, 'Volkswagen', 'зеленый', 'B', 'M', 'бензин', DEFAULT, 1),\n",
                "('8H4NA216X1T123456', 900, 'Acura', 'голубой', 'C', 'M', 'бензин', DEFAULT, 2),\n",
                "('1G3NL12E73C734299', 1100, 'Oldsmobile', 'черный', 'D', 'A', 'бензин', DEFAULT, 3);"
            ],
            "metadata": {
                "azdata_cell_guid": "9d88d339-a0f2-489b-a3b4-3f8b540cec14",
                "language": "sql"
            },
            "outputs": [
                {
                    "output_type": "display_data",
                    "data": {
                        "text/html": "DELETE 0"
                    },
                    "metadata": {}
                },
                {
                    "output_type": "display_data",
                    "data": {
                        "text/html": "DELETE 0"
                    },
                    "metadata": {}
                },
                {
                    "output_type": "display_data",
                    "data": {
                        "text/html": "DELETE 0"
                    },
                    "metadata": {}
                },
                {
                    "output_type": "display_data",
                    "data": {
                        "text/html": "DELETE 0"
                    },
                    "metadata": {}
                },
                {
                    "output_type": "display_data",
                    "data": {
                        "text/html": "DELETE 0"
                    },
                    "metadata": {}
                },
                {
                    "output_type": "display_data",
                    "data": {
                        "text/html": "DELETE 0"
                    },
                    "metadata": {}
                },
                {
                    "output_type": "display_data",
                    "data": {
                        "text/html": "DROP ROLE"
                    },
                    "metadata": {}
                },
                {
                    "output_type": "display_data",
                    "data": {
                        "text/html": "DROP ROLE"
                    },
                    "metadata": {}
                },
                {
                    "output_type": "display_data",
                    "data": {
                        "text/html": "DROP ROLE"
                    },
                    "metadata": {}
                },
                {
                    "output_type": "display_data",
                    "data": {
                        "text/html": "DROP ROLE"
                    },
                    "metadata": {}
                },
                {
                    "output_type": "display_data",
                    "data": {
                        "text/html": "DROP ROLE"
                    },
                    "metadata": {}
                },
                {
                    "output_type": "display_data",
                    "data": {
                        "text/html": "DROP ROLE"
                    },
                    "metadata": {}
                },
                {
                    "output_type": "display_data",
                    "data": {
                        "text/html": "DROP ROLE"
                    },
                    "metadata": {}
                },
                {
                    "output_type": "display_data",
                    "data": {
                        "text/html": "DROP ROLE"
                    },
                    "metadata": {}
                },
                {
                    "output_type": "display_data",
                    "data": {
                        "text/html": "DROP ROLE"
                    },
                    "metadata": {}
                },
                {
                    "output_type": "display_data",
                    "data": {
                        "text/html": "DROP ROLE"
                    },
                    "metadata": {}
                },
                {
                    "output_type": "display_data",
                    "data": {
                        "text/html": "DROP ROLE"
                    },
                    "metadata": {}
                },
                {
                    "output_type": "display_data",
                    "data": {
                        "text/html": "DROP ROLE"
                    },
                    "metadata": {}
                },
                {
                    "output_type": "display_data",
                    "data": {
                        "text/html": "DROP ROLE"
                    },
                    "metadata": {}
                },
                {
                    "output_type": "display_data",
                    "data": {
                        "text/html": "DROP ROLE"
                    },
                    "metadata": {}
                },
                {
                    "output_type": "display_data",
                    "data": {
                        "text/html": "DROP ROLE"
                    },
                    "metadata": {}
                },
                {
                    "output_type": "display_data",
                    "data": {
                        "text/html": "DROP ROLE"
                    },
                    "metadata": {}
                },
                {
                    "output_type": "display_data",
                    "data": {
                        "text/html": "CALL"
                    },
                    "metadata": {}
                },
                {
                    "output_type": "display_data",
                    "data": {
                        "text/html": "CALL"
                    },
                    "metadata": {}
                },
                {
                    "output_type": "display_data",
                    "data": {
                        "text/html": "CALL"
                    },
                    "metadata": {}
                },
                {
                    "output_type": "display_data",
                    "data": {
                        "text/html": "CALL"
                    },
                    "metadata": {}
                },
                {
                    "output_type": "display_data",
                    "data": {
                        "text/html": "CALL"
                    },
                    "metadata": {}
                },
                {
                    "output_type": "display_data",
                    "data": {
                        "text/html": "CALL"
                    },
                    "metadata": {}
                },
                {
                    "output_type": "display_data",
                    "data": {
                        "text/html": "CALL"
                    },
                    "metadata": {}
                },
                {
                    "output_type": "display_data",
                    "data": {
                        "text/html": "CALL"
                    },
                    "metadata": {}
                },
                {
                    "output_type": "display_data",
                    "data": {
                        "text/html": "CALL"
                    },
                    "metadata": {}
                },
                {
                    "output_type": "display_data",
                    "data": {
                        "text/html": "CALL"
                    },
                    "metadata": {}
                },
                {
                    "output_type": "display_data",
                    "data": {
                        "text/html": "CALL"
                    },
                    "metadata": {}
                },
                {
                    "output_type": "display_data",
                    "data": {
                        "text/html": "CALL"
                    },
                    "metadata": {}
                },
                {
                    "output_type": "display_data",
                    "data": {
                        "text/html": "CALL"
                    },
                    "metadata": {}
                },
                {
                    "output_type": "display_data",
                    "data": {
                        "text/html": "CALL"
                    },
                    "metadata": {}
                },
                {
                    "output_type": "display_data",
                    "data": {
                        "text/html": "CALL"
                    },
                    "metadata": {}
                },
                {
                    "output_type": "display_data",
                    "data": {
                        "text/html": "CALL"
                    },
                    "metadata": {}
                },
                {
                    "output_type": "display_data",
                    "data": {
                        "text/html": "INSERT 0 4"
                    },
                    "metadata": {}
                },
                {
                    "output_type": "display_data",
                    "data": {
                        "text/html": "INSERT 0 16"
                    },
                    "metadata": {}
                },
                {
                    "output_type": "display_data",
                    "data": {
                        "text/html": "INSERT 0 106"
                    },
                    "metadata": {}
                },
                {
                    "output_type": "display_data",
                    "data": {
                        "text/html": "Total execution time: 00:00:00.236"
                    },
                    "metadata": {}
                }
            ],
            "execution_count": 139
        },
        {
            "cell_type": "code",
            "source": [
                "delete from raw_accidents; \r\n",
                "\r\n",
                "select add_accident('karpovato2611', '2C4GJ53XYR6936972');\r\n",
                "select add_accident('ivanovep1234', '1HGCR2F5XFA02A996');\r\n",
                "select add_accident('petrovdm2345', '1HGCR2F5XFA02B001');\r\n",
                "select add_accident('sidorovama9999', '1HGCR2F5XFA02C002');\r\n",
                "select add_accident('kuznetsovks3355', '5YJSA1CNXDFP00750');\r\n",
                "select add_accident('novikovaod8899', '1G6AB5S3XDPR46200');\r\n",
                "select add_accident('smirnovsp4123', '1G1FB1RS4N0101077');\r\n",
                "select add_accident('polyakovaai8998', '1G4PP5LK0E4105633');\r\n",
                "select add_accident('vasilievva7777', '9FAHP2HW0DG164988');\r\n",
                "select add_accident('kozlovanv6778', '2S1BM1W74E1128568');"
            ],
            "metadata": {
                "azdata_cell_guid": "582a2d8a-d49e-4ee6-8aa2-6df2fd5345b1",
                "language": "sql"
            },
            "outputs": [
                {
                    "output_type": "display_data",
                    "data": {
                        "text/html": "DELETE 0"
                    },
                    "metadata": {}
                },
                {
                    "output_type": "display_data",
                    "data": {
                        "text/html": "(1 row(s) affected)"
                    },
                    "metadata": {}
                },
                {
                    "output_type": "display_data",
                    "data": {
                        "text/html": "(1 row(s) affected)"
                    },
                    "metadata": {}
                },
                {
                    "output_type": "display_data",
                    "data": {
                        "text/html": "(1 row(s) affected)"
                    },
                    "metadata": {}
                },
                {
                    "output_type": "display_data",
                    "data": {
                        "text/html": "(1 row(s) affected)"
                    },
                    "metadata": {}
                },
                {
                    "output_type": "display_data",
                    "data": {
                        "text/html": "(1 row(s) affected)"
                    },
                    "metadata": {}
                },
                {
                    "output_type": "display_data",
                    "data": {
                        "text/html": "(1 row(s) affected)"
                    },
                    "metadata": {}
                },
                {
                    "output_type": "display_data",
                    "data": {
                        "text/html": "(1 row(s) affected)"
                    },
                    "metadata": {}
                },
                {
                    "output_type": "display_data",
                    "data": {
                        "text/html": "(1 row(s) affected)"
                    },
                    "metadata": {}
                },
                {
                    "output_type": "display_data",
                    "data": {
                        "text/html": "(1 row(s) affected)"
                    },
                    "metadata": {}
                },
                {
                    "output_type": "display_data",
                    "data": {
                        "text/html": "(1 row(s) affected)"
                    },
                    "metadata": {}
                },
                {
                    "output_type": "display_data",
                    "data": {
                        "text/html": "Total execution time: 00:00:00.081"
                    },
                    "metadata": {}
                },
                {
                    "output_type": "execute_result",
                    "metadata": {},
                    "execution_count": 140,
                    "data": {
                        "application/vnd.dataresource+json": {
                            "schema": {
                                "fields": [
                                    {
                                        "name": "add_accident"
                                    }
                                ]
                            },
                            "data": [
                                {
                                    "add_accident": "3328"
                                }
                            ]
                        },
                        "text/html": [
                            "<table>",
                            "<tr><th>add_accident</th></tr>",
                            "<tr><td>3328</td></tr>",
                            "</table>"
                        ]
                    }
                },
                {
                    "output_type": "execute_result",
                    "metadata": {},
                    "execution_count": 140,
                    "data": {
                        "application/vnd.dataresource+json": {
                            "schema": {
                                "fields": [
                                    {
                                        "name": "add_accident"
                                    }
                                ]
                            },
                            "data": [
                                {
                                    "add_accident": "7975"
                                }
                            ]
                        },
                        "text/html": [
                            "<table>",
                            "<tr><th>add_accident</th></tr>",
                            "<tr><td>7975</td></tr>",
                            "</table>"
                        ]
                    }
                },
                {
                    "output_type": "execute_result",
                    "metadata": {},
                    "execution_count": 140,
                    "data": {
                        "application/vnd.dataresource+json": {
                            "schema": {
                                "fields": [
                                    {
                                        "name": "add_accident"
                                    }
                                ]
                            },
                            "data": [
                                {
                                    "add_accident": "9643"
                                }
                            ]
                        },
                        "text/html": [
                            "<table>",
                            "<tr><th>add_accident</th></tr>",
                            "<tr><td>9643</td></tr>",
                            "</table>"
                        ]
                    }
                },
                {
                    "output_type": "execute_result",
                    "metadata": {},
                    "execution_count": 140,
                    "data": {
                        "application/vnd.dataresource+json": {
                            "schema": {
                                "fields": [
                                    {
                                        "name": "add_accident"
                                    }
                                ]
                            },
                            "data": [
                                {
                                    "add_accident": "6296"
                                }
                            ]
                        },
                        "text/html": [
                            "<table>",
                            "<tr><th>add_accident</th></tr>",
                            "<tr><td>6296</td></tr>",
                            "</table>"
                        ]
                    }
                },
                {
                    "output_type": "execute_result",
                    "metadata": {},
                    "execution_count": 140,
                    "data": {
                        "application/vnd.dataresource+json": {
                            "schema": {
                                "fields": [
                                    {
                                        "name": "add_accident"
                                    }
                                ]
                            },
                            "data": [
                                {
                                    "add_accident": "522"
                                }
                            ]
                        },
                        "text/html": [
                            "<table>",
                            "<tr><th>add_accident</th></tr>",
                            "<tr><td>522</td></tr>",
                            "</table>"
                        ]
                    }
                },
                {
                    "output_type": "execute_result",
                    "metadata": {},
                    "execution_count": 140,
                    "data": {
                        "application/vnd.dataresource+json": {
                            "schema": {
                                "fields": [
                                    {
                                        "name": "add_accident"
                                    }
                                ]
                            },
                            "data": [
                                {
                                    "add_accident": "5511"
                                }
                            ]
                        },
                        "text/html": [
                            "<table>",
                            "<tr><th>add_accident</th></tr>",
                            "<tr><td>5511</td></tr>",
                            "</table>"
                        ]
                    }
                },
                {
                    "output_type": "execute_result",
                    "metadata": {},
                    "execution_count": 140,
                    "data": {
                        "application/vnd.dataresource+json": {
                            "schema": {
                                "fields": [
                                    {
                                        "name": "add_accident"
                                    }
                                ]
                            },
                            "data": [
                                {
                                    "add_accident": "5410"
                                }
                            ]
                        },
                        "text/html": [
                            "<table>",
                            "<tr><th>add_accident</th></tr>",
                            "<tr><td>5410</td></tr>",
                            "</table>"
                        ]
                    }
                },
                {
                    "output_type": "execute_result",
                    "metadata": {},
                    "execution_count": 140,
                    "data": {
                        "application/vnd.dataresource+json": {
                            "schema": {
                                "fields": [
                                    {
                                        "name": "add_accident"
                                    }
                                ]
                            },
                            "data": [
                                {
                                    "add_accident": "5157"
                                }
                            ]
                        },
                        "text/html": [
                            "<table>",
                            "<tr><th>add_accident</th></tr>",
                            "<tr><td>5157</td></tr>",
                            "</table>"
                        ]
                    }
                },
                {
                    "output_type": "execute_result",
                    "metadata": {},
                    "execution_count": 140,
                    "data": {
                        "application/vnd.dataresource+json": {
                            "schema": {
                                "fields": [
                                    {
                                        "name": "add_accident"
                                    }
                                ]
                            },
                            "data": [
                                {
                                    "add_accident": "6194"
                                }
                            ]
                        },
                        "text/html": [
                            "<table>",
                            "<tr><th>add_accident</th></tr>",
                            "<tr><td>6194</td></tr>",
                            "</table>"
                        ]
                    }
                },
                {
                    "output_type": "execute_result",
                    "metadata": {},
                    "execution_count": 140,
                    "data": {
                        "application/vnd.dataresource+json": {
                            "schema": {
                                "fields": [
                                    {
                                        "name": "add_accident"
                                    }
                                ]
                            },
                            "data": [
                                {
                                    "add_accident": "1939"
                                }
                            ]
                        },
                        "text/html": [
                            "<table>",
                            "<tr><th>add_accident</th></tr>",
                            "<tr><td>1939</td></tr>",
                            "</table>"
                        ]
                    }
                }
            ],
            "execution_count": 140
        },
        {
            "cell_type": "code",
            "source": [
                "drop role if exists petrovaai21;\n",
                "drop role if exists kozlovds75;\n",
                "drop role if exists smirnovae12;\n",
                "drop role if exists kuznetsovma88;\n",
                "drop role if exists vasilyeava44;\n",
                "drop role if exists novikovia99;\n",
                "drop role if exists pavlovamd01;\n",
                "drop role if exists morozovpi67;\n",
                "drop role if exists alexeevais23;\n",
                "drop role if exists sidorovav77;\n",
                "\n",
                "call add_manager('petrovaai21', 'password21');\n",
                "call add_manager('kozlovds75', 'password75');\n",
                "call add_manager('smirnovae12', 'password12');\n",
                "call add_manager('kuznetsovma88', 'password88');\n",
                "call add_manager('vasilyeava44', 'password44');\n",
                "call add_manager('novikovia99', 'password99');\n",
                "call add_manager('pavlovamd01', 'password01');\n",
                "call add_manager('morozovpi67', 'password67');\n",
                "call add_manager('alexeevais23', 'password23');\n",
                "call add_manager('sidorovav77', 'password77');\n",
                "\n",
                "INSERT INTO managers (manager_passport_details, name, phone, expirience, salary, username, ID_parking) VALUES \n",
                "('2451298347', 'Петрова Анна Ивановна', '79261123456', 5, 110000, 'petrovaai21', 2),\n",
                "('3785621940', 'Козлов Дмитрий Сергеевич', '79257789456', 10, 140000, 'kozlovds75', 1),\n",
                "('4856912740', 'Смирнова Екатерина Павловна', '79251234567', 15, 150000, 'smirnovae12', 4),\n",
                "('5738291045', 'Кузнецов Максим Александрович', '79254123897', 20, 200000, 'kuznetsovma88', 3),\n",
                "('6194038572', 'Васильева Александра Владимировна', '79258736745', 25, 250000, 'vasilyeava44', 2),\n",
                "('7348519260', 'Новиков Игорь Артемович', '79256123984', 3, 90000, 'novikovia99', 1),\n",
                "('8420365197', 'Павлова Марина Дмитриевна', '79257789012', 2, 70000, 'pavlovamd01', 4),\n",
                "('9572304618', 'Морозов Павел Игоревич', '79251235678', 4, 100000, 'morozovpi67', 3),\n",
                "('1057264938', 'Алексеева Ирина Сергеевна', '79251123897', 1, 55000, 'alexeevais23', 2),\n",
                "('1184365927', 'Сидоров Алексей Владимирович', '79258716745', 8, 120000, 'sidorovav77', 1);"
            ],
            "metadata": {
                "azdata_cell_guid": "57004676-e265-4a1d-b25a-c4dfea8804ea",
                "language": "sql"
            },
            "outputs": [
                {
                    "output_type": "display_data",
                    "data": {
                        "text/html": "DROP ROLE"
                    },
                    "metadata": {}
                },
                {
                    "output_type": "display_data",
                    "data": {
                        "text/html": "DROP ROLE"
                    },
                    "metadata": {}
                },
                {
                    "output_type": "display_data",
                    "data": {
                        "text/html": "DROP ROLE"
                    },
                    "metadata": {}
                },
                {
                    "output_type": "display_data",
                    "data": {
                        "text/html": "DROP ROLE"
                    },
                    "metadata": {}
                },
                {
                    "output_type": "display_data",
                    "data": {
                        "text/html": "DROP ROLE"
                    },
                    "metadata": {}
                },
                {
                    "output_type": "display_data",
                    "data": {
                        "text/html": "DROP ROLE"
                    },
                    "metadata": {}
                },
                {
                    "output_type": "display_data",
                    "data": {
                        "text/html": "DROP ROLE"
                    },
                    "metadata": {}
                },
                {
                    "output_type": "display_data",
                    "data": {
                        "text/html": "DROP ROLE"
                    },
                    "metadata": {}
                },
                {
                    "output_type": "display_data",
                    "data": {
                        "text/html": "DROP ROLE"
                    },
                    "metadata": {}
                },
                {
                    "output_type": "display_data",
                    "data": {
                        "text/html": "DROP ROLE"
                    },
                    "metadata": {}
                },
                {
                    "output_type": "display_data",
                    "data": {
                        "text/html": "CALL"
                    },
                    "metadata": {}
                },
                {
                    "output_type": "display_data",
                    "data": {
                        "text/html": "CALL"
                    },
                    "metadata": {}
                },
                {
                    "output_type": "display_data",
                    "data": {
                        "text/html": "CALL"
                    },
                    "metadata": {}
                },
                {
                    "output_type": "display_data",
                    "data": {
                        "text/html": "CALL"
                    },
                    "metadata": {}
                },
                {
                    "output_type": "display_data",
                    "data": {
                        "text/html": "CALL"
                    },
                    "metadata": {}
                },
                {
                    "output_type": "display_data",
                    "data": {
                        "text/html": "CALL"
                    },
                    "metadata": {}
                },
                {
                    "output_type": "display_data",
                    "data": {
                        "text/html": "CALL"
                    },
                    "metadata": {}
                },
                {
                    "output_type": "display_data",
                    "data": {
                        "text/html": "CALL"
                    },
                    "metadata": {}
                },
                {
                    "output_type": "display_data",
                    "data": {
                        "text/html": "CALL"
                    },
                    "metadata": {}
                },
                {
                    "output_type": "display_data",
                    "data": {
                        "text/html": "CALL"
                    },
                    "metadata": {}
                },
                {
                    "output_type": "display_data",
                    "data": {
                        "text/html": "INSERT 0 10"
                    },
                    "metadata": {}
                },
                {
                    "output_type": "display_data",
                    "data": {
                        "text/html": "Total execution time: 00:00:00.096"
                    },
                    "metadata": {}
                }
            ],
            "execution_count": 141
        },
        {
            "cell_type": "code",
            "source": [
                "select add_contract('karpovato2611', '2C4GJ53XYR6936972', '6 hours');\n",
                "select add_contract('ivanovep1234', '1HGCR2F5XFA02A996', '5 hours');\n",
                "select add_contract('petrovdm2345', '1HGCR2F5XFA02B001', '8 hours');\n",
                "select add_contract('sidorovama9999', '1HGCR2F5XFA02C002', '2 hours');\n",
                "select add_contract('kuznetsovks3355', '5YJSA1CNXDFP00750', '5 hours');\n",
                "select add_contract('novikovaod8899', '1G6AB5S3XDPR46200', '8 hours');\n",
                "select add_contract('smirnovsp4123', '1G1FB1RS4N0101077', '11 hours');\n",
                "select add_contract('polyakovaai8998', '1G4PP5LK0E4105633', '7 hours');\n",
                "select add_contract('vasilievva7777', '9FAHP2HW0DG164988', '15 hours');\n",
                "select add_contract('kozlovanv6778', '2S1BM1W74E1128568', '4 hours');\n",
                "select add_contract('nikitinaes8877', '2LMHJ5AT8HGB77688', '18 hours');"
            ],
            "metadata": {
                "azdata_cell_guid": "17c1539d-0d81-4fb8-94ce-136490f87708",
                "language": "sql"
            },
            "outputs": [
                {
                    "output_type": "display_data",
                    "data": {
                        "text/html": "(1 row(s) affected)"
                    },
                    "metadata": {}
                },
                {
                    "output_type": "display_data",
                    "data": {
                        "text/html": "(1 row(s) affected)"
                    },
                    "metadata": {}
                },
                {
                    "output_type": "display_data",
                    "data": {
                        "text/html": "(1 row(s) affected)"
                    },
                    "metadata": {}
                },
                {
                    "output_type": "display_data",
                    "data": {
                        "text/html": "(1 row(s) affected)"
                    },
                    "metadata": {}
                },
                {
                    "output_type": "display_data",
                    "data": {
                        "text/html": "(1 row(s) affected)"
                    },
                    "metadata": {}
                },
                {
                    "output_type": "display_data",
                    "data": {
                        "text/html": "(1 row(s) affected)"
                    },
                    "metadata": {}
                },
                {
                    "output_type": "display_data",
                    "data": {
                        "text/html": "(1 row(s) affected)"
                    },
                    "metadata": {}
                },
                {
                    "output_type": "display_data",
                    "data": {
                        "text/html": "(1 row(s) affected)"
                    },
                    "metadata": {}
                },
                {
                    "output_type": "display_data",
                    "data": {
                        "text/html": "(1 row(s) affected)"
                    },
                    "metadata": {}
                },
                {
                    "output_type": "display_data",
                    "data": {
                        "text/html": "(1 row(s) affected)"
                    },
                    "metadata": {}
                },
                {
                    "output_type": "display_data",
                    "data": {
                        "text/html": "(1 row(s) affected)"
                    },
                    "metadata": {}
                },
                {
                    "output_type": "display_data",
                    "data": {
                        "text/html": "Total execution time: 00:00:00.064"
                    },
                    "metadata": {}
                },
                {
                    "output_type": "execute_result",
                    "metadata": {},
                    "execution_count": 142,
                    "data": {
                        "application/vnd.dataresource+json": {
                            "schema": {
                                "fields": [
                                    {
                                        "name": "add_contract"
                                    }
                                ]
                            },
                            "data": [
                                {
                                    "add_contract": "8645"
                                }
                            ]
                        },
                        "text/html": [
                            "<table>",
                            "<tr><th>add_contract</th></tr>",
                            "<tr><td>8645</td></tr>",
                            "</table>"
                        ]
                    }
                },
                {
                    "output_type": "execute_result",
                    "metadata": {},
                    "execution_count": 142,
                    "data": {
                        "application/vnd.dataresource+json": {
                            "schema": {
                                "fields": [
                                    {
                                        "name": "add_contract"
                                    }
                                ]
                            },
                            "data": [
                                {
                                    "add_contract": "3079"
                                }
                            ]
                        },
                        "text/html": [
                            "<table>",
                            "<tr><th>add_contract</th></tr>",
                            "<tr><td>3079</td></tr>",
                            "</table>"
                        ]
                    }
                },
                {
                    "output_type": "execute_result",
                    "metadata": {},
                    "execution_count": 142,
                    "data": {
                        "application/vnd.dataresource+json": {
                            "schema": {
                                "fields": [
                                    {
                                        "name": "add_contract"
                                    }
                                ]
                            },
                            "data": [
                                {
                                    "add_contract": "1212"
                                }
                            ]
                        },
                        "text/html": [
                            "<table>",
                            "<tr><th>add_contract</th></tr>",
                            "<tr><td>1212</td></tr>",
                            "</table>"
                        ]
                    }
                },
                {
                    "output_type": "execute_result",
                    "metadata": {},
                    "execution_count": 142,
                    "data": {
                        "application/vnd.dataresource+json": {
                            "schema": {
                                "fields": [
                                    {
                                        "name": "add_contract"
                                    }
                                ]
                            },
                            "data": [
                                {
                                    "add_contract": "6524"
                                }
                            ]
                        },
                        "text/html": [
                            "<table>",
                            "<tr><th>add_contract</th></tr>",
                            "<tr><td>6524</td></tr>",
                            "</table>"
                        ]
                    }
                },
                {
                    "output_type": "execute_result",
                    "metadata": {},
                    "execution_count": 142,
                    "data": {
                        "application/vnd.dataresource+json": {
                            "schema": {
                                "fields": [
                                    {
                                        "name": "add_contract"
                                    }
                                ]
                            },
                            "data": [
                                {
                                    "add_contract": "868"
                                }
                            ]
                        },
                        "text/html": [
                            "<table>",
                            "<tr><th>add_contract</th></tr>",
                            "<tr><td>868</td></tr>",
                            "</table>"
                        ]
                    }
                },
                {
                    "output_type": "execute_result",
                    "metadata": {},
                    "execution_count": 142,
                    "data": {
                        "application/vnd.dataresource+json": {
                            "schema": {
                                "fields": [
                                    {
                                        "name": "add_contract"
                                    }
                                ]
                            },
                            "data": [
                                {
                                    "add_contract": "1579"
                                }
                            ]
                        },
                        "text/html": [
                            "<table>",
                            "<tr><th>add_contract</th></tr>",
                            "<tr><td>1579</td></tr>",
                            "</table>"
                        ]
                    }
                },
                {
                    "output_type": "execute_result",
                    "metadata": {},
                    "execution_count": 142,
                    "data": {
                        "application/vnd.dataresource+json": {
                            "schema": {
                                "fields": [
                                    {
                                        "name": "add_contract"
                                    }
                                ]
                            },
                            "data": [
                                {
                                    "add_contract": "7463"
                                }
                            ]
                        },
                        "text/html": [
                            "<table>",
                            "<tr><th>add_contract</th></tr>",
                            "<tr><td>7463</td></tr>",
                            "</table>"
                        ]
                    }
                },
                {
                    "output_type": "execute_result",
                    "metadata": {},
                    "execution_count": 142,
                    "data": {
                        "application/vnd.dataresource+json": {
                            "schema": {
                                "fields": [
                                    {
                                        "name": "add_contract"
                                    }
                                ]
                            },
                            "data": [
                                {
                                    "add_contract": "4892"
                                }
                            ]
                        },
                        "text/html": [
                            "<table>",
                            "<tr><th>add_contract</th></tr>",
                            "<tr><td>4892</td></tr>",
                            "</table>"
                        ]
                    }
                },
                {
                    "output_type": "execute_result",
                    "metadata": {},
                    "execution_count": 142,
                    "data": {
                        "application/vnd.dataresource+json": {
                            "schema": {
                                "fields": [
                                    {
                                        "name": "add_contract"
                                    }
                                ]
                            },
                            "data": [
                                {
                                    "add_contract": "1165"
                                }
                            ]
                        },
                        "text/html": [
                            "<table>",
                            "<tr><th>add_contract</th></tr>",
                            "<tr><td>1165</td></tr>",
                            "</table>"
                        ]
                    }
                },
                {
                    "output_type": "execute_result",
                    "metadata": {},
                    "execution_count": 142,
                    "data": {
                        "application/vnd.dataresource+json": {
                            "schema": {
                                "fields": [
                                    {
                                        "name": "add_contract"
                                    }
                                ]
                            },
                            "data": [
                                {
                                    "add_contract": "9376"
                                }
                            ]
                        },
                        "text/html": [
                            "<table>",
                            "<tr><th>add_contract</th></tr>",
                            "<tr><td>9376</td></tr>",
                            "</table>"
                        ]
                    }
                },
                {
                    "output_type": "execute_result",
                    "metadata": {},
                    "execution_count": 142,
                    "data": {
                        "application/vnd.dataresource+json": {
                            "schema": {
                                "fields": [
                                    {
                                        "name": "add_contract"
                                    }
                                ]
                            },
                            "data": [
                                {
                                    "add_contract": "3944"
                                }
                            ]
                        },
                        "text/html": [
                            "<table>",
                            "<tr><th>add_contract</th></tr>",
                            "<tr><td>3944</td></tr>",
                            "</table>"
                        ]
                    }
                }
            ],
            "execution_count": 142
        },
        {
            "cell_type": "code",
            "source": [
                "select * from accident_archive;\r\n",
                "select * from contract_archive;\r\n",
                "select * from raw_accidents;\r\n",
                "select * from raw_contracts;\r\n",
                "select * from cars;\r\n",
                "select * from clients;\r\n",
                "select * from managers;\r\n",
                "select * from parkings;\r\n",
                "select * from users;"
            ],
            "metadata": {
                "azdata_cell_guid": "4ddd11b9-7d89-44e8-ac78-91d0908bd13f",
                "language": "sql"
            },
            "outputs": [
                {
                    "output_type": "display_data",
                    "data": {
                        "text/html": "Server closed the connection unexpectedly. Attempting to reconnect..."
                    },
                    "metadata": {}
                },
                {
                    "output_type": "display_data",
                    "data": {
                        "text/html": "(3 row(s) affected)"
                    },
                    "metadata": {}
                },
                {
                    "output_type": "display_data",
                    "data": {
                        "text/html": "(7 row(s) affected)"
                    },
                    "metadata": {}
                },
                {
                    "output_type": "display_data",
                    "data": {
                        "text/html": "(8 row(s) affected)"
                    },
                    "metadata": {}
                },
                {
                    "output_type": "display_data",
                    "data": {
                        "text/html": "(106 row(s) affected)"
                    },
                    "metadata": {}
                },
                {
                    "output_type": "display_data",
                    "data": {
                        "text/html": "(16 row(s) affected)"
                    },
                    "metadata": {}
                },
                {
                    "output_type": "display_data",
                    "data": {
                        "text/html": "(10 row(s) affected)"
                    },
                    "metadata": {}
                },
                {
                    "output_type": "display_data",
                    "data": {
                        "text/html": "(4 row(s) affected)"
                    },
                    "metadata": {}
                },
                {
                    "output_type": "display_data",
                    "data": {
                        "text/html": "(26 row(s) affected)"
                    },
                    "metadata": {}
                },
                {
                    "output_type": "display_data",
                    "data": {
                        "text/html": "Total execution time: 00:00:00.040"
                    },
                    "metadata": {}
                },
                {
                    "output_type": "display_data",
                    "data": {
                        "text/html": "Total execution time: 00:00:00.040"
                    },
                    "metadata": {}
                },
                {
                    "output_type": "execute_result",
                    "metadata": {},
                    "execution_count": 143,
                    "data": {
                        "application/vnd.dataresource+json": {
                            "schema": {
                                "fields": [
                                    {
                                        "name": "id_record"
                                    },
                                    {
                                        "name": "id_accident"
                                    },
                                    {
                                        "name": "report_date"
                                    },
                                    {
                                        "name": "car_vin_number"
                                    },
                                    {
                                        "name": "client_driving_license"
                                    },
                                    {
                                        "name": "client_name"
                                    },
                                    {
                                        "name": "phone_number"
                                    }
                                ]
                            },
                            "data": [
                                {
                                    "id_record": "1",
                                    "id_accident": "7975",
                                    "report_date": "2023-12-25",
                                    "car_vin_number": "1HGCR2F5XFA02A996",
                                    "client_driving_license": "5648612345",
                                    "client_name": "Иванов Егор Павлович",
                                    "phone_number": "89951234567"
                                },
                                {
                                    "id_record": "2",
                                    "id_accident": "522",
                                    "report_date": "2023-12-25",
                                    "car_vin_number": "5YJSA1CNXDFP00750",
                                    "client_driving_license": "3578927416",
                                    "client_name": "Кузнецов Константин Сергеевич",
                                    "phone_number": "89953333555"
                                },
                                {
                                    "id_record": "3",
                                    "id_accident": "6194",
                                    "report_date": "2023-12-25",
                                    "car_vin_number": "9FAHP2HW0DG164988",
                                    "client_driving_license": "2634890017",
                                    "client_name": "Васильев Владимир Александрович",
                                    "phone_number": "89957777777"
                                }
                            ]
                        },
                        "text/html": [
                            "<table>",
                            "<tr><th>id_record</th><th>id_accident</th><th>report_date</th><th>car_vin_number</th><th>client_driving_license</th><th>client_name</th><th>phone_number</th></tr>",
                            "<tr><td>1</td><td>7975</td><td>2023-12-25</td><td>1HGCR2F5XFA02A996</td><td>5648612345</td><td>Иванов Егор Павлович</td><td>89951234567</td></tr>",
                            "<tr><td>2</td><td>522</td><td>2023-12-25</td><td>5YJSA1CNXDFP00750</td><td>3578927416</td><td>Кузнецов Константин Сергеевич</td><td>89953333555</td></tr>",
                            "<tr><td>3</td><td>6194</td><td>2023-12-25</td><td>9FAHP2HW0DG164988</td><td>2634890017</td><td>Васильев Владимир Александрович</td><td>89957777777</td></tr>",
                            "</table>"
                        ]
                    }
                },
                {
                    "output_type": "execute_result",
                    "metadata": {},
                    "execution_count": 143,
                    "data": {
                        "application/vnd.dataresource+json": {
                            "schema": {
                                "fields": [
                                    {
                                        "name": "id_record"
                                    },
                                    {
                                        "name": "id_contract"
                                    },
                                    {
                                        "name": "start_date"
                                    },
                                    {
                                        "name": "end_date"
                                    },
                                    {
                                        "name": "is_returned"
                                    },
                                    {
                                        "name": "total_price"
                                    },
                                    {
                                        "name": "car_vin_number"
                                    },
                                    {
                                        "name": "client_driving_license"
                                    },
                                    {
                                        "name": "client_name"
                                    },
                                    {
                                        "name": "phone_number"
                                    }
                                ]
                            },
                            "data": [
                                {
                                    "id_record": "1",
                                    "id_contract": "3079",
                                    "start_date": "2023-12-25",
                                    "end_date": "2023-12-26",
                                    "is_returned": "True",
                                    "total_price": "$4,000.00",
                                    "car_vin_number": "1HGCR2F5XFA02A996",
                                    "client_driving_license": "5648612345",
                                    "client_name": "Иванов Егор Павлович",
                                    "phone_number": "89951234567"
                                },
                                {
                                    "id_record": "2",
                                    "id_contract": "868",
                                    "start_date": "2023-12-25",
                                    "end_date": "2023-12-26",
                                    "is_returned": "True",
                                    "total_price": "$6,000.00",
                                    "car_vin_number": "5YJSA1CNXDFP00750",
                                    "client_driving_license": "3578927416",
                                    "client_name": "Кузнецов Константин Сергеевич",
                                    "phone_number": "89953333555"
                                },
                                {
                                    "id_record": "3",
                                    "id_contract": "1165",
                                    "start_date": "2023-12-25",
                                    "end_date": "2023-12-26",
                                    "is_returned": "True",
                                    "total_price": "$9,750.00",
                                    "car_vin_number": "9FAHP2HW0DG164988",
                                    "client_driving_license": "2634890017",
                                    "client_name": "Васильев Владимир Александрович",
                                    "phone_number": "89957777777"
                                }
                            ]
                        },
                        "text/html": [
                            "<table>",
                            "<tr><th>id_record</th><th>id_contract</th><th>start_date</th><th>end_date</th><th>is_returned</th><th>total_price</th><th>car_vin_number</th><th>client_driving_license</th><th>client_name</th><th>phone_number</th></tr>",
                            "<tr><td>1</td><td>3079</td><td>2023-12-25</td><td>2023-12-26</td><td>True</td><td>$4,000.00</td><td>1HGCR2F5XFA02A996</td><td>5648612345</td><td>Иванов Егор Павлович</td><td>89951234567</td></tr>",
                            "<tr><td>2</td><td>868</td><td>2023-12-25</td><td>2023-12-26</td><td>True</td><td>$6,000.00</td><td>5YJSA1CNXDFP00750</td><td>3578927416</td><td>Кузнецов Константин Сергеевич</td><td>89953333555</td></tr>",
                            "<tr><td>3</td><td>1165</td><td>2023-12-25</td><td>2023-12-26</td><td>True</td><td>$9,750.00</td><td>9FAHP2HW0DG164988</td><td>2634890017</td><td>Васильев Владимир Александрович</td><td>89957777777</td></tr>",
                            "</table>"
                        ]
                    }
                },
                {
                    "output_type": "execute_result",
                    "metadata": {},
                    "execution_count": 143,
                    "data": {
                        "application/vnd.dataresource+json": {
                            "schema": {
                                "fields": [
                                    {
                                        "name": "id_accident"
                                    },
                                    {
                                        "name": "report_date"
                                    },
                                    {
                                        "name": "is_confirmed"
                                    },
                                    {
                                        "name": "driving_license"
                                    },
                                    {
                                        "name": "vin_number"
                                    }
                                ]
                            },
                            "data": [
                                {
                                    "id_accident": "3328",
                                    "report_date": "2023-12-25",
                                    "is_confirmed": "False",
                                    "driving_license": "7414292010",
                                    "vin_number": "2C4GJ53XYR6936972"
                                },
                                {
                                    "id_accident": "9643",
                                    "report_date": "2023-12-25",
                                    "is_confirmed": "False",
                                    "driving_license": "4589623471",
                                    "vin_number": "1HGCR2F5XFA02B001"
                                },
                                {
                                    "id_accident": "6296",
                                    "report_date": "2023-12-25",
                                    "is_confirmed": "False",
                                    "driving_license": "6487239641",
                                    "vin_number": "1HGCR2F5XFA02C002"
                                },
                                {
                                    "id_accident": "5511",
                                    "report_date": "2023-12-25",
                                    "is_confirmed": "False",
                                    "driving_license": "1426958379",
                                    "vin_number": "1G6AB5S3XDPR46200"
                                },
                                {
                                    "id_accident": "5410",
                                    "report_date": "2023-12-25",
                                    "is_confirmed": "False",
                                    "driving_license": "3294871692",
                                    "vin_number": "1G1FB1RS4N0101077"
                                },
                                {
                                    "id_accident": "5157",
                                    "report_date": "2023-12-25",
                                    "is_confirmed": "False",
                                    "driving_license": "8974526813",
                                    "vin_number": "1G4PP5LK0E4105633"
                                },
                                {
                                    "id_accident": "1939",
                                    "report_date": "2023-12-25",
                                    "is_confirmed": "False",
                                    "driving_license": "3785910035",
                                    "vin_number": "2S1BM1W74E1128568"
                                }
                            ]
                        },
                        "text/html": [
                            "<table>",
                            "<tr><th>id_accident</th><th>report_date</th><th>is_confirmed</th><th>driving_license</th><th>vin_number</th></tr>",
                            "<tr><td>3328</td><td>2023-12-25</td><td>False</td><td>7414292010</td><td>2C4GJ53XYR6936972</td></tr>",
                            "<tr><td>9643</td><td>2023-12-25</td><td>False</td><td>4589623471</td><td>1HGCR2F5XFA02B001</td></tr>",
                            "<tr><td>6296</td><td>2023-12-25</td><td>False</td><td>6487239641</td><td>1HGCR2F5XFA02C002</td></tr>",
                            "<tr><td>5511</td><td>2023-12-25</td><td>False</td><td>1426958379</td><td>1G6AB5S3XDPR46200</td></tr>",
                            "<tr><td>5410</td><td>2023-12-25</td><td>False</td><td>3294871692</td><td>1G1FB1RS4N0101077</td></tr>",
                            "<tr><td>5157</td><td>2023-12-25</td><td>False</td><td>8974526813</td><td>1G4PP5LK0E4105633</td></tr>",
                            "<tr><td>1939</td><td>2023-12-25</td><td>False</td><td>3785910035</td><td>2S1BM1W74E1128568</td></tr>",
                            "</table>"
                        ]
                    }
                },
                {
                    "output_type": "execute_result",
                    "metadata": {},
                    "execution_count": 143,
                    "data": {
                        "application/vnd.dataresource+json": {
                            "schema": {
                                "fields": [
                                    {
                                        "name": "id_contract"
                                    },
                                    {
                                        "name": "rental_duration"
                                    },
                                    {
                                        "name": "total_price"
                                    },
                                    {
                                        "name": "driving_license"
                                    },
                                    {
                                        "name": "vin_number"
                                    },
                                    {
                                        "name": "signed"
                                    }
                                ]
                            },
                            "data": [
                                {
                                    "id_contract": "8645",
                                    "rental_duration": "06:00:00",
                                    "total_price": "$5,400.00",
                                    "driving_license": "7414292010",
                                    "vin_number": "2C4GJ53XYR6936972",
                                    "signed": "False"
                                },
                                {
                                    "id_contract": "1212",
                                    "rental_duration": "08:00:00",
                                    "total_price": "$6,000.00",
                                    "driving_license": "4589623471",
                                    "vin_number": "1HGCR2F5XFA02B001",
                                    "signed": "False"
                                },
                                {
                                    "id_contract": "6524",
                                    "rental_duration": "02:00:00",
                                    "total_price": "$1,400.00",
                                    "driving_license": "6487239641",
                                    "vin_number": "1HGCR2F5XFA02C002",
                                    "signed": "False"
                                },
                                {
                                    "id_contract": "1579",
                                    "rental_duration": "08:00:00",
                                    "total_price": "$6,000.00",
                                    "driving_license": "1426958379",
                                    "vin_number": "1G6AB5S3XDPR46200",
                                    "signed": "False"
                                },
                                {
                                    "id_contract": "7463",
                                    "rental_duration": "11:00:00",
                                    "total_price": "$6,600.00",
                                    "driving_license": "3294871692",
                                    "vin_number": "1G1FB1RS4N0101077",
                                    "signed": "False"
                                },
                                {
                                    "id_contract": "4892",
                                    "rental_duration": "07:00:00",
                                    "total_price": "$5,600.00",
                                    "driving_license": "8974526813",
                                    "vin_number": "1G4PP5LK0E4105633",
                                    "signed": "False"
                                },
                                {
                                    "id_contract": "9376",
                                    "rental_duration": "04:00:00",
                                    "total_price": "$2,800.00",
                                    "driving_license": "3785910035",
                                    "vin_number": "2S1BM1W74E1128568",
                                    "signed": "False"
                                },
                                {
                                    "id_contract": "3944",
                                    "rental_duration": "18:00:00",
                                    "total_price": "$15,300.00",
                                    "driving_license": "4567893210",
                                    "vin_number": "2LMHJ5AT8HGB77688",
                                    "signed": "False"
                                }
                            ]
                        },
                        "text/html": [
                            "<table>",
                            "<tr><th>id_contract</th><th>rental_duration</th><th>total_price</th><th>driving_license</th><th>vin_number</th><th>signed</th></tr>",
                            "<tr><td>8645</td><td>06:00:00</td><td>$5,400.00</td><td>7414292010</td><td>2C4GJ53XYR6936972</td><td>False</td></tr>",
                            "<tr><td>1212</td><td>08:00:00</td><td>$6,000.00</td><td>4589623471</td><td>1HGCR2F5XFA02B001</td><td>False</td></tr>",
                            "<tr><td>6524</td><td>02:00:00</td><td>$1,400.00</td><td>6487239641</td><td>1HGCR2F5XFA02C002</td><td>False</td></tr>",
                            "<tr><td>1579</td><td>08:00:00</td><td>$6,000.00</td><td>1426958379</td><td>1G6AB5S3XDPR46200</td><td>False</td></tr>",
                            "<tr><td>7463</td><td>11:00:00</td><td>$6,600.00</td><td>3294871692</td><td>1G1FB1RS4N0101077</td><td>False</td></tr>",
                            "<tr><td>4892</td><td>07:00:00</td><td>$5,600.00</td><td>8974526813</td><td>1G4PP5LK0E4105633</td><td>False</td></tr>",
                            "<tr><td>9376</td><td>04:00:00</td><td>$2,800.00</td><td>3785910035</td><td>2S1BM1W74E1128568</td><td>False</td></tr>",
                            "<tr><td>3944</td><td>18:00:00</td><td>$15,300.00</td><td>4567893210</td><td>2LMHJ5AT8HGB77688</td><td>False</td></tr>",
                            "</table>"
                        ]
                    }
                },
                {
                    "output_type": "execute_result",
                    "metadata": {},
                    "execution_count": 143,
                    "data": {
                        "application/vnd.dataresource+json": {
                            "schema": {
                                "fields": [
                                    {
                                        "name": "vin_number"
                                    },
                                    {
                                        "name": "cost_per_hour"
                                    },
                                    {
                                        "name": "car_brand"
                                    },
                                    {
                                        "name": "car_color"
                                    },
                                    {
                                        "name": "car_class"
                                    },
                                    {
                                        "name": "transmission_type"
                                    },
                                    {
                                        "name": "fuel_type"
                                    },
                                    {
                                        "name": "locked"
                                    },
                                    {
                                        "name": "id_parking"
                                    }
                                ]
                            },
                            "data": [
                                {
                                    "vin_number": "1TDKN3DU4F3253596",
                                    "cost_per_hour": "$900.00",
                                    "car_brand": "Toyota",
                                    "car_color": "красный",
                                    "car_class": "B",
                                    "transmission_type": "M",
                                    "fuel_type": "гибрид",
                                    "locked": "False",
                                    "id_parking": "1"
                                },
                                {
                                    "vin_number": "5YJSA1CN2DFP00750",
                                    "cost_per_hour": "$1,200.00",
                                    "car_brand": "Tesla",
                                    "car_color": "зеленый",
                                    "car_class": "E",
                                    "transmission_type": "A",
                                    "fuel_type": "электричество",
                                    "locked": "False",
                                    "id_parking": "2"
                                },
                                {
                                    "vin_number": "1G6AB1S3XDPR46369",
                                    "cost_per_hour": "$750.00",
                                    "car_brand": "Cadillac",
                                    "car_color": "серый",
                                    "car_class": "D",
                                    "transmission_type": "M",
                                    "fuel_type": "бензин",
                                    "locked": "False",
                                    "id_parking": "3"
                                },
                                {
                                    "vin_number": "2C4GJ53KR69369788",
                                    "cost_per_hour": "$900.00",
                                    "car_brand": "Honda",
                                    "car_color": "белый",
                                    "car_class": "B",
                                    "transmission_type": "A",
                                    "fuel_type": "бензин",
                                    "locked": "False",
                                    "id_parking": "4"
                                },
                                {
                                    "vin_number": "5YJSA1CN7DFP00750",
                                    "cost_per_hour": "$1,200.00",
                                    "car_brand": "Tesla",
                                    "car_color": "красный",
                                    "car_class": "E",
                                    "transmission_type": "A",
                                    "fuel_type": "электричество",
                                    "locked": "False",
                                    "id_parking": "1"
                                },
                                {
                                    "vin_number": "1G6AB5S3XDPR46344",
                                    "cost_per_hour": "$750.00",
                                    "car_brand": "Cadillac",
                                    "car_color": "серебристый",
                                    "car_class": "D",
                                    "transmission_type": "A",
                                    "fuel_type": "бензин",
                                    "locked": "False",
                                    "id_parking": "2"
                                },
                                {
                                    "vin_number": "9J1FB1RS4D0801067",
                                    "cost_per_hour": "$600.00",
                                    "car_brand": "Chevrolet",
                                    "car_color": "черный",
                                    "car_class": "B",
                                    "transmission_type": "M",
                                    "fuel_type": "бензин",
                                    "locked": "False",
                                    "id_parking": "3"
                                },
                                {
                                    "vin_number": "3G4IO5UD0E4158333",
                                    "cost_per_hour": "$800.00",
                                    "car_brand": "Buick",
                                    "car_color": "серый",
                                    "car_class": "C",
                                    "transmission_type": "A",
                                    "fuel_type": "гибрид",
                                    "locked": "False",
                                    "id_parking": "4"
                                },
                                {
                                    "vin_number": "7FAHP2HW0HK168461",
                                    "cost_per_hour": "$650.00",
                                    "car_brand": "Ford",
                                    "car_color": "красный",
                                    "car_class": "E",
                                    "transmission_type": "A",
                                    "fuel_type": "бензин",
                                    "locked": "False",
                                    "id_parking": "1"
                                },
                                {
                                    "vin_number": "8YK5M1W74E1168354",
                                    "cost_per_hour": "$700.00",
                                    "car_brand": "Mazda",
                                    "car_color": "синий",
                                    "car_class": "D",
                                    "transmission_type": "A",
                                    "fuel_type": "бензин",
                                    "locked": "False",
                                    "id_parking": "2"
                                },
                                {
                                    "vin_number": "2KH7J5AT8HGB78354",
                                    "cost_per_hour": "$850.00",
                                    "car_brand": "Lincoln",
                                    "car_color": "зеленый",
                                    "car_class": "E",
                                    "transmission_type": "M",
                                    "fuel_type": "бензин",
                                    "locked": "False",
                                    "id_parking": "3"
                                },
                                {
                                    "vin_number": "5FGKN3DU4F3257321",
                                    "cost_per_hour": "$900.00",
                                    "car_brand": "Toyota",
                                    "car_color": "белый",
                                    "car_class": "B",
                                    "transmission_type": "A",
                                    "fuel_type": "гибрид",
                                    "locked": "False",
                                    "id_parking": "4"
                                },
                                {
                                    "vin_number": "5KKSA1CN2DFP07632",
                                    "cost_per_hour": "$1,200.00",
                                    "car_brand": "Tesla",
                                    "car_color": "серый",
                                    "car_class": "E",
                                    "transmission_type": "A",
                                    "fuel_type": "электричество",
                                    "locked": "False",
                                    "id_parking": "1"
                                },
                                {
                                    "vin_number": "1G6JX1S3XDPR89366",
                                    "cost_per_hour": "$750.00",
                                    "car_brand": "Cadillac",
                                    "car_color": "черный",
                                    "car_class": "D",
                                    "transmission_type": "A",
                                    "fuel_type": "бензин",
                                    "locked": "False",
                                    "id_parking": "2"
                                },
                                {
                                    "vin_number": "2C4GJ53KR69369789",
                                    "cost_per_hour": "$900.00",
                                    "car_brand": "Honda",
                                    "car_color": "красный",
                                    "car_class": "B",
                                    "transmission_type": "M",
                                    "fuel_type": "бензин",
                                    "locked": "False",
                                    "id_parking": "3"
                                },
                                {
                                    "vin_number": "5YHHR1CN7DFP76388",
                                    "cost_per_hour": "$1,200.00",
                                    "car_brand": "Tesla",
                                    "car_color": "серебристый",
                                    "car_class": "E",
                                    "transmission_type": "A",
                                    "fuel_type": "электричество",
                                    "locked": "False",
                                    "id_parking": "4"
                                },
                                {
                                    "vin_number": "3G6AB5S3XDPR44569",
                                    "cost_per_hour": "$750.00",
                                    "car_brand": "Cadillac",
                                    "car_color": "белый",
                                    "car_class": "D",
                                    "transmission_type": "A",
                                    "fuel_type": "бензин",
                                    "locked": "False",
                                    "id_parking": "1"
                                },
                                {
                                    "vin_number": "8G1FB1YS4B0101967",
                                    "cost_per_hour": "$600.00",
                                    "car_brand": "Chevrolet",
                                    "car_color": "синий",
                                    "car_class": "B",
                                    "transmission_type": "M",
                                    "fuel_type": "бензин",
                                    "locked": "False",
                                    "id_parking": "2"
                                },
                                {
                                    "vin_number": "9G4WE5SK0K4100451",
                                    "cost_per_hour": "$800.00",
                                    "car_brand": "Buick",
                                    "car_color": "красный",
                                    "car_class": "C",
                                    "transmission_type": "A",
                                    "fuel_type": "гибрид",
                                    "locked": "False",
                                    "id_parking": "3"
                                },
                                {
                                    "vin_number": "8FAHP2KB0DG169056",
                                    "cost_per_hour": "$650.00",
                                    "car_brand": "Ford",
                                    "car_color": "серый",
                                    "car_class": "E",
                                    "transmission_type": "A",
                                    "fuel_type": "бензин",
                                    "locked": "False",
                                    "id_parking": "4"
                                },
                                {
                                    "vin_number": "9H1BM1W74E1156623",
                                    "cost_per_hour": "$700.00",
                                    "car_brand": "Mazda",
                                    "car_color": "зеленый",
                                    "car_class": "D",
                                    "transmission_type": "A",
                                    "fuel_type": "гибрид",
                                    "locked": "False",
                                    "id_parking": "1"
                                },
                                {
                                    "vin_number": "2GN7J5AT8HGB89440",
                                    "cost_per_hour": "$850.00",
                                    "car_brand": "Lincoln",
                                    "car_color": "белый",
                                    "car_class": "E",
                                    "transmission_type": "M",
                                    "fuel_type": "бензин",
                                    "locked": "False",
                                    "id_parking": "2"
                                },
                                {
                                    "vin_number": "6HC8N3DU4F3298541",
                                    "cost_per_hour": "$900.00",
                                    "car_brand": "Toyota",
                                    "car_color": "синий",
                                    "car_class": "B",
                                    "transmission_type": "A",
                                    "fuel_type": "гибрид",
                                    "locked": "False",
                                    "id_parking": "3"
                                },
                                {
                                    "vin_number": "5SDFA1CN2DFP66980",
                                    "cost_per_hour": "$1,200.00",
                                    "car_brand": "Tesla",
                                    "car_color": "черный",
                                    "car_class": "E",
                                    "transmission_type": "A",
                                    "fuel_type": "электричество",
                                    "locked": "False",
                                    "id_parking": "4"
                                },
                                {
                                    "vin_number": "1L6AB1S3XDPR48560",
                                    "cost_per_hour": "$750.00",
                                    "car_brand": "Cadillac",
                                    "car_color": "красный",
                                    "car_class": "D",
                                    "transmission_type": "M",
                                    "fuel_type": "бензин",
                                    "locked": "False",
                                    "id_parking": "1"
                                },
                                {
                                    "vin_number": "2C4GJ53KR69369748",
                                    "cost_per_hour": "$900.00",
                                    "car_brand": "Honda",
                                    "car_color": "серый",
                                    "car_class": "B",
                                    "transmission_type": "A",
                                    "fuel_type": "бензин",
                                    "locked": "False",
                                    "id_parking": "2"
                                },
                                {
                                    "vin_number": "5YJSA1CN7LWP77351",
                                    "cost_per_hour": "$1,200.00",
                                    "car_brand": "Tesla",
                                    "car_color": "зеленый",
                                    "car_class": "E",
                                    "transmission_type": "A",
                                    "fuel_type": "электричество",
                                    "locked": "False",
                                    "id_parking": "3"
                                },
                                {
                                    "vin_number": "2T6AB5S3XDPR72811",
                                    "cost_per_hour": "$750.00",
                                    "car_brand": "Cadillac",
                                    "car_color": "черный",
                                    "car_class": "D",
                                    "transmission_type": "A",
                                    "fuel_type": "бензин",
                                    "locked": "False",
                                    "id_parking": "4"
                                },
                                {
                                    "vin_number": "7G1FB1RS4C0101583",
                                    "cost_per_hour": "$600.00",
                                    "car_brand": "Chevrolet",
                                    "car_color": "красный",
                                    "car_class": "B",
                                    "transmission_type": "M",
                                    "fuel_type": "бензин",
                                    "locked": "False",
                                    "id_parking": "1"
                                },
                                {
                                    "vin_number": "2G4PP5LP0E4684333",
                                    "cost_per_hour": "$800.00",
                                    "car_brand": "Buick",
                                    "car_color": "серый",
                                    "car_class": "C",
                                    "transmission_type": "A",
                                    "fuel_type": "гибрид",
                                    "locked": "False",
                                    "id_parking": "2"
                                },
                                {
                                    "vin_number": "7FAHP2QR0DG190457",
                                    "cost_per_hour": "$650.00",
                                    "car_brand": "Ford",
                                    "car_color": "зеленый",
                                    "car_class": "E",
                                    "transmission_type": "A",
                                    "fuel_type": "бензин",
                                    "locked": "False",
                                    "id_parking": "3"
                                },
                                {
                                    "vin_number": "8I1BM1W74E1672209",
                                    "cost_per_hour": "$700.00",
                                    "car_brand": "Mazda",
                                    "car_color": "белый",
                                    "car_class": "D",
                                    "transmission_type": "A",
                                    "fuel_type": "бензин",
                                    "locked": "False",
                                    "id_parking": "4"
                                },
                                {
                                    "vin_number": "2HH6J5AT8HGB79981",
                                    "cost_per_hour": "$850.00",
                                    "car_brand": "Lincoln",
                                    "car_color": "синий",
                                    "car_class": "E",
                                    "transmission_type": "M",
                                    "fuel_type": "бензин",
                                    "locked": "False",
                                    "id_parking": "1"
                                },
                                {
                                    "vin_number": "7GUKN3DU4F3286409",
                                    "cost_per_hour": "$900.00",
                                    "car_brand": "Toyota",
                                    "car_color": "черный",
                                    "car_class": "B",
                                    "transmission_type": "A",
                                    "fuel_type": "гибрид",
                                    "locked": "False",
                                    "id_parking": "2"
                                },
                                {
                                    "vin_number": "5GHWA1CN2DFP89567",
                                    "cost_per_hour": "$1,200.00",
                                    "car_brand": "Tesla",
                                    "car_color": "серый",
                                    "car_class": "E",
                                    "transmission_type": "A",
                                    "fuel_type": "электричество",
                                    "locked": "False",
                                    "id_parking": "3"
                                },
                                {
                                    "vin_number": "1Z6AB1S3XDPR33719",
                                    "cost_per_hour": "$750.00",
                                    "car_brand": "Cadillac",
                                    "car_color": "красный",
                                    "car_class": "D",
                                    "transmission_type": "M",
                                    "fuel_type": "бензин",
                                    "locked": "False",
                                    "id_parking": "4"
                                },
                                {
                                    "vin_number": "2C4GJ53KR69369796",
                                    "cost_per_hour": "$900.00",
                                    "car_brand": "Honda",
                                    "car_color": "синий",
                                    "car_class": "B",
                                    "transmission_type": "A",
                                    "fuel_type": "бензин",
                                    "locked": "False",
                                    "id_parking": "1"
                                },
                                {
                                    "vin_number": "5KJSA1DG7DFP08843",
                                    "cost_per_hour": "$1,200.00",
                                    "car_brand": "Tesla",
                                    "car_color": "черный",
                                    "car_class": "E",
                                    "transmission_type": "A",
                                    "fuel_type": "электричество",
                                    "locked": "False",
                                    "id_parking": "2"
                                },
                                {
                                    "vin_number": "5KLSA1CNXDFP09365",
                                    "cost_per_hour": "$750.00",
                                    "car_brand": "Cadillac",
                                    "car_color": "зеленый",
                                    "car_class": "D",
                                    "transmission_type": "A",
                                    "fuel_type": "бензин",
                                    "locked": "False",
                                    "id_parking": "3"
                                },
                                {
                                    "vin_number": "1J6AB5S3XDPR44369",
                                    "cost_per_hour": "$700.00",
                                    "car_brand": "Mazda",
                                    "car_color": "синий",
                                    "car_class": "D",
                                    "transmission_type": "A",
                                    "fuel_type": "БЕНЗИН",
                                    "locked": "False",
                                    "id_parking": "2"
                                },
                                {
                                    "vin_number": "6NKCV54EZ4M604499",
                                    "cost_per_hour": "$1,100.00",
                                    "car_brand": "Mercedes-Benz",
                                    "car_color": "серый",
                                    "car_class": "C",
                                    "transmission_type": "A",
                                    "fuel_type": "гибрид",
                                    "locked": "False",
                                    "id_parking": "2"
                                },
                                {
                                    "vin_number": "1HJHP3EN1AW538231",
                                    "cost_per_hour": "$800.00",
                                    "car_brand": "Ford",
                                    "car_color": "красный",
                                    "car_class": "A",
                                    "transmission_type": "M",
                                    "fuel_type": "бензин",
                                    "locked": "False",
                                    "id_parking": "3"
                                },
                                {
                                    "vin_number": "9M1BK12F761456789",
                                    "cost_per_hour": "$750.00",
                                    "car_brand": "Mazda",
                                    "car_color": "синий",
                                    "car_class": "B",
                                    "transmission_type": "M",
                                    "fuel_type": "бензин",
                                    "locked": "False",
                                    "id_parking": "4"
                                },
                                {
                                    "vin_number": "7H2SW22N2N1V63824",
                                    "cost_per_hour": "$950.00",
                                    "car_brand": "Toyota",
                                    "car_color": "белый",
                                    "car_class": "C",
                                    "transmission_type": "A",
                                    "fuel_type": "бензин",
                                    "locked": "False",
                                    "id_parking": "1"
                                },
                                {
                                    "vin_number": "1BAAM5338YF123456",
                                    "cost_per_hour": "$1,200.00",
                                    "car_brand": "BMW",
                                    "car_color": "черный",
                                    "car_class": "D",
                                    "transmission_type": "A",
                                    "fuel_type": "бензин",
                                    "locked": "False",
                                    "id_parking": "2"
                                },
                                {
                                    "vin_number": "7AUZZZ4DX9N012345",
                                    "cost_per_hour": "$850.00",
                                    "car_brand": "Audi",
                                    "car_color": "серый",
                                    "car_class": "E",
                                    "transmission_type": "A",
                                    "fuel_type": "бензин",
                                    "locked": "False",
                                    "id_parking": "3"
                                },
                                {
                                    "vin_number": "1C1PK5SB6E7274536",
                                    "cost_per_hour": "$1,000.00",
                                    "car_brand": "Chevrolet",
                                    "car_color": "красный",
                                    "car_class": "A",
                                    "transmission_type": "A",
                                    "fuel_type": "бензин",
                                    "locked": "False",
                                    "id_parking": "4"
                                },
                                {
                                    "vin_number": "3VWZZZ6RZBY123456",
                                    "cost_per_hour": "$950.00",
                                    "car_brand": "Volkswagen",
                                    "car_color": "зеленый",
                                    "car_class": "B",
                                    "transmission_type": "M",
                                    "fuel_type": "бензин",
                                    "locked": "False",
                                    "id_parking": "1"
                                },
                                {
                                    "vin_number": "4H4NA216X1T123456",
                                    "cost_per_hour": "$900.00",
                                    "car_brand": "Acura",
                                    "car_color": "голубой",
                                    "car_class": "C",
                                    "transmission_type": "M",
                                    "fuel_type": "бензин",
                                    "locked": "False",
                                    "id_parking": "2"
                                },
                                {
                                    "vin_number": "1G3NL12E73C123456",
                                    "cost_per_hour": "$1,100.00",
                                    "car_brand": "Oldsmobile",
                                    "car_color": "черный",
                                    "car_class": "D",
                                    "transmission_type": "A",
                                    "fuel_type": "бензин",
                                    "locked": "False",
                                    "id_parking": "3"
                                },
                                {
                                    "vin_number": "6AULC68E34A012345",
                                    "cost_per_hour": "$800.00",
                                    "car_brand": "Audi",
                                    "car_color": "серый",
                                    "car_class": "E",
                                    "transmission_type": "A",
                                    "fuel_type": "бензин",
                                    "locked": "False",
                                    "id_parking": "4"
                                },
                                {
                                    "vin_number": "2G1WX15K529123456",
                                    "cost_per_hour": "$750.00",
                                    "car_brand": "Chevrolet",
                                    "car_color": "красный",
                                    "car_class": "A",
                                    "transmission_type": "M",
                                    "fuel_type": "бензин",
                                    "locked": "False",
                                    "id_parking": "1"
                                },
                                {
                                    "vin_number": "9VWZZZ6RZBY098765",
                                    "cost_per_hour": "$950.00",
                                    "car_brand": "Volkswagen",
                                    "car_color": "зеленый",
                                    "car_class": "B",
                                    "transmission_type": "A",
                                    "fuel_type": "бензин",
                                    "locked": "False",
                                    "id_parking": "2"
                                },
                                {
                                    "vin_number": "7P1AD29P07L097012",
                                    "cost_per_hour": "$1,200.00",
                                    "car_brand": "Porsche",
                                    "car_color": "белый",
                                    "car_class": "C",
                                    "transmission_type": "A",
                                    "fuel_type": "дизель",
                                    "locked": "False",
                                    "id_parking": "3"
                                },
                                {
                                    "vin_number": "9H4DA3350LS123456",
                                    "cost_per_hour": "$1,000.00",
                                    "car_brand": "Acura",
                                    "car_color": "голубой",
                                    "car_class": "D",
                                    "transmission_type": "A",
                                    "fuel_type": "бензин",
                                    "locked": "False",
                                    "id_parking": "4"
                                },
                                {
                                    "vin_number": "4A3AC79L9LU123456",
                                    "cost_per_hour": "$850.00",
                                    "car_brand": "Mitsubishi",
                                    "car_color": "красный",
                                    "car_class": "A",
                                    "transmission_type": "A",
                                    "fuel_type": "бензин",
                                    "locked": "False",
                                    "id_parking": "1"
                                },
                                {
                                    "vin_number": "2A1YD64B32N123456",
                                    "cost_per_hour": "$950.00",
                                    "car_brand": "Audi",
                                    "car_color": "черный",
                                    "car_class": "B",
                                    "transmission_type": "M",
                                    "fuel_type": "бензин",
                                    "locked": "False",
                                    "id_parking": "2"
                                },
                                {
                                    "vin_number": "2LATFY126K3123456",
                                    "cost_per_hour": "$900.00",
                                    "car_brand": "Ford",
                                    "car_color": "серый",
                                    "car_class": "C",
                                    "transmission_type": "M",
                                    "fuel_type": "бензин",
                                    "locked": "False",
                                    "id_parking": "3"
                                },
                                {
                                    "vin_number": "8H4DA9460LS123456",
                                    "cost_per_hour": "$1,100.00",
                                    "car_brand": "Acura",
                                    "car_color": "голубой",
                                    "car_class": "D",
                                    "transmission_type": "A",
                                    "fuel_type": "бензин",
                                    "locked": "False",
                                    "id_parking": "4"
                                },
                                {
                                    "vin_number": "3GYFK66N6XG256789",
                                    "cost_per_hour": "$800.00",
                                    "car_brand": "Cadillac",
                                    "car_color": "белый",
                                    "car_class": "E",
                                    "transmission_type": "A",
                                    "fuel_type": "гибрид",
                                    "locked": "False",
                                    "id_parking": "1"
                                },
                                {
                                    "vin_number": "9AULC68E54A123456",
                                    "cost_per_hour": "$1,200.00",
                                    "car_brand": "Audi",
                                    "car_color": "черный",
                                    "car_class": "A",
                                    "transmission_type": "A",
                                    "fuel_type": "бензин",
                                    "locked": "False",
                                    "id_parking": "2"
                                },
                                {
                                    "vin_number": "1HGCR2F5XFA02B001",
                                    "cost_per_hour": "$750.00",
                                    "car_brand": "Hyundai",
                                    "car_color": "зеленый",
                                    "car_class": "B",
                                    "transmission_type": "A",
                                    "fuel_type": "гибрид",
                                    "locked": "True",
                                    "id_parking": "3"
                                },
                                {
                                    "vin_number": "1HGCR2F5XFA02C002",
                                    "cost_per_hour": "$700.00",
                                    "car_brand": "BMW",
                                    "car_color": "черный",
                                    "car_class": "A",
                                    "transmission_type": "M",
                                    "fuel_type": "электричество",
                                    "locked": "True",
                                    "id_parking": "4"
                                },
                                {
                                    "vin_number": "9FAHP2HW0DG164988",
                                    "cost_per_hour": "$650.00",
                                    "car_brand": "Ford",
                                    "car_color": "серый",
                                    "car_class": "E",
                                    "transmission_type": "M",
                                    "fuel_type": "бензин",
                                    "locked": "False",
                                    "id_parking": "2"
                                },
                                {
                                    "vin_number": "1G6AB5S3XDPR46200",
                                    "cost_per_hour": "$750.00",
                                    "car_brand": "Cadillac",
                                    "car_color": "красный",
                                    "car_class": "D",
                                    "transmission_type": "A",
                                    "fuel_type": "бензин",
                                    "locked": "True",
                                    "id_parking": "3"
                                },
                                {
                                    "vin_number": "1G1FB1RS4N0101077",
                                    "cost_per_hour": "$600.00",
                                    "car_brand": "Chevrolet",
                                    "car_color": "белый",
                                    "car_class": "B",
                                    "transmission_type": "M",
                                    "fuel_type": "бензин",
                                    "locked": "True",
                                    "id_parking": "4"
                                },
                                {
                                    "vin_number": "1G4PP5LK0E4105633",
                                    "cost_per_hour": "$800.00",
                                    "car_brand": "Buick",
                                    "car_color": "синий",
                                    "car_class": "C",
                                    "transmission_type": "A",
                                    "fuel_type": "гибрид",
                                    "locked": "True",
                                    "id_parking": "1"
                                },
                                {
                                    "vin_number": "2S1BM1W74E1128568",
                                    "cost_per_hour": "$700.00",
                                    "car_brand": "Mazda",
                                    "car_color": "синий",
                                    "car_class": "D",
                                    "transmission_type": "A",
                                    "fuel_type": "бензин",
                                    "locked": "True",
                                    "id_parking": "3"
                                },
                                {
                                    "vin_number": "2LMHJ5AT8HGB77688",
                                    "cost_per_hour": "$850.00",
                                    "car_brand": "Lincoln",
                                    "car_color": "черный",
                                    "car_class": "E",
                                    "transmission_type": "A",
                                    "fuel_type": "бензин",
                                    "locked": "True",
                                    "id_parking": "4"
                                },
                                {
                                    "vin_number": "5YJSA1CNXDFP00750",
                                    "cost_per_hour": "$1,200.00",
                                    "car_brand": "Tesla",
                                    "car_color": "серебристый",
                                    "car_class": "E",
                                    "transmission_type": "A",
                                    "fuel_type": "электричество",
                                    "locked": "False",
                                    "id_parking": "2"
                                },
                                {
                                    "vin_number": "1C3CCBBBXDN666789",
                                    "cost_per_hour": "$750.00",
                                    "car_brand": "Chrysler",
                                    "car_color": "серый",
                                    "car_class": "B",
                                    "transmission_type": "M",
                                    "fuel_type": "бензин",
                                    "locked": "False",
                                    "id_parking": "3"
                                },
                                {
                                    "vin_number": "3C3CFFFH2ET123456",
                                    "cost_per_hour": "$950.00",
                                    "car_brand": "Fiat",
                                    "car_color": "красный",
                                    "car_class": "C",
                                    "transmission_type": "M",
                                    "fuel_type": "бензин",
                                    "locked": "False",
                                    "id_parking": "4"
                                },
                                {
                                    "vin_number": "8VWZZZ6RZBY543210",
                                    "cost_per_hour": "$900.00",
                                    "car_brand": "Volkswagen",
                                    "car_color": "зеленый",
                                    "car_class": "D",
                                    "transmission_type": "A",
                                    "fuel_type": "бензин",
                                    "locked": "False",
                                    "id_parking": "1"
                                },
                                {
                                    "vin_number": "8HMFA15569S789012",
                                    "cost_per_hour": "$1,100.00",
                                    "car_brand": "Honda",
                                    "car_color": "серый",
                                    "car_class": "E",
                                    "transmission_type": "A",
                                    "fuel_type": "гибрид",
                                    "locked": "False",
                                    "id_parking": "2"
                                },
                                {
                                    "vin_number": "2GTEC13V271345678",
                                    "cost_per_hour": "$800.00",
                                    "car_brand": "GMC",
                                    "car_color": "белый",
                                    "car_class": "A",
                                    "transmission_type": "A",
                                    "fuel_type": "бензин",
                                    "locked": "False",
                                    "id_parking": "3"
                                },
                                {
                                    "vin_number": "3BAWB33598P012345",
                                    "cost_per_hour": "$750.00",
                                    "car_brand": "BMW",
                                    "car_color": "черный",
                                    "car_class": "B",
                                    "transmission_type": "M",
                                    "fuel_type": "бензин",
                                    "locked": "False",
                                    "id_parking": "4"
                                },
                                {
                                    "vin_number": "3T2BK18U900543210",
                                    "cost_per_hour": "$950.00",
                                    "car_brand": "Toyota",
                                    "car_color": "серебристый",
                                    "car_class": "C",
                                    "transmission_type": "M",
                                    "fuel_type": "бензин",
                                    "locked": "False",
                                    "id_parking": "1"
                                },
                                {
                                    "vin_number": "3D7TT2CT3BG345678",
                                    "cost_per_hour": "$1,000.00",
                                    "car_brand": "Dodge",
                                    "car_color": "красный",
                                    "car_class": "D",
                                    "transmission_type": "A",
                                    "fuel_type": "бензин",
                                    "locked": "False",
                                    "id_parking": "2"
                                },
                                {
                                    "vin_number": "5TKJF5C77F3044994",
                                    "cost_per_hour": "$850.00",
                                    "car_brand": "Scion",
                                    "car_color": "оранжевый",
                                    "car_class": "E",
                                    "transmission_type": "A",
                                    "fuel_type": "гибрид",
                                    "locked": "False",
                                    "id_parking": "3"
                                },
                                {
                                    "vin_number": "1GTEC14V291234567",
                                    "cost_per_hour": "$950.00",
                                    "car_brand": "GMC",
                                    "car_color": "зеленый",
                                    "car_class": "A",
                                    "transmission_type": "A",
                                    "fuel_type": "бензин",
                                    "locked": "False",
                                    "id_parking": "4"
                                },
                                {
                                    "vin_number": "1FAFP58201G456789",
                                    "cost_per_hour": "$900.00",
                                    "car_brand": "Ford",
                                    "car_color": "серый",
                                    "car_class": "B",
                                    "transmission_type": "M",
                                    "fuel_type": "бензин",
                                    "locked": "False",
                                    "id_parking": "1"
                                },
                                {
                                    "vin_number": "1HGEM1157XL123456",
                                    "cost_per_hour": "$1,100.00",
                                    "car_brand": "Honda",
                                    "car_color": "серебристый",
                                    "car_class": "C",
                                    "transmission_type": "M",
                                    "fuel_type": "бензин",
                                    "locked": "False",
                                    "id_parking": "2"
                                },
                                {
                                    "vin_number": "5BAAM5338XFR12345",
                                    "cost_per_hour": "$800.00",
                                    "car_brand": "BMW",
                                    "car_color": "черный",
                                    "car_class": "D",
                                    "transmission_type": "A",
                                    "fuel_type": "бензин",
                                    "locked": "False",
                                    "id_parking": "3"
                                },
                                {
                                    "vin_number": "4AJWA6FU6F8K91234",
                                    "cost_per_hour": "$750.00",
                                    "car_brand": "Jaguar",
                                    "car_color": "синий",
                                    "car_class": "E",
                                    "transmission_type": "A",
                                    "fuel_type": "дизель",
                                    "locked": "False",
                                    "id_parking": "4"
                                },
                                {
                                    "vin_number": "4TDKDTB30C1449876",
                                    "cost_per_hour": "$950.00",
                                    "car_brand": "Toyota",
                                    "car_color": "оранжевый",
                                    "car_class": "A",
                                    "transmission_type": "A",
                                    "fuel_type": "бензин",
                                    "locked": "False",
                                    "id_parking": "1"
                                },
                                {
                                    "vin_number": "1G8AL54F946123456",
                                    "cost_per_hour": "$900.00",
                                    "car_brand": "Saturn",
                                    "car_color": "серый",
                                    "car_class": "B",
                                    "transmission_type": "M",
                                    "fuel_type": "бензин",
                                    "locked": "False",
                                    "id_parking": "2"
                                },
                                {
                                    "vin_number": "1FAFP55U54G098765",
                                    "cost_per_hour": "$1,200.00",
                                    "car_brand": "Ford",
                                    "car_color": "красный",
                                    "car_class": "C",
                                    "transmission_type": "M",
                                    "fuel_type": "бензин",
                                    "locked": "False",
                                    "id_parking": "3"
                                },
                                {
                                    "vin_number": "1FMCU0GX8DUC89012",
                                    "cost_per_hour": "$1,000.00",
                                    "car_brand": "Ford",
                                    "car_color": "зеленый",
                                    "car_class": "D",
                                    "transmission_type": "A",
                                    "fuel_type": "бензин",
                                    "locked": "False",
                                    "id_parking": "4"
                                },
                                {
                                    "vin_number": "4MHJF35FDGY702123",
                                    "cost_per_hour": "$850.00",
                                    "car_brand": "Hyundai",
                                    "car_color": "серебристый",
                                    "car_class": "E",
                                    "transmission_type": "A",
                                    "fuel_type": "бензин",
                                    "locked": "False",
                                    "id_parking": "1"
                                },
                                {
                                    "vin_number": "1FMCU9C71CK345678",
                                    "cost_per_hour": "$950.00",
                                    "car_brand": "Ford",
                                    "car_color": "черный",
                                    "car_class": "A",
                                    "transmission_type": "M",
                                    "fuel_type": "бензин",
                                    "locked": "False",
                                    "id_parking": "2"
                                },
                                {
                                    "vin_number": "3N8AZ2KR8CT123456",
                                    "cost_per_hour": "$900.00",
                                    "car_brand": "Nissan",
                                    "car_color": "синий",
                                    "car_class": "B",
                                    "transmission_type": "M",
                                    "fuel_type": "бензин",
                                    "locked": "False",
                                    "id_parking": "3"
                                },
                                {
                                    "vin_number": "1G1ZB5E14CF123456",
                                    "cost_per_hour": "$1,100.00",
                                    "car_brand": "Chevrolet",
                                    "car_color": "серый",
                                    "car_class": "C",
                                    "transmission_type": "A",
                                    "fuel_type": "бензин",
                                    "locked": "False",
                                    "id_parking": "4"
                                },
                                {
                                    "vin_number": "3VWZZZ6RZBY987654",
                                    "cost_per_hour": "$800.00",
                                    "car_brand": "Volkswagen",
                                    "car_color": "черный",
                                    "car_class": "D",
                                    "transmission_type": "A",
                                    "fuel_type": "бензин",
                                    "locked": "False",
                                    "id_parking": "1"
                                },
                                {
                                    "vin_number": "8V4940DLX81678901",
                                    "cost_per_hour": "$750.00",
                                    "car_brand": "Volvo",
                                    "car_color": "белый",
                                    "car_class": "E",
                                    "transmission_type": "A",
                                    "fuel_type": "бензин",
                                    "locked": "False",
                                    "id_parking": "2"
                                },
                                {
                                    "vin_number": "9TDKTUD32DDS61008",
                                    "cost_per_hour": "$950.00",
                                    "car_brand": "Toyota",
                                    "car_color": "серый",
                                    "car_class": "A",
                                    "transmission_type": "A",
                                    "fuel_type": "гибрид",
                                    "locked": "False",
                                    "id_parking": "3"
                                },
                                {
                                    "vin_number": "2NKCV54EZ4M604499",
                                    "cost_per_hour": "$1,100.00",
                                    "car_brand": "Mercedes-Benz",
                                    "car_color": "серый",
                                    "car_class": "C",
                                    "transmission_type": "A",
                                    "fuel_type": "гибрид",
                                    "locked": "False",
                                    "id_parking": "2"
                                },
                                {
                                    "vin_number": "1FAHP3EN1AW123456",
                                    "cost_per_hour": "$800.00",
                                    "car_brand": "Ford",
                                    "car_color": "красный",
                                    "car_class": "A",
                                    "transmission_type": "M",
                                    "fuel_type": "бензин",
                                    "locked": "False",
                                    "id_parking": "3"
                                },
                                {
                                    "vin_number": "7T2SW22N2N1V65432",
                                    "cost_per_hour": "$950.00",
                                    "car_brand": "Toyota",
                                    "car_color": "белый",
                                    "car_class": "C",
                                    "transmission_type": "A",
                                    "fuel_type": "бензин",
                                    "locked": "False",
                                    "id_parking": "1"
                                },
                                {
                                    "vin_number": "3BAAM5338YF123456",
                                    "cost_per_hour": "$1,200.00",
                                    "car_brand": "BMW",
                                    "car_color": "черный",
                                    "car_class": "D",
                                    "transmission_type": "A",
                                    "fuel_type": "бензин",
                                    "locked": "False",
                                    "id_parking": "2"
                                },
                                {
                                    "vin_number": "2AUZZZ4DX9N012345",
                                    "cost_per_hour": "$850.00",
                                    "car_brand": "Audi",
                                    "car_color": "серый",
                                    "car_class": "E",
                                    "transmission_type": "A",
                                    "fuel_type": "гибрид",
                                    "locked": "False",
                                    "id_parking": "3"
                                },
                                {
                                    "vin_number": "1M1PK5SB6E7776804",
                                    "cost_per_hour": "$1,000.00",
                                    "car_brand": "Chevrolet",
                                    "car_color": "красный",
                                    "car_class": "A",
                                    "transmission_type": "A",
                                    "fuel_type": "бензин",
                                    "locked": "False",
                                    "id_parking": "4"
                                },
                                {
                                    "vin_number": "7VWZZZ6RZBY123456",
                                    "cost_per_hour": "$950.00",
                                    "car_brand": "Volkswagen",
                                    "car_color": "зеленый",
                                    "car_class": "B",
                                    "transmission_type": "M",
                                    "fuel_type": "бензин",
                                    "locked": "False",
                                    "id_parking": "1"
                                },
                                {
                                    "vin_number": "8H4NA216X1T123456",
                                    "cost_per_hour": "$900.00",
                                    "car_brand": "Acura",
                                    "car_color": "голубой",
                                    "car_class": "C",
                                    "transmission_type": "M",
                                    "fuel_type": "бензин",
                                    "locked": "False",
                                    "id_parking": "2"
                                },
                                {
                                    "vin_number": "1G3NL12E73C734299",
                                    "cost_per_hour": "$1,100.00",
                                    "car_brand": "Oldsmobile",
                                    "car_color": "черный",
                                    "car_class": "D",
                                    "transmission_type": "A",
                                    "fuel_type": "бензин",
                                    "locked": "False",
                                    "id_parking": "3"
                                },
                                {
                                    "vin_number": "2C4GJ53XYR6936972",
                                    "cost_per_hour": "$900.00",
                                    "car_brand": "Honda",
                                    "car_color": "черный",
                                    "car_class": "B",
                                    "transmission_type": "A",
                                    "fuel_type": "бензин",
                                    "locked": "True",
                                    "id_parking": "1"
                                },
                                {
                                    "vin_number": "1HGCR2F5XFA02A996",
                                    "cost_per_hour": "$800.00",
                                    "car_brand": "Toyota",
                                    "car_color": "синий",
                                    "car_class": "C",
                                    "transmission_type": "M",
                                    "fuel_type": "бензин",
                                    "locked": "False",
                                    "id_parking": "2"
                                }
                            ]
                        },
                        "text/html": [
                            "<table>",
                            "<tr><th>vin_number</th><th>cost_per_hour</th><th>car_brand</th><th>car_color</th><th>car_class</th><th>transmission_type</th><th>fuel_type</th><th>locked</th><th>id_parking</th></tr>",
                            "<tr><td>1TDKN3DU4F3253596</td><td>$900.00</td><td>Toyota</td><td>красный</td><td>B</td><td>M</td><td>гибрид</td><td>False</td><td>1</td></tr>",
                            "<tr><td>5YJSA1CN2DFP00750</td><td>$1,200.00</td><td>Tesla</td><td>зеленый</td><td>E</td><td>A</td><td>электричество</td><td>False</td><td>2</td></tr>",
                            "<tr><td>1G6AB1S3XDPR46369</td><td>$750.00</td><td>Cadillac</td><td>серый</td><td>D</td><td>M</td><td>бензин</td><td>False</td><td>3</td></tr>",
                            "<tr><td>2C4GJ53KR69369788</td><td>$900.00</td><td>Honda</td><td>белый</td><td>B</td><td>A</td><td>бензин</td><td>False</td><td>4</td></tr>",
                            "<tr><td>5YJSA1CN7DFP00750</td><td>$1,200.00</td><td>Tesla</td><td>красный</td><td>E</td><td>A</td><td>электричество</td><td>False</td><td>1</td></tr>",
                            "<tr><td>1G6AB5S3XDPR46344</td><td>$750.00</td><td>Cadillac</td><td>серебристый</td><td>D</td><td>A</td><td>бензин</td><td>False</td><td>2</td></tr>",
                            "<tr><td>9J1FB1RS4D0801067</td><td>$600.00</td><td>Chevrolet</td><td>черный</td><td>B</td><td>M</td><td>бензин</td><td>False</td><td>3</td></tr>",
                            "<tr><td>3G4IO5UD0E4158333</td><td>$800.00</td><td>Buick</td><td>серый</td><td>C</td><td>A</td><td>гибрид</td><td>False</td><td>4</td></tr>",
                            "<tr><td>7FAHP2HW0HK168461</td><td>$650.00</td><td>Ford</td><td>красный</td><td>E</td><td>A</td><td>бензин</td><td>False</td><td>1</td></tr>",
                            "<tr><td>8YK5M1W74E1168354</td><td>$700.00</td><td>Mazda</td><td>синий</td><td>D</td><td>A</td><td>бензин</td><td>False</td><td>2</td></tr>",
                            "<tr><td>2KH7J5AT8HGB78354</td><td>$850.00</td><td>Lincoln</td><td>зеленый</td><td>E</td><td>M</td><td>бензин</td><td>False</td><td>3</td></tr>",
                            "<tr><td>5FGKN3DU4F3257321</td><td>$900.00</td><td>Toyota</td><td>белый</td><td>B</td><td>A</td><td>гибрид</td><td>False</td><td>4</td></tr>",
                            "<tr><td>5KKSA1CN2DFP07632</td><td>$1,200.00</td><td>Tesla</td><td>серый</td><td>E</td><td>A</td><td>электричество</td><td>False</td><td>1</td></tr>",
                            "<tr><td>1G6JX1S3XDPR89366</td><td>$750.00</td><td>Cadillac</td><td>черный</td><td>D</td><td>A</td><td>бензин</td><td>False</td><td>2</td></tr>",
                            "<tr><td>2C4GJ53KR69369789</td><td>$900.00</td><td>Honda</td><td>красный</td><td>B</td><td>M</td><td>бензин</td><td>False</td><td>3</td></tr>",
                            "<tr><td>5YHHR1CN7DFP76388</td><td>$1,200.00</td><td>Tesla</td><td>серебристый</td><td>E</td><td>A</td><td>электричество</td><td>False</td><td>4</td></tr>",
                            "<tr><td>3G6AB5S3XDPR44569</td><td>$750.00</td><td>Cadillac</td><td>белый</td><td>D</td><td>A</td><td>бензин</td><td>False</td><td>1</td></tr>",
                            "<tr><td>8G1FB1YS4B0101967</td><td>$600.00</td><td>Chevrolet</td><td>синий</td><td>B</td><td>M</td><td>бензин</td><td>False</td><td>2</td></tr>",
                            "<tr><td>9G4WE5SK0K4100451</td><td>$800.00</td><td>Buick</td><td>красный</td><td>C</td><td>A</td><td>гибрид</td><td>False</td><td>3</td></tr>",
                            "<tr><td>8FAHP2KB0DG169056</td><td>$650.00</td><td>Ford</td><td>серый</td><td>E</td><td>A</td><td>бензин</td><td>False</td><td>4</td></tr>",
                            "<tr><td>9H1BM1W74E1156623</td><td>$700.00</td><td>Mazda</td><td>зеленый</td><td>D</td><td>A</td><td>гибрид</td><td>False</td><td>1</td></tr>",
                            "<tr><td>2GN7J5AT8HGB89440</td><td>$850.00</td><td>Lincoln</td><td>белый</td><td>E</td><td>M</td><td>бензин</td><td>False</td><td>2</td></tr>",
                            "<tr><td>6HC8N3DU4F3298541</td><td>$900.00</td><td>Toyota</td><td>синий</td><td>B</td><td>A</td><td>гибрид</td><td>False</td><td>3</td></tr>",
                            "<tr><td>5SDFA1CN2DFP66980</td><td>$1,200.00</td><td>Tesla</td><td>черный</td><td>E</td><td>A</td><td>электричество</td><td>False</td><td>4</td></tr>",
                            "<tr><td>1L6AB1S3XDPR48560</td><td>$750.00</td><td>Cadillac</td><td>красный</td><td>D</td><td>M</td><td>бензин</td><td>False</td><td>1</td></tr>",
                            "<tr><td>2C4GJ53KR69369748</td><td>$900.00</td><td>Honda</td><td>серый</td><td>B</td><td>A</td><td>бензин</td><td>False</td><td>2</td></tr>",
                            "<tr><td>5YJSA1CN7LWP77351</td><td>$1,200.00</td><td>Tesla</td><td>зеленый</td><td>E</td><td>A</td><td>электричество</td><td>False</td><td>3</td></tr>",
                            "<tr><td>2T6AB5S3XDPR72811</td><td>$750.00</td><td>Cadillac</td><td>черный</td><td>D</td><td>A</td><td>бензин</td><td>False</td><td>4</td></tr>",
                            "<tr><td>7G1FB1RS4C0101583</td><td>$600.00</td><td>Chevrolet</td><td>красный</td><td>B</td><td>M</td><td>бензин</td><td>False</td><td>1</td></tr>",
                            "<tr><td>2G4PP5LP0E4684333</td><td>$800.00</td><td>Buick</td><td>серый</td><td>C</td><td>A</td><td>гибрид</td><td>False</td><td>2</td></tr>",
                            "<tr><td>7FAHP2QR0DG190457</td><td>$650.00</td><td>Ford</td><td>зеленый</td><td>E</td><td>A</td><td>бензин</td><td>False</td><td>3</td></tr>",
                            "<tr><td>8I1BM1W74E1672209</td><td>$700.00</td><td>Mazda</td><td>белый</td><td>D</td><td>A</td><td>бензин</td><td>False</td><td>4</td></tr>",
                            "<tr><td>2HH6J5AT8HGB79981</td><td>$850.00</td><td>Lincoln</td><td>синий</td><td>E</td><td>M</td><td>бензин</td><td>False</td><td>1</td></tr>",
                            "<tr><td>7GUKN3DU4F3286409</td><td>$900.00</td><td>Toyota</td><td>черный</td><td>B</td><td>A</td><td>гибрид</td><td>False</td><td>2</td></tr>",
                            "<tr><td>5GHWA1CN2DFP89567</td><td>$1,200.00</td><td>Tesla</td><td>серый</td><td>E</td><td>A</td><td>электричество</td><td>False</td><td>3</td></tr>",
                            "<tr><td>1Z6AB1S3XDPR33719</td><td>$750.00</td><td>Cadillac</td><td>красный</td><td>D</td><td>M</td><td>бензин</td><td>False</td><td>4</td></tr>",
                            "<tr><td>2C4GJ53KR69369796</td><td>$900.00</td><td>Honda</td><td>синий</td><td>B</td><td>A</td><td>бензин</td><td>False</td><td>1</td></tr>",
                            "<tr><td>5KJSA1DG7DFP08843</td><td>$1,200.00</td><td>Tesla</td><td>черный</td><td>E</td><td>A</td><td>электричество</td><td>False</td><td>2</td></tr>",
                            "<tr><td>5KLSA1CNXDFP09365</td><td>$750.00</td><td>Cadillac</td><td>зеленый</td><td>D</td><td>A</td><td>бензин</td><td>False</td><td>3</td></tr>",
                            "<tr><td>1J6AB5S3XDPR44369</td><td>$700.00</td><td>Mazda</td><td>синий</td><td>D</td><td>A</td><td>БЕНЗИН</td><td>False</td><td>2</td></tr>",
                            "<tr><td>6NKCV54EZ4M604499</td><td>$1,100.00</td><td>Mercedes-Benz</td><td>серый</td><td>C</td><td>A</td><td>гибрид</td><td>False</td><td>2</td></tr>",
                            "<tr><td>1HJHP3EN1AW538231</td><td>$800.00</td><td>Ford</td><td>красный</td><td>A</td><td>M</td><td>бензин</td><td>False</td><td>3</td></tr>",
                            "<tr><td>9M1BK12F761456789</td><td>$750.00</td><td>Mazda</td><td>синий</td><td>B</td><td>M</td><td>бензин</td><td>False</td><td>4</td></tr>",
                            "<tr><td>7H2SW22N2N1V63824</td><td>$950.00</td><td>Toyota</td><td>белый</td><td>C</td><td>A</td><td>бензин</td><td>False</td><td>1</td></tr>",
                            "<tr><td>1BAAM5338YF123456</td><td>$1,200.00</td><td>BMW</td><td>черный</td><td>D</td><td>A</td><td>бензин</td><td>False</td><td>2</td></tr>",
                            "<tr><td>7AUZZZ4DX9N012345</td><td>$850.00</td><td>Audi</td><td>серый</td><td>E</td><td>A</td><td>бензин</td><td>False</td><td>3</td></tr>",
                            "<tr><td>1C1PK5SB6E7274536</td><td>$1,000.00</td><td>Chevrolet</td><td>красный</td><td>A</td><td>A</td><td>бензин</td><td>False</td><td>4</td></tr>",
                            "<tr><td>3VWZZZ6RZBY123456</td><td>$950.00</td><td>Volkswagen</td><td>зеленый</td><td>B</td><td>M</td><td>бензин</td><td>False</td><td>1</td></tr>",
                            "<tr><td>4H4NA216X1T123456</td><td>$900.00</td><td>Acura</td><td>голубой</td><td>C</td><td>M</td><td>бензин</td><td>False</td><td>2</td></tr>",
                            "<tr><td>1G3NL12E73C123456</td><td>$1,100.00</td><td>Oldsmobile</td><td>черный</td><td>D</td><td>A</td><td>бензин</td><td>False</td><td>3</td></tr>",
                            "<tr><td>6AULC68E34A012345</td><td>$800.00</td><td>Audi</td><td>серый</td><td>E</td><td>A</td><td>бензин</td><td>False</td><td>4</td></tr>",
                            "<tr><td>2G1WX15K529123456</td><td>$750.00</td><td>Chevrolet</td><td>красный</td><td>A</td><td>M</td><td>бензин</td><td>False</td><td>1</td></tr>",
                            "<tr><td>9VWZZZ6RZBY098765</td><td>$950.00</td><td>Volkswagen</td><td>зеленый</td><td>B</td><td>A</td><td>бензин</td><td>False</td><td>2</td></tr>",
                            "<tr><td>7P1AD29P07L097012</td><td>$1,200.00</td><td>Porsche</td><td>белый</td><td>C</td><td>A</td><td>дизель</td><td>False</td><td>3</td></tr>",
                            "<tr><td>9H4DA3350LS123456</td><td>$1,000.00</td><td>Acura</td><td>голубой</td><td>D</td><td>A</td><td>бензин</td><td>False</td><td>4</td></tr>",
                            "<tr><td>4A3AC79L9LU123456</td><td>$850.00</td><td>Mitsubishi</td><td>красный</td><td>A</td><td>A</td><td>бензин</td><td>False</td><td>1</td></tr>",
                            "<tr><td>2A1YD64B32N123456</td><td>$950.00</td><td>Audi</td><td>черный</td><td>B</td><td>M</td><td>бензин</td><td>False</td><td>2</td></tr>",
                            "<tr><td>2LATFY126K3123456</td><td>$900.00</td><td>Ford</td><td>серый</td><td>C</td><td>M</td><td>бензин</td><td>False</td><td>3</td></tr>",
                            "<tr><td>8H4DA9460LS123456</td><td>$1,100.00</td><td>Acura</td><td>голубой</td><td>D</td><td>A</td><td>бензин</td><td>False</td><td>4</td></tr>",
                            "<tr><td>3GYFK66N6XG256789</td><td>$800.00</td><td>Cadillac</td><td>белый</td><td>E</td><td>A</td><td>гибрид</td><td>False</td><td>1</td></tr>",
                            "<tr><td>9AULC68E54A123456</td><td>$1,200.00</td><td>Audi</td><td>черный</td><td>A</td><td>A</td><td>бензин</td><td>False</td><td>2</td></tr>",
                            "<tr><td>1HGCR2F5XFA02B001</td><td>$750.00</td><td>Hyundai</td><td>зеленый</td><td>B</td><td>A</td><td>гибрид</td><td>True</td><td>3</td></tr>",
                            "<tr><td>1HGCR2F5XFA02C002</td><td>$700.00</td><td>BMW</td><td>черный</td><td>A</td><td>M</td><td>электричество</td><td>True</td><td>4</td></tr>",
                            "<tr><td>9FAHP2HW0DG164988</td><td>$650.00</td><td>Ford</td><td>серый</td><td>E</td><td>M</td><td>бензин</td><td>False</td><td>2</td></tr>",
                            "<tr><td>1G6AB5S3XDPR46200</td><td>$750.00</td><td>Cadillac</td><td>красный</td><td>D</td><td>A</td><td>бензин</td><td>True</td><td>3</td></tr>",
                            "<tr><td>1G1FB1RS4N0101077</td><td>$600.00</td><td>Chevrolet</td><td>белый</td><td>B</td><td>M</td><td>бензин</td><td>True</td><td>4</td></tr>",
                            "<tr><td>1G4PP5LK0E4105633</td><td>$800.00</td><td>Buick</td><td>синий</td><td>C</td><td>A</td><td>гибрид</td><td>True</td><td>1</td></tr>",
                            "<tr><td>2S1BM1W74E1128568</td><td>$700.00</td><td>Mazda</td><td>синий</td><td>D</td><td>A</td><td>бензин</td><td>True</td><td>3</td></tr>",
                            "<tr><td>2LMHJ5AT8HGB77688</td><td>$850.00</td><td>Lincoln</td><td>черный</td><td>E</td><td>A</td><td>бензин</td><td>True</td><td>4</td></tr>",
                            "<tr><td>5YJSA1CNXDFP00750</td><td>$1,200.00</td><td>Tesla</td><td>серебристый</td><td>E</td><td>A</td><td>электричество</td><td>False</td><td>2</td></tr>",
                            "<tr><td>1C3CCBBBXDN666789</td><td>$750.00</td><td>Chrysler</td><td>серый</td><td>B</td><td>M</td><td>бензин</td><td>False</td><td>3</td></tr>",
                            "<tr><td>3C3CFFFH2ET123456</td><td>$950.00</td><td>Fiat</td><td>красный</td><td>C</td><td>M</td><td>бензин</td><td>False</td><td>4</td></tr>",
                            "<tr><td>8VWZZZ6RZBY543210</td><td>$900.00</td><td>Volkswagen</td><td>зеленый</td><td>D</td><td>A</td><td>бензин</td><td>False</td><td>1</td></tr>",
                            "<tr><td>8HMFA15569S789012</td><td>$1,100.00</td><td>Honda</td><td>серый</td><td>E</td><td>A</td><td>гибрид</td><td>False</td><td>2</td></tr>",
                            "<tr><td>2GTEC13V271345678</td><td>$800.00</td><td>GMC</td><td>белый</td><td>A</td><td>A</td><td>бензин</td><td>False</td><td>3</td></tr>",
                            "<tr><td>3BAWB33598P012345</td><td>$750.00</td><td>BMW</td><td>черный</td><td>B</td><td>M</td><td>бензин</td><td>False</td><td>4</td></tr>",
                            "<tr><td>3T2BK18U900543210</td><td>$950.00</td><td>Toyota</td><td>серебристый</td><td>C</td><td>M</td><td>бензин</td><td>False</td><td>1</td></tr>",
                            "<tr><td>3D7TT2CT3BG345678</td><td>$1,000.00</td><td>Dodge</td><td>красный</td><td>D</td><td>A</td><td>бензин</td><td>False</td><td>2</td></tr>",
                            "<tr><td>5TKJF5C77F3044994</td><td>$850.00</td><td>Scion</td><td>оранжевый</td><td>E</td><td>A</td><td>гибрид</td><td>False</td><td>3</td></tr>",
                            "<tr><td>1GTEC14V291234567</td><td>$950.00</td><td>GMC</td><td>зеленый</td><td>A</td><td>A</td><td>бензин</td><td>False</td><td>4</td></tr>",
                            "<tr><td>1FAFP58201G456789</td><td>$900.00</td><td>Ford</td><td>серый</td><td>B</td><td>M</td><td>бензин</td><td>False</td><td>1</td></tr>",
                            "<tr><td>1HGEM1157XL123456</td><td>$1,100.00</td><td>Honda</td><td>серебристый</td><td>C</td><td>M</td><td>бензин</td><td>False</td><td>2</td></tr>",
                            "<tr><td>5BAAM5338XFR12345</td><td>$800.00</td><td>BMW</td><td>черный</td><td>D</td><td>A</td><td>бензин</td><td>False</td><td>3</td></tr>",
                            "<tr><td>4AJWA6FU6F8K91234</td><td>$750.00</td><td>Jaguar</td><td>синий</td><td>E</td><td>A</td><td>дизель</td><td>False</td><td>4</td></tr>",
                            "<tr><td>4TDKDTB30C1449876</td><td>$950.00</td><td>Toyota</td><td>оранжевый</td><td>A</td><td>A</td><td>бензин</td><td>False</td><td>1</td></tr>",
                            "<tr><td>1G8AL54F946123456</td><td>$900.00</td><td>Saturn</td><td>серый</td><td>B</td><td>M</td><td>бензин</td><td>False</td><td>2</td></tr>",
                            "<tr><td>1FAFP55U54G098765</td><td>$1,200.00</td><td>Ford</td><td>красный</td><td>C</td><td>M</td><td>бензин</td><td>False</td><td>3</td></tr>",
                            "<tr><td>1FMCU0GX8DUC89012</td><td>$1,000.00</td><td>Ford</td><td>зеленый</td><td>D</td><td>A</td><td>бензин</td><td>False</td><td>4</td></tr>",
                            "<tr><td>4MHJF35FDGY702123</td><td>$850.00</td><td>Hyundai</td><td>серебристый</td><td>E</td><td>A</td><td>бензин</td><td>False</td><td>1</td></tr>",
                            "<tr><td>1FMCU9C71CK345678</td><td>$950.00</td><td>Ford</td><td>черный</td><td>A</td><td>M</td><td>бензин</td><td>False</td><td>2</td></tr>",
                            "<tr><td>3N8AZ2KR8CT123456</td><td>$900.00</td><td>Nissan</td><td>синий</td><td>B</td><td>M</td><td>бензин</td><td>False</td><td>3</td></tr>",
                            "<tr><td>1G1ZB5E14CF123456</td><td>$1,100.00</td><td>Chevrolet</td><td>серый</td><td>C</td><td>A</td><td>бензин</td><td>False</td><td>4</td></tr>",
                            "<tr><td>3VWZZZ6RZBY987654</td><td>$800.00</td><td>Volkswagen</td><td>черный</td><td>D</td><td>A</td><td>бензин</td><td>False</td><td>1</td></tr>",
                            "<tr><td>8V4940DLX81678901</td><td>$750.00</td><td>Volvo</td><td>белый</td><td>E</td><td>A</td><td>бензин</td><td>False</td><td>2</td></tr>",
                            "<tr><td>9TDKTUD32DDS61008</td><td>$950.00</td><td>Toyota</td><td>серый</td><td>A</td><td>A</td><td>гибрид</td><td>False</td><td>3</td></tr>",
                            "<tr><td>2NKCV54EZ4M604499</td><td>$1,100.00</td><td>Mercedes-Benz</td><td>серый</td><td>C</td><td>A</td><td>гибрид</td><td>False</td><td>2</td></tr>",
                            "<tr><td>1FAHP3EN1AW123456</td><td>$800.00</td><td>Ford</td><td>красный</td><td>A</td><td>M</td><td>бензин</td><td>False</td><td>3</td></tr>",
                            "<tr><td>7T2SW22N2N1V65432</td><td>$950.00</td><td>Toyota</td><td>белый</td><td>C</td><td>A</td><td>бензин</td><td>False</td><td>1</td></tr>",
                            "<tr><td>3BAAM5338YF123456</td><td>$1,200.00</td><td>BMW</td><td>черный</td><td>D</td><td>A</td><td>бензин</td><td>False</td><td>2</td></tr>",
                            "<tr><td>2AUZZZ4DX9N012345</td><td>$850.00</td><td>Audi</td><td>серый</td><td>E</td><td>A</td><td>гибрид</td><td>False</td><td>3</td></tr>",
                            "<tr><td>1M1PK5SB6E7776804</td><td>$1,000.00</td><td>Chevrolet</td><td>красный</td><td>A</td><td>A</td><td>бензин</td><td>False</td><td>4</td></tr>",
                            "<tr><td>7VWZZZ6RZBY123456</td><td>$950.00</td><td>Volkswagen</td><td>зеленый</td><td>B</td><td>M</td><td>бензин</td><td>False</td><td>1</td></tr>",
                            "<tr><td>8H4NA216X1T123456</td><td>$900.00</td><td>Acura</td><td>голубой</td><td>C</td><td>M</td><td>бензин</td><td>False</td><td>2</td></tr>",
                            "<tr><td>1G3NL12E73C734299</td><td>$1,100.00</td><td>Oldsmobile</td><td>черный</td><td>D</td><td>A</td><td>бензин</td><td>False</td><td>3</td></tr>",
                            "<tr><td>2C4GJ53XYR6936972</td><td>$900.00</td><td>Honda</td><td>черный</td><td>B</td><td>A</td><td>бензин</td><td>True</td><td>1</td></tr>",
                            "<tr><td>1HGCR2F5XFA02A996</td><td>$800.00</td><td>Toyota</td><td>синий</td><td>C</td><td>M</td><td>бензин</td><td>False</td><td>2</td></tr>",
                            "</table>"
                        ]
                    }
                },
                {
                    "output_type": "execute_result",
                    "metadata": {},
                    "execution_count": 143,
                    "data": {
                        "application/vnd.dataresource+json": {
                            "schema": {
                                "fields": [
                                    {
                                        "name": "driving_license"
                                    },
                                    {
                                        "name": "name"
                                    },
                                    {
                                        "name": "phone"
                                    },
                                    {
                                        "name": "email"
                                    },
                                    {
                                        "name": "date_of_birth"
                                    },
                                    {
                                        "name": "registration_address"
                                    },
                                    {
                                        "name": "residence_address"
                                    },
                                    {
                                        "name": "username"
                                    }
                                ]
                            },
                            "data": [
                                {
                                    "driving_license": "7414292010",
                                    "name": "Карпова Татьяна Олеговна",
                                    "phone": "89955883514",
                                    "email": "karpova.tatyana1976",
                                    "date_of_birth": "1976-03-24",
                                    "registration_address": "г. Москва, ул. Карла-Маркса, д. 13",
                                    "residence_address": "г. Москва, ул. Карла-Маркса, д. 13",
                                    "username": "karpovato2611"
                                },
                                {
                                    "driving_license": "5648612345",
                                    "name": "Иванов Егор Павлович",
                                    "phone": "89951234567",
                                    "email": "ivanov.egor@mail.ru",
                                    "date_of_birth": "1987-05-12",
                                    "registration_address": "г. Москва, ул. Ленина, д. 5",
                                    "residence_address": "г. Москва, ул. Ленина, д. 5",
                                    "username": "ivanovep1234"
                                },
                                {
                                    "driving_license": "4589623471",
                                    "name": "Петров Денис Максимович",
                                    "phone": "89957682345",
                                    "email": "petrov.denis@mail.ru",
                                    "date_of_birth": "1995-08-21",
                                    "registration_address": "г. Санкт-Петербург, ул. Приморская, д. 10",
                                    "residence_address": "г. Москва, ул. Пушкина, д. 10",
                                    "username": "petrovdm2345"
                                },
                                {
                                    "driving_license": "6487239641",
                                    "name": "Сидорова Мария Александровна",
                                    "phone": "89959999999",
                                    "email": "sidorova.maria@mail.ru",
                                    "date_of_birth": "1989-02-17",
                                    "registration_address": "г. Москва, ул. Пушкина, д. 25",
                                    "residence_address": "г. Москва, ул. Пушкина, д. 25",
                                    "username": "sidorovama9999"
                                },
                                {
                                    "driving_license": "3578927416",
                                    "name": "Кузнецов Константин Сергеевич",
                                    "phone": "89953333555",
                                    "email": "kuznetsov.konstantin@mail.ru",
                                    "date_of_birth": "1976-12-04",
                                    "registration_address": "г. Новосибирск, ул. Мира, д. 66",
                                    "residence_address": "г. Москва, ул. Московская, д. 6",
                                    "username": "kuznetsovks3355"
                                },
                                {
                                    "driving_license": "1426958379",
                                    "name": "Новикова Ольга Дмитриевна",
                                    "phone": "89957778899",
                                    "email": "novikova.olga@mail.ru",
                                    "date_of_birth": "1975-10-31",
                                    "registration_address": "г. Москва, ул. Лесная, д. 3",
                                    "residence_address": "г. Москва, ул. Ленина, д. 3",
                                    "username": "novikovaod8899"
                                },
                                {
                                    "driving_license": "3294871692",
                                    "name": "Смирнов Сергей Павлович",
                                    "phone": "89954441234",
                                    "email": "smirnov.sergey@mail.ru",
                                    "date_of_birth": "1980-07-19",
                                    "registration_address": "г. Владивосток, ул. Центральная, д. 54",
                                    "residence_address": "г. Москва, ул. Красная, д. 50",
                                    "username": "smirnovsp4123"
                                },
                                {
                                    "driving_license": "8974526813",
                                    "name": "Полякова Анна Игоревна",
                                    "phone": "89958889988",
                                    "email": "polyakova.anna@mail.ru",
                                    "date_of_birth": "1987-03-28",
                                    "registration_address": "г. Казань, ул. Гагарина, д. 12",
                                    "residence_address": "г. Москва, ул. Ленина, д. 2",
                                    "username": "polyakovaai8998"
                                },
                                {
                                    "driving_license": "2634890017",
                                    "name": "Васильев Владимир Александрович",
                                    "phone": "89957777777",
                                    "email": "vasiliev.vladimir@mail.ru",
                                    "date_of_birth": "1973-11-15",
                                    "registration_address": "г. Ростов-на-Дону, ул. Советская, д. 78",
                                    "residence_address": "г. Москва, ул. Светлая, д. 8",
                                    "username": "vasilievva7777"
                                },
                                {
                                    "driving_license": "3785910035",
                                    "name": "Козлова Наталья Владимировна",
                                    "phone": "89956667788",
                                    "email": "kozlova.natalia@mail.ru",
                                    "date_of_birth": "1986-02-25",
                                    "registration_address": "г. Челябинск, ул. Ленина, д. 30",
                                    "residence_address": "г. Москва, ул. Большая, д. 32",
                                    "username": "kozlovanv6778"
                                },
                                {
                                    "driving_license": "4567893210",
                                    "name": "Никитина Елена Сергеевна",
                                    "phone": "89959998877",
                                    "email": "nikitina.elena@mail.ru",
                                    "date_of_birth": "1990-05-08",
                                    "registration_address": "г. Уфа, ул. Победы, д. 15",
                                    "residence_address": "г. Москва, ул. Первая, д. 75",
                                    "username": "nikitinaes8877"
                                },
                                {
                                    "driving_license": "1089756423",
                                    "name": "Алексеев Алексей Алексеевич",
                                    "phone": "89957778855",
                                    "email": "alekseev.aleksei@mail.ru",
                                    "date_of_birth": "1974-08-02",
                                    "registration_address": "г. Самара, ул. Ленина, д. 48",
                                    "residence_address": "г. Москва, ул. Ленина, д. 6",
                                    "username": "alekseevaa8855"
                                },
                                {
                                    "driving_license": "8945739182",
                                    "name": "Максимов Артем Матвеевич",
                                    "phone": "89951111111",
                                    "email": "maximov.artem@mail.ru",
                                    "date_of_birth": "1972-12-24",
                                    "registration_address": "г. Волgоград, ул. Пушкина, д. 7",
                                    "residence_address": "г. Москва, ул. Первомайская, д. 17",
                                    "username": "maximovam1111"
                                },
                                {
                                    "driving_license": "7463879245",
                                    "name": "Федоров Александр Федорович",
                                    "phone": "89953336666",
                                    "email": "fedorov.alexandr@mail.ru",
                                    "date_of_birth": "1987-06-13",
                                    "registration_address": "г. Омcк, ул. Мира, д. 122",
                                    "residence_address": "г. Москва, ул. Маяковская, д. 22",
                                    "username": "fedorovaf6666"
                                },
                                {
                                    "driving_license": "5478921436",
                                    "name": "Егорова Екатерина Александровна",
                                    "phone": "89957778819",
                                    "email": "egorova.ekaterina@mail.ru",
                                    "date_of_birth": "1975-02-15",
                                    "registration_address": "г. Ульяновск, ул. Советская, д. 189",
                                    "residence_address": "г. Москва, ул. Марксисткая, д. 89",
                                    "username": "egorova7688"
                                },
                                {
                                    "driving_license": "3311248975",
                                    "name": "Дмитриев Андрей Игоревич",
                                    "phone": "89956453629",
                                    "email": "dmitriev.andrei@mail.ru",
                                    "date_of_birth": "1990-09-14",
                                    "registration_address": "г. Тольятти, ул. Ленина, д. 89",
                                    "residence_address": "г. Москва, ул. Калинина, д. 9",
                                    "username": "dmitrievai3629"
                                }
                            ]
                        },
                        "text/html": [
                            "<table>",
                            "<tr><th>driving_license</th><th>name</th><th>phone</th><th>email</th><th>date_of_birth</th><th>registration_address</th><th>residence_address</th><th>username</th></tr>",
                            "<tr><td>7414292010</td><td>Карпова Татьяна Олеговна</td><td>89955883514</td><td>karpova.tatyana1976</td><td>1976-03-24</td><td>г. Москва, ул. Карла-Маркса, д. 13</td><td>г. Москва, ул. Карла-Маркса, д. 13</td><td>karpovato2611</td></tr>",
                            "<tr><td>5648612345</td><td>Иванов Егор Павлович</td><td>89951234567</td><td>ivanov.egor@mail.ru</td><td>1987-05-12</td><td>г. Москва, ул. Ленина, д. 5</td><td>г. Москва, ул. Ленина, д. 5</td><td>ivanovep1234</td></tr>",
                            "<tr><td>4589623471</td><td>Петров Денис Максимович</td><td>89957682345</td><td>petrov.denis@mail.ru</td><td>1995-08-21</td><td>г. Санкт-Петербург, ул. Приморская, д. 10</td><td>г. Москва, ул. Пушкина, д. 10</td><td>petrovdm2345</td></tr>",
                            "<tr><td>6487239641</td><td>Сидорова Мария Александровна</td><td>89959999999</td><td>sidorova.maria@mail.ru</td><td>1989-02-17</td><td>г. Москва, ул. Пушкина, д. 25</td><td>г. Москва, ул. Пушкина, д. 25</td><td>sidorovama9999</td></tr>",
                            "<tr><td>3578927416</td><td>Кузнецов Константин Сергеевич</td><td>89953333555</td><td>kuznetsov.konstantin@mail.ru</td><td>1976-12-04</td><td>г. Новосибирск, ул. Мира, д. 66</td><td>г. Москва, ул. Московская, д. 6</td><td>kuznetsovks3355</td></tr>",
                            "<tr><td>1426958379</td><td>Новикова Ольга Дмитриевна</td><td>89957778899</td><td>novikova.olga@mail.ru</td><td>1975-10-31</td><td>г. Москва, ул. Лесная, д. 3</td><td>г. Москва, ул. Ленина, д. 3</td><td>novikovaod8899</td></tr>",
                            "<tr><td>3294871692</td><td>Смирнов Сергей Павлович</td><td>89954441234</td><td>smirnov.sergey@mail.ru</td><td>1980-07-19</td><td>г. Владивосток, ул. Центральная, д. 54</td><td>г. Москва, ул. Красная, д. 50</td><td>smirnovsp4123</td></tr>",
                            "<tr><td>8974526813</td><td>Полякова Анна Игоревна</td><td>89958889988</td><td>polyakova.anna@mail.ru</td><td>1987-03-28</td><td>г. Казань, ул. Гагарина, д. 12</td><td>г. Москва, ул. Ленина, д. 2</td><td>polyakovaai8998</td></tr>",
                            "<tr><td>2634890017</td><td>Васильев Владимир Александрович</td><td>89957777777</td><td>vasiliev.vladimir@mail.ru</td><td>1973-11-15</td><td>г. Ростов-на-Дону, ул. Советская, д. 78</td><td>г. Москва, ул. Светлая, д. 8</td><td>vasilievva7777</td></tr>",
                            "<tr><td>3785910035</td><td>Козлова Наталья Владимировна</td><td>89956667788</td><td>kozlova.natalia@mail.ru</td><td>1986-02-25</td><td>г. Челябинск, ул. Ленина, д. 30</td><td>г. Москва, ул. Большая, д. 32</td><td>kozlovanv6778</td></tr>",
                            "<tr><td>4567893210</td><td>Никитина Елена Сергеевна</td><td>89959998877</td><td>nikitina.elena@mail.ru</td><td>1990-05-08</td><td>г. Уфа, ул. Победы, д. 15</td><td>г. Москва, ул. Первая, д. 75</td><td>nikitinaes8877</td></tr>",
                            "<tr><td>1089756423</td><td>Алексеев Алексей Алексеевич</td><td>89957778855</td><td>alekseev.aleksei@mail.ru</td><td>1974-08-02</td><td>г. Самара, ул. Ленина, д. 48</td><td>г. Москва, ул. Ленина, д. 6</td><td>alekseevaa8855</td></tr>",
                            "<tr><td>8945739182</td><td>Максимов Артем Матвеевич</td><td>89951111111</td><td>maximov.artem@mail.ru</td><td>1972-12-24</td><td>г. Волgоград, ул. Пушкина, д. 7</td><td>г. Москва, ул. Первомайская, д. 17</td><td>maximovam1111</td></tr>",
                            "<tr><td>7463879245</td><td>Федоров Александр Федорович</td><td>89953336666</td><td>fedorov.alexandr@mail.ru</td><td>1987-06-13</td><td>г. Омcк, ул. Мира, д. 122</td><td>г. Москва, ул. Маяковская, д. 22</td><td>fedorovaf6666</td></tr>",
                            "<tr><td>5478921436</td><td>Егорова Екатерина Александровна</td><td>89957778819</td><td>egorova.ekaterina@mail.ru</td><td>1975-02-15</td><td>г. Ульяновск, ул. Советская, д. 189</td><td>г. Москва, ул. Марксисткая, д. 89</td><td>egorova7688</td></tr>",
                            "<tr><td>3311248975</td><td>Дмитриев Андрей Игоревич</td><td>89956453629</td><td>dmitriev.andrei@mail.ru</td><td>1990-09-14</td><td>г. Тольятти, ул. Ленина, д. 89</td><td>г. Москва, ул. Калинина, д. 9</td><td>dmitrievai3629</td></tr>",
                            "</table>"
                        ]
                    }
                },
                {
                    "output_type": "execute_result",
                    "metadata": {},
                    "execution_count": 143,
                    "data": {
                        "application/vnd.dataresource+json": {
                            "schema": {
                                "fields": [
                                    {
                                        "name": "manager_passport_details"
                                    },
                                    {
                                        "name": "name"
                                    },
                                    {
                                        "name": "phone"
                                    },
                                    {
                                        "name": "expirience"
                                    },
                                    {
                                        "name": "salary"
                                    },
                                    {
                                        "name": "username"
                                    },
                                    {
                                        "name": "id_parking"
                                    }
                                ]
                            },
                            "data": [
                                {
                                    "manager_passport_details": "2451298347",
                                    "name": "Петрова Анна Ивановна",
                                    "phone": "79261123456",
                                    "expirience": "5",
                                    "salary": "110000",
                                    "username": "petrovaai21",
                                    "id_parking": "2"
                                },
                                {
                                    "manager_passport_details": "3785621940",
                                    "name": "Козлов Дмитрий Сергеевич",
                                    "phone": "79257789456",
                                    "expirience": "10",
                                    "salary": "140000",
                                    "username": "kozlovds75",
                                    "id_parking": "1"
                                },
                                {
                                    "manager_passport_details": "4856912740",
                                    "name": "Смирнова Екатерина Павловна",
                                    "phone": "79251234567",
                                    "expirience": "15",
                                    "salary": "150000",
                                    "username": "smirnovae12",
                                    "id_parking": "4"
                                },
                                {
                                    "manager_passport_details": "5738291045",
                                    "name": "Кузнецов Максим Александрович",
                                    "phone": "79254123897",
                                    "expirience": "20",
                                    "salary": "200000",
                                    "username": "kuznetsovma88",
                                    "id_parking": "3"
                                },
                                {
                                    "manager_passport_details": "6194038572",
                                    "name": "Васильева Александра Владимировна",
                                    "phone": "79258736745",
                                    "expirience": "25",
                                    "salary": "250000",
                                    "username": "vasilyeava44",
                                    "id_parking": "2"
                                },
                                {
                                    "manager_passport_details": "7348519260",
                                    "name": "Новиков Игорь Артемович",
                                    "phone": "79256123984",
                                    "expirience": "3",
                                    "salary": "90000",
                                    "username": "novikovia99",
                                    "id_parking": "1"
                                },
                                {
                                    "manager_passport_details": "8420365197",
                                    "name": "Павлова Марина Дмитриевна",
                                    "phone": "79257789012",
                                    "expirience": "2",
                                    "salary": "70000",
                                    "username": "pavlovamd01",
                                    "id_parking": "4"
                                },
                                {
                                    "manager_passport_details": "9572304618",
                                    "name": "Морозов Павел Игоревич",
                                    "phone": "79251235678",
                                    "expirience": "4",
                                    "salary": "100000",
                                    "username": "morozovpi67",
                                    "id_parking": "3"
                                },
                                {
                                    "manager_passport_details": "1057264938",
                                    "name": "Алексеева Ирина Сергеевна",
                                    "phone": "79251123897",
                                    "expirience": "1",
                                    "salary": "55000",
                                    "username": "alexeevais23",
                                    "id_parking": "2"
                                },
                                {
                                    "manager_passport_details": "1184365927",
                                    "name": "Сидоров Алексей Владимирович",
                                    "phone": "79258716745",
                                    "expirience": "8",
                                    "salary": "120000",
                                    "username": "sidorovav77",
                                    "id_parking": "1"
                                }
                            ]
                        },
                        "text/html": [
                            "<table>",
                            "<tr><th>manager_passport_details</th><th>name</th><th>phone</th><th>expirience</th><th>salary</th><th>username</th><th>id_parking</th></tr>",
                            "<tr><td>2451298347</td><td>Петрова Анна Ивановна</td><td>79261123456</td><td>5</td><td>110000</td><td>petrovaai21</td><td>2</td></tr>",
                            "<tr><td>3785621940</td><td>Козлов Дмитрий Сергеевич</td><td>79257789456</td><td>10</td><td>140000</td><td>kozlovds75</td><td>1</td></tr>",
                            "<tr><td>4856912740</td><td>Смирнова Екатерина Павловна</td><td>79251234567</td><td>15</td><td>150000</td><td>smirnovae12</td><td>4</td></tr>",
                            "<tr><td>5738291045</td><td>Кузнецов Максим Александрович</td><td>79254123897</td><td>20</td><td>200000</td><td>kuznetsovma88</td><td>3</td></tr>",
                            "<tr><td>6194038572</td><td>Васильева Александра Владимировна</td><td>79258736745</td><td>25</td><td>250000</td><td>vasilyeava44</td><td>2</td></tr>",
                            "<tr><td>7348519260</td><td>Новиков Игорь Артемович</td><td>79256123984</td><td>3</td><td>90000</td><td>novikovia99</td><td>1</td></tr>",
                            "<tr><td>8420365197</td><td>Павлова Марина Дмитриевна</td><td>79257789012</td><td>2</td><td>70000</td><td>pavlovamd01</td><td>4</td></tr>",
                            "<tr><td>9572304618</td><td>Морозов Павел Игоревич</td><td>79251235678</td><td>4</td><td>100000</td><td>morozovpi67</td><td>3</td></tr>",
                            "<tr><td>1057264938</td><td>Алексеева Ирина Сергеевна</td><td>79251123897</td><td>1</td><td>55000</td><td>alexeevais23</td><td>2</td></tr>",
                            "<tr><td>1184365927</td><td>Сидоров Алексей Владимирович</td><td>79258716745</td><td>8</td><td>120000</td><td>sidorovav77</td><td>1</td></tr>",
                            "</table>"
                        ]
                    }
                },
                {
                    "output_type": "execute_result",
                    "metadata": {},
                    "execution_count": 143,
                    "data": {
                        "application/vnd.dataresource+json": {
                            "schema": {
                                "fields": [
                                    {
                                        "name": "id_parking"
                                    },
                                    {
                                        "name": "address"
                                    }
                                ]
                            },
                            "data": [
                                {
                                    "id_parking": "1",
                                    "address": "г. Москва, Улица Тверская, дом 10"
                                },
                                {
                                    "id_parking": "2",
                                    "address": "г. Москва, Проезд Нижегородская, дом 7"
                                },
                                {
                                    "id_parking": "3",
                                    "address": "г. Москва, Ленинский проспект, дом 45"
                                },
                                {
                                    "id_parking": "4",
                                    "address": "г. Москва, Большая Спасская улица, дом 12"
                                }
                            ]
                        },
                        "text/html": [
                            "<table>",
                            "<tr><th>id_parking</th><th>address</th></tr>",
                            "<tr><td>1</td><td>г. Москва, Улица Тверская, дом 10</td></tr>",
                            "<tr><td>2</td><td>г. Москва, Проезд Нижегородская, дом 7</td></tr>",
                            "<tr><td>3</td><td>г. Москва, Ленинский проспект, дом 45</td></tr>",
                            "<tr><td>4</td><td>г. Москва, Большая Спасская улица, дом 12</td></tr>",
                            "</table>"
                        ]
                    }
                },
                {
                    "output_type": "execute_result",
                    "metadata": {},
                    "execution_count": 143,
                    "data": {
                        "application/vnd.dataresource+json": {
                            "schema": {
                                "fields": [
                                    {
                                        "name": "username"
                                    },
                                    {
                                        "name": "password"
                                    },
                                    {
                                        "name": "role"
                                    }
                                ]
                            },
                            "data": [
                                {
                                    "username": "karpovato2611",
                                    "password": "$1$Ur3S/3Ln$Dc821wbBpXusU.L.OJV2G1",
                                    "role": "client"
                                },
                                {
                                    "username": "ivanovep1234",
                                    "password": "$1$Ur3S/3Ln$Hlc3/s/lFpmtAbjmvaF9N1",
                                    "role": "client"
                                },
                                {
                                    "username": "petrovdm2345",
                                    "password": "$1$Ur3S/3Ln$yAOgNZykjVuqtQulBHmzf/",
                                    "role": "client"
                                },
                                {
                                    "username": "sidorovama9999",
                                    "password": "$1$Ur3S/3Ln$x5wllImGI7dKFsh./tZV61",
                                    "role": "client"
                                },
                                {
                                    "username": "kuznetsovks3355",
                                    "password": "$1$Ur3S/3Ln$uQ0wDbIkIEpPz130HTJNw0",
                                    "role": "client"
                                },
                                {
                                    "username": "novikovaod8899",
                                    "password": "$1$Ur3S/3Ln$jEWLaq6b2QD8Ud9gY6X/j1",
                                    "role": "client"
                                },
                                {
                                    "username": "smirnovsp4123",
                                    "password": "$1$Ur3S/3Ln$9e9irWsFTegZa6Ni0MX49.",
                                    "role": "client"
                                },
                                {
                                    "username": "polyakovaai8998",
                                    "password": "$1$Ur3S/3Ln$YvGL2xNTEhK7Sx53vt9Dw1",
                                    "role": "client"
                                },
                                {
                                    "username": "vasilievva7777",
                                    "password": "$1$Ur3S/3Ln$SfV6cEE1xGopifOZBlRFO/",
                                    "role": "client"
                                },
                                {
                                    "username": "kozlovanv6778",
                                    "password": "$1$Ur3S/3Ln$CchJsbq2bRlB9wl3Lox47/",
                                    "role": "client"
                                },
                                {
                                    "username": "nikitinaes8877",
                                    "password": "$1$Ur3S/3Ln$jZlLK1P6w7C1.tSAvmKhY1",
                                    "role": "client"
                                },
                                {
                                    "username": "alekseevaa8855",
                                    "password": "$1$Ur3S/3Ln$1tHrVo/N3SNKlRJT6pPW3/",
                                    "role": "client"
                                },
                                {
                                    "username": "maximovam1111",
                                    "password": "$1$Ur3S/3Ln$MKa6x1jFy0C0PwHfAsFCx/",
                                    "role": "client"
                                },
                                {
                                    "username": "fedorovaf6666",
                                    "password": "$1$Ur3S/3Ln$RfQdzrb.aXigtnmzo/yRR1",
                                    "role": "client"
                                },
                                {
                                    "username": "egorova7688",
                                    "password": "$1$Ur3S/3Ln$v5khUtZHo4GP68aXkurWr.",
                                    "role": "client"
                                },
                                {
                                    "username": "dmitrievai3629",
                                    "password": "$1$Ur3S/3Ln$Dr/p5QYD/NkcY2FTNaJFY/",
                                    "role": "client"
                                },
                                {
                                    "username": "petrovaai21",
                                    "password": "$1$Ur3S/3Ln$8v8qTJSdDucXFzYEk6N96.",
                                    "role": "manager"
                                },
                                {
                                    "username": "kozlovds75",
                                    "password": "$1$Ur3S/3Ln$l4NIAZxOYSIvkQpx3s.ir0",
                                    "role": "manager"
                                },
                                {
                                    "username": "smirnovae12",
                                    "password": "$1$Ur3S/3Ln$byyU.IT7nXcoNpdamJHVC.",
                                    "role": "manager"
                                },
                                {
                                    "username": "kuznetsovma88",
                                    "password": "$1$Ur3S/3Ln$84tsalelShWMOOdhTKFAB1",
                                    "role": "manager"
                                },
                                {
                                    "username": "vasilyeava44",
                                    "password": "$1$Ur3S/3Ln$sIPw/7HeprPYwUI0LzO3h/",
                                    "role": "manager"
                                },
                                {
                                    "username": "novikovia99",
                                    "password": "$1$Ur3S/3Ln$IDauSnhxMJZDiueQkWKzd.",
                                    "role": "manager"
                                },
                                {
                                    "username": "pavlovamd01",
                                    "password": "$1$Ur3S/3Ln$WdFzrFklaU4K9rrbJXTPa1",
                                    "role": "manager"
                                },
                                {
                                    "username": "morozovpi67",
                                    "password": "$1$Ur3S/3Ln$CyDV9LLc52BXeuGCrJ2j0/",
                                    "role": "manager"
                                },
                                {
                                    "username": "alexeevais23",
                                    "password": "$1$Ur3S/3Ln$x4kIdSggO.3RBksKfocqE0",
                                    "role": "manager"
                                },
                                {
                                    "username": "sidorovav77",
                                    "password": "$1$Ur3S/3Ln$DcVAz3vza9abvditAmgHN/",
                                    "role": "manager"
                                }
                            ]
                        },
                        "text/html": [
                            "<table>",
                            "<tr><th>username</th><th>password</th><th>role</th></tr>",
                            "<tr><td>karpovato2611</td><td>$1$Ur3S/3Ln$Dc821wbBpXusU.L.OJV2G1</td><td>client</td></tr>",
                            "<tr><td>ivanovep1234</td><td>$1$Ur3S/3Ln$Hlc3/s/lFpmtAbjmvaF9N1</td><td>client</td></tr>",
                            "<tr><td>petrovdm2345</td><td>$1$Ur3S/3Ln$yAOgNZykjVuqtQulBHmzf/</td><td>client</td></tr>",
                            "<tr><td>sidorovama9999</td><td>$1$Ur3S/3Ln$x5wllImGI7dKFsh./tZV61</td><td>client</td></tr>",
                            "<tr><td>kuznetsovks3355</td><td>$1$Ur3S/3Ln$uQ0wDbIkIEpPz130HTJNw0</td><td>client</td></tr>",
                            "<tr><td>novikovaod8899</td><td>$1$Ur3S/3Ln$jEWLaq6b2QD8Ud9gY6X/j1</td><td>client</td></tr>",
                            "<tr><td>smirnovsp4123</td><td>$1$Ur3S/3Ln$9e9irWsFTegZa6Ni0MX49.</td><td>client</td></tr>",
                            "<tr><td>polyakovaai8998</td><td>$1$Ur3S/3Ln$YvGL2xNTEhK7Sx53vt9Dw1</td><td>client</td></tr>",
                            "<tr><td>vasilievva7777</td><td>$1$Ur3S/3Ln$SfV6cEE1xGopifOZBlRFO/</td><td>client</td></tr>",
                            "<tr><td>kozlovanv6778</td><td>$1$Ur3S/3Ln$CchJsbq2bRlB9wl3Lox47/</td><td>client</td></tr>",
                            "<tr><td>nikitinaes8877</td><td>$1$Ur3S/3Ln$jZlLK1P6w7C1.tSAvmKhY1</td><td>client</td></tr>",
                            "<tr><td>alekseevaa8855</td><td>$1$Ur3S/3Ln$1tHrVo/N3SNKlRJT6pPW3/</td><td>client</td></tr>",
                            "<tr><td>maximovam1111</td><td>$1$Ur3S/3Ln$MKa6x1jFy0C0PwHfAsFCx/</td><td>client</td></tr>",
                            "<tr><td>fedorovaf6666</td><td>$1$Ur3S/3Ln$RfQdzrb.aXigtnmzo/yRR1</td><td>client</td></tr>",
                            "<tr><td>egorova7688</td><td>$1$Ur3S/3Ln$v5khUtZHo4GP68aXkurWr.</td><td>client</td></tr>",
                            "<tr><td>dmitrievai3629</td><td>$1$Ur3S/3Ln$Dr/p5QYD/NkcY2FTNaJFY/</td><td>client</td></tr>",
                            "<tr><td>petrovaai21</td><td>$1$Ur3S/3Ln$8v8qTJSdDucXFzYEk6N96.</td><td>manager</td></tr>",
                            "<tr><td>kozlovds75</td><td>$1$Ur3S/3Ln$l4NIAZxOYSIvkQpx3s.ir0</td><td>manager</td></tr>",
                            "<tr><td>smirnovae12</td><td>$1$Ur3S/3Ln$byyU.IT7nXcoNpdamJHVC.</td><td>manager</td></tr>",
                            "<tr><td>kuznetsovma88</td><td>$1$Ur3S/3Ln$84tsalelShWMOOdhTKFAB1</td><td>manager</td></tr>",
                            "<tr><td>vasilyeava44</td><td>$1$Ur3S/3Ln$sIPw/7HeprPYwUI0LzO3h/</td><td>manager</td></tr>",
                            "<tr><td>novikovia99</td><td>$1$Ur3S/3Ln$IDauSnhxMJZDiueQkWKzd.</td><td>manager</td></tr>",
                            "<tr><td>pavlovamd01</td><td>$1$Ur3S/3Ln$WdFzrFklaU4K9rrbJXTPa1</td><td>manager</td></tr>",
                            "<tr><td>morozovpi67</td><td>$1$Ur3S/3Ln$CyDV9LLc52BXeuGCrJ2j0/</td><td>manager</td></tr>",
                            "<tr><td>alexeevais23</td><td>$1$Ur3S/3Ln$x4kIdSggO.3RBksKfocqE0</td><td>manager</td></tr>",
                            "<tr><td>sidorovav77</td><td>$1$Ur3S/3Ln$DcVAz3vza9abvditAmgHN/</td><td>manager</td></tr>",
                            "</table>"
                        ]
                    }
                }
            ],
            "execution_count": 143
        }
    ]
}