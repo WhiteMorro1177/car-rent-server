{
    "metadata": {
        "kernelspec": {
            "name": "SQL",
            "display_name": "SQL",
            "language": "sql"
        },
        "language_info": {
            "name": "sql",
            "version": ""
        }
    },
    "nbformat_minor": 2,
    "nbformat": 4,
    "cells": [
        {
            "cell_type": "markdown",
            "source": [
                "**Initialize database**"
            ],
            "metadata": {
                "azdata_cell_guid": "8bd1c088-7509-49d7-899b-15fb367d9433"
            },
            "attachments": {}
        },
        {
            "cell_type": "code",
            "source": [
                "\r\n",
                "/* Drop Tables */\r\n",
                "\r\n",
                "set role postgres;\r\n",
                "\r\n",
                "DROP TABLE IF EXISTS accidents;\r\n",
                "DROP TABLE IF EXISTS archive;\r\n",
                "DROP TABLE IF EXISTS manager_on_contract;\r\n",
                "DROP TABLE IF EXISTS raw_contracts;\r\n",
                "DROP TABLE IF EXISTS cars;\r\n",
                "DROP TABLE IF EXISTS clients;\r\n",
                "DROP TABLE IF EXISTS managers;\r\n",
                "DROP TABLE IF EXISTS parkings;\r\n",
                "DROP TABLE IF EXISTS users;\r\n",
                "\r\n",
                "\r\n",
                "\r\n",
                "\r\n",
                "/* Create Tables */\r\n",
                "\r\n",
                "CREATE TABLE accidents\r\n",
                "(\r\n",
                "\tID_accident int NOT NULL UNIQUE,\r\n",
                "\tvin_number varchar(100) NOT NULL UNIQUE,\r\n",
                "\tPRIMARY KEY (ID_accident)\r\n",
                ") WITHOUT OIDS;\r\n",
                "\r\n",
                "\r\n",
                "CREATE TABLE archive\r\n",
                "(\r\n",
                "\tID_record serial UNIQUE,\r\n",
                "\r\n",
                "\tID_contract int NOT NULL,\r\n",
                "\tstart_date date NOT NULL,\r\n",
                "\tend_date date NOT NULL,\r\n",
                "\ttotal_price money NOT NULL,\r\n",
                "\r\n",
                "\tcar_vin_number varchar(100) NOT NULL UNIQUE,\r\n",
                "\t\r\n",
                "\tclient_driving_license varchar(10) NOT NULL UNIQUE,\r\n",
                "\tclient_name varchar(100) NOT NULL,\r\n",
                "\tphone_number varchar(20) UNIQUE,\r\n",
                "\r\n",
                "\tmanager_passport_details varchar(90) NOT NULL UNIQUE,\r\n",
                "\tmanager_name varchar(100) NOT NULL,\r\n",
                "\r\n",
                "\tPRIMARY KEY (ID_record)\r\n",
                ") WITHOUT OIDS;\r\n",
                "\r\n",
                "\r\n",
                "CREATE TABLE cars\r\n",
                "(\r\n",
                "\tvin_number varchar(100) NOT NULL UNIQUE,\r\n",
                "\tcost_per_hour money,\r\n",
                "\tcar_brand varchar(40) NOT NULL,\r\n",
                "\tcar_color varchar(20) NOT NULL,\r\n",
                "\tcar_class varchar(20) NOT NULL,\r\n",
                "\ttransmission_type varchar(20) NOT NULL,\r\n",
                "\tfuel_type varchar(20) NOT NULL,\r\n",
                "\tID_parking int NOT NULL,\r\n",
                "\tPRIMARY KEY (vin_number)\r\n",
                ") WITHOUT OIDS;\r\n",
                "\r\n",
                "\r\n",
                "CREATE TABLE clients\r\n",
                "(\r\n",
                "\tdriving_license varchar(10) NOT NULL,\r\n",
                "\t-- Фамилия Имя Отчество клиента\r\n",
                "\tname varchar(100) NOT NULL,\r\n",
                "\t-- Потребуется для быстрой связи с клиентом. Тип данных - могло быть и число, но для простоты учебного примера - пусть будет строка\r\n",
                "\tphone varchar(20) UNIQUE,\r\n",
                "\t-- Электронный адрес\r\n",
                "\temail varchar(50) UNIQUE,\r\n",
                "\tdate_of_birth date,\r\n",
                "\tregistration_address varchar,\r\n",
                "\tresidence_address varchar,\r\n",
                "\tusername varchar(20) NOT NULL UNIQUE,\r\n",
                "\tPRIMARY KEY (driving_license)\r\n",
                ") WITHOUT OIDS;\r\n",
                "\r\n",
                "\r\n",
                "CREATE TABLE managers\r\n",
                "(\r\n",
                "\tmanager_passport_details varchar(90) NOT NULL UNIQUE,\r\n",
                "\tname varchar(100) NOT NULL,\r\n",
                "\tphone varchar(20) NOT NULL UNIQUE,\r\n",
                "\texpirience smallint DEFAULT 0,\r\n",
                "\tsalary int,\r\n",
                "\tusername varchar(20) NOT NULL UNIQUE,\r\n",
                "\tID_parking int NOT NULL UNIQUE,\r\n",
                "\tPRIMARY KEY (manager_passport_details)\r\n",
                ") WITHOUT OIDS;\r\n",
                "\r\n",
                "\r\n",
                "CREATE TABLE manager_on_contract\r\n",
                "(\r\n",
                "\tmanager_passport_details varchar(90) NOT NULL UNIQUE,\r\n",
                "\tID_contract int NOT NULL UNIQUE\r\n",
                ") WITHOUT OIDS;\r\n",
                "\r\n",
                "\r\n",
                "CREATE TABLE parkings\r\n",
                "(\r\n",
                "\tID_parking int NOT NULL UNIQUE,\r\n",
                "\taddress varchar(100) NOT NULL,\r\n",
                "\tPRIMARY KEY (ID_parking)\r\n",
                ") WITHOUT OIDS;\r\n",
                "\r\n",
                "\r\n",
                "CREATE TABLE raw_contracts\r\n",
                "(\r\n",
                "\tID_contract int NOT NULL UNIQUE,\r\n",
                "\trental_duration interval NOT NULL,\r\n",
                "\ttotal_price money NOT NULL,\r\n",
                "\tdriving_license varchar(10) NOT NULL UNIQUE,\r\n",
                "\tvin_number varchar(100) NOT NULL UNIQUE,\r\n",
                "\tsigned boolean DEFAULT 'FALSE' NOT NULL,\r\n",
                "\tPRIMARY KEY (ID_contract)\r\n",
                ") WITHOUT OIDS;\r\n",
                "\r\n",
                "\r\n",
                "CREATE TABLE users\r\n",
                "(\r\n",
                "\tusername varchar(20) NOT NULL UNIQUE,\r\n",
                "\tpassword varchar(30) NOT NULL,\r\n",
                "\trole varchar(20) NOT NULL,\r\n",
                "\tPRIMARY KEY (username)\r\n",
                ") WITHOUT OIDS;\r\n",
                "\r\n",
                "\r\n",
                "\r\n",
                "/* Create Foreign Keys */\r\n",
                "\r\n",
                "ALTER TABLE accidents\r\n",
                "\tADD FOREIGN KEY (vin_number)\r\n",
                "\tREFERENCES cars (vin_number)\r\n",
                ";\r\n",
                "\r\n",
                "\r\n",
                "ALTER TABLE raw_contracts\r\n",
                "\tADD FOREIGN KEY (vin_number)\r\n",
                "\tREFERENCES cars (vin_number)\r\n",
                ";\r\n",
                "\r\n",
                "\r\n",
                "ALTER TABLE raw_contracts\r\n",
                "\tADD FOREIGN KEY (driving_license)\r\n",
                "\tREFERENCES clients (driving_license)\r\n",
                ";\r\n",
                "\r\n",
                "\r\n",
                "ALTER TABLE manager_on_contract\r\n",
                "\tADD FOREIGN KEY (manager_passport_details)\r\n",
                "\tREFERENCES managers (manager_passport_details)\r\n",
                ";\r\n",
                "\r\n",
                "\r\n",
                "ALTER TABLE cars\r\n",
                "\tADD FOREIGN KEY (ID_parking)\r\n",
                "\tREFERENCES parkings (ID_parking)\r\n",
                ";\r\n",
                "\r\n",
                "\r\n",
                "ALTER TABLE managers\r\n",
                "\tADD FOREIGN KEY (ID_parking)\r\n",
                "\tREFERENCES parkings (ID_parking)\r\n",
                ";\r\n",
                "\r\n",
                "\r\n",
                "ALTER TABLE manager_on_contract\r\n",
                "\tADD FOREIGN KEY (ID_contract)\r\n",
                "\tREFERENCES raw_contracts (ID_contract)\r\n",
                "\tON UPDATE CASCADE\r\n",
                "\tON DELETE CASCADE\r\n",
                ";\r\n",
                "\r\n",
                "\r\n",
                "ALTER TABLE clients\r\n",
                "\tADD FOREIGN KEY (username)\r\n",
                "\tREFERENCES users (username)\r\n",
                ";\r\n",
                "\r\n",
                "\r\n",
                "ALTER TABLE managers\r\n",
                "\tADD FOREIGN KEY (username)\r\n",
                "\tREFERENCES users (username)\r\n",
                ";\r\n",
                "\r\n",
                "\r\n",
                "\r\n",
                "/* Comments */\r\n",
                "\r\n",
                "COMMENT ON COLUMN clients.name IS 'Фамилия Имя Отчество клиента';\r\n",
                "COMMENT ON COLUMN clients.phone IS 'Потребуется для быстрой связи с клиентом. Тип данных - могло быть и число, но для простоты учебного примера - пусть будет строка';\r\n",
                "COMMENT ON COLUMN clients.email IS 'Электронный адрес';"
            ],
            "metadata": {
                "azdata_cell_guid": "febc6b73-a219-4b4a-8b5f-ac56c5344e8d",
                "language": "sql",
                "tags": []
            },
            "outputs": [
                {
                    "output_type": "display_data",
                    "data": {
                        "text/html": "SET"
                    },
                    "metadata": {}
                },
                {
                    "output_type": "display_data",
                    "data": {
                        "text/html": "DROP TABLE"
                    },
                    "metadata": {}
                },
                {
                    "output_type": "display_data",
                    "data": {
                        "text/html": "DROP TABLE"
                    },
                    "metadata": {}
                },
                {
                    "output_type": "display_data",
                    "data": {
                        "text/html": "DROP TABLE"
                    },
                    "metadata": {}
                },
                {
                    "output_type": "display_data",
                    "data": {
                        "text/html": "DROP TABLE"
                    },
                    "metadata": {}
                },
                {
                    "output_type": "display_data",
                    "data": {
                        "text/html": "DROP TABLE"
                    },
                    "metadata": {}
                },
                {
                    "output_type": "display_data",
                    "data": {
                        "text/html": "DROP TABLE"
                    },
                    "metadata": {}
                },
                {
                    "output_type": "display_data",
                    "data": {
                        "text/html": "DROP TABLE"
                    },
                    "metadata": {}
                },
                {
                    "output_type": "display_data",
                    "data": {
                        "text/html": "DROP TABLE"
                    },
                    "metadata": {}
                },
                {
                    "output_type": "display_data",
                    "data": {
                        "text/html": "DROP TABLE"
                    },
                    "metadata": {}
                },
                {
                    "output_type": "display_data",
                    "data": {
                        "text/html": "CREATE TABLE"
                    },
                    "metadata": {}
                },
                {
                    "output_type": "display_data",
                    "data": {
                        "text/html": "CREATE TABLE"
                    },
                    "metadata": {}
                },
                {
                    "output_type": "display_data",
                    "data": {
                        "text/html": "CREATE TABLE"
                    },
                    "metadata": {}
                },
                {
                    "output_type": "display_data",
                    "data": {
                        "text/html": "CREATE TABLE"
                    },
                    "metadata": {}
                },
                {
                    "output_type": "display_data",
                    "data": {
                        "text/html": "CREATE TABLE"
                    },
                    "metadata": {}
                },
                {
                    "output_type": "display_data",
                    "data": {
                        "text/html": "CREATE TABLE"
                    },
                    "metadata": {}
                },
                {
                    "output_type": "display_data",
                    "data": {
                        "text/html": "CREATE TABLE"
                    },
                    "metadata": {}
                },
                {
                    "output_type": "display_data",
                    "data": {
                        "text/html": "CREATE TABLE"
                    },
                    "metadata": {}
                },
                {
                    "output_type": "display_data",
                    "data": {
                        "text/html": "CREATE TABLE"
                    },
                    "metadata": {}
                },
                {
                    "output_type": "display_data",
                    "data": {
                        "text/html": "ALTER TABLE"
                    },
                    "metadata": {}
                },
                {
                    "output_type": "display_data",
                    "data": {
                        "text/html": "ALTER TABLE"
                    },
                    "metadata": {}
                },
                {
                    "output_type": "display_data",
                    "data": {
                        "text/html": "ALTER TABLE"
                    },
                    "metadata": {}
                },
                {
                    "output_type": "display_data",
                    "data": {
                        "text/html": "ALTER TABLE"
                    },
                    "metadata": {}
                },
                {
                    "output_type": "display_data",
                    "data": {
                        "text/html": "ALTER TABLE"
                    },
                    "metadata": {}
                },
                {
                    "output_type": "display_data",
                    "data": {
                        "text/html": "ALTER TABLE"
                    },
                    "metadata": {}
                },
                {
                    "output_type": "display_data",
                    "data": {
                        "text/html": "ALTER TABLE"
                    },
                    "metadata": {}
                },
                {
                    "output_type": "display_data",
                    "data": {
                        "text/html": "ALTER TABLE"
                    },
                    "metadata": {}
                },
                {
                    "output_type": "display_data",
                    "data": {
                        "text/html": "ALTER TABLE"
                    },
                    "metadata": {}
                },
                {
                    "output_type": "display_data",
                    "data": {
                        "text/html": "COMMENT"
                    },
                    "metadata": {}
                },
                {
                    "output_type": "display_data",
                    "data": {
                        "text/html": "COMMENT"
                    },
                    "metadata": {}
                },
                {
                    "output_type": "display_data",
                    "data": {
                        "text/html": "COMMENT"
                    },
                    "metadata": {}
                },
                {
                    "output_type": "display_data",
                    "data": {
                        "text/html": "Total execution time: 00:00:00.245"
                    },
                    "metadata": {}
                }
            ],
            "execution_count": 223
        },
        {
            "cell_type": "markdown",
            "source": [
                "**Temp filling**"
            ],
            "metadata": {
                "language": "sql",
                "azdata_cell_guid": "5d1913d3-b47a-4d09-b898-299be55c0ad4"
            },
            "attachments": {}
        },
        {
            "cell_type": "code",
            "source": [
                "delete from users;\r\n",
                "\r\n",
                "INSERT INTO users (username, password, role) VALUES\r\n",
                "('user1', 'password1', 'client'),\r\n",
                "('user2', 'password2', 'manager'),\r\n",
                "('user3', 'password3', 'admin'),\r\n",
                "('user4', 'password4', 'manager');\r\n",
                "\r\n",
                "SELECT * FROM users;"
            ],
            "metadata": {
                "azdata_cell_guid": "aa372d84-be63-42fc-9872-d602ae6a080f",
                "language": "sql"
            },
            "outputs": [
                {
                    "output_type": "display_data",
                    "data": {
                        "text/html": "DELETE 0"
                    },
                    "metadata": {}
                },
                {
                    "output_type": "display_data",
                    "data": {
                        "text/html": "INSERT 0 4"
                    },
                    "metadata": {}
                },
                {
                    "output_type": "display_data",
                    "data": {
                        "text/html": "(4 row(s) affected)"
                    },
                    "metadata": {}
                },
                {
                    "output_type": "display_data",
                    "data": {
                        "text/html": "Total execution time: 00:00:00.012"
                    },
                    "metadata": {}
                },
                {
                    "output_type": "execute_result",
                    "metadata": {},
                    "execution_count": 224,
                    "data": {
                        "application/vnd.dataresource+json": {
                            "schema": {
                                "fields": [
                                    {
                                        "name": "username"
                                    },
                                    {
                                        "name": "password"
                                    },
                                    {
                                        "name": "role"
                                    }
                                ]
                            },
                            "data": [
                                {
                                    "username": "user1",
                                    "password": "password1",
                                    "role": "client"
                                },
                                {
                                    "username": "user2",
                                    "password": "password2",
                                    "role": "manager"
                                },
                                {
                                    "username": "user3",
                                    "password": "password3",
                                    "role": "admin"
                                },
                                {
                                    "username": "user4",
                                    "password": "password4",
                                    "role": "manager"
                                }
                            ]
                        },
                        "text/html": [
                            "<table>",
                            "<tr><th>username</th><th>password</th><th>role</th></tr>",
                            "<tr><td>user1</td><td>password1</td><td>client</td></tr>",
                            "<tr><td>user2</td><td>password2</td><td>manager</td></tr>",
                            "<tr><td>user3</td><td>password3</td><td>admin</td></tr>",
                            "<tr><td>user4</td><td>password4</td><td>manager</td></tr>",
                            "</table>"
                        ]
                    }
                }
            ],
            "execution_count": 224
        },
        {
            "cell_type": "markdown",
            "source": [
                "**Functions**"
            ],
            "metadata": {
                "azdata_cell_guid": "8518dc17-b550-4431-9afc-bef77362d1d6"
            },
            "attachments": {}
        },
        {
            "cell_type": "code",
            "source": [
                "drop function if exists check_auth;\r\n",
                "drop function if exists archive_contract;\r\n",
                "drop function if exists add_new_user_role;\r\n",
                "\r\n",
                "create function check_auth(input_username varchar, input_password varchar)\r\n",
                "returns varchar as \r\n",
                "$$\r\n",
                "declare \r\n",
                "    user_role varchar;\r\n",
                "begin\r\n",
                "    select role into user_role from users u\r\n",
                "    where input_username = u.username and input_password = u.password;\r\n",
                "    return user_role;\r\n",
                "end\r\n",
                "$$ LANGUAGE plpgsql;\r\n",
                "\r\n",
                "\r\n",
                "create function archive_contract() returns trigger as $$\r\n",
                "begin\r\n",
                "    if new.signed = true then\r\n",
                "        insert into archive ( ID_contract, \r\n",
                "            start_date, \r\n",
                "            end_date, \r\n",
                "            total_price, \r\n",
                "            car_vin_number, \r\n",
                "            client_driving_license, \r\n",
                "            client_name, \r\n",
                "            phone_number, \r\n",
                "            manager_passport_details, \r\n",
                "            manager_name) values (\r\n",
                "                new.ID_contract,\r\n",
                "                now(),\r\n",
                "                now() + new.rental_duration,\r\n",
                "                new.total_price,\r\n",
                "                new.vin_number,\r\n",
                "                new.driving_license,\r\n",
                "                (select name from clients c where c.driving_license = new.driving_license),\r\n",
                "                (select phone from clients c where c.driving_license = new.driving_license),\r\n",
                "                (select manager_passport_details from managers m where m.manager_passport_details in (\r\n",
                "                    select manager_passport_details from manager_on_contract mc where mc.ID_contract = new.ID_contract)\r\n",
                "                ),\r\n",
                "                (select name from managers m where m.manager_passport_details in (\r\n",
                "                    select manager_passport_details from manager_on_contract mc where mc.ID_contract = new.ID_contract)\r\n",
                "                )\r\n",
                "        );\r\n",
                "\r\n",
                "        delete from raw_contracts where new.ID_contract = old.ID_contract;\r\n",
                "        return new;\r\n",
                "    end if;\r\n",
                "end;\r\n",
                "$$ language plpgsql;"
            ],
            "metadata": {
                "azdata_cell_guid": "6f8fe525-b723-46fe-ab2a-e50c9b79e0bb",
                "language": "sql"
            },
            "outputs": [
                {
                    "output_type": "display_data",
                    "data": {
                        "text/html": "DROP FUNCTION"
                    },
                    "metadata": {}
                },
                {
                    "output_type": "display_data",
                    "data": {
                        "text/html": "DROP FUNCTION"
                    },
                    "metadata": {}
                },
                {
                    "output_type": "display_data",
                    "data": {
                        "text/html": "NOTICE: function add_new_user_role() does not exist, skipping"
                    },
                    "metadata": {}
                },
                {
                    "output_type": "display_data",
                    "data": {
                        "text/html": "DROP FUNCTION"
                    },
                    "metadata": {}
                },
                {
                    "output_type": "display_data",
                    "data": {
                        "text/html": "CREATE FUNCTION"
                    },
                    "metadata": {}
                },
                {
                    "output_type": "display_data",
                    "data": {
                        "text/html": "CREATE FUNCTION"
                    },
                    "metadata": {}
                },
                {
                    "output_type": "display_data",
                    "data": {
                        "text/html": "Total execution time: 00:00:00.033"
                    },
                    "metadata": {}
                }
            ],
            "execution_count": 225
        },
        {
            "cell_type": "markdown",
            "source": [
                "**Test**"
            ],
            "metadata": {
                "language": "sql",
                "azdata_cell_guid": "3dc47098-6992-4a4f-870f-790447489f08"
            },
            "attachments": {}
        },
        {
            "cell_type": "code",
            "source": [
                "select 'user1' as user, check_auth('user1', 'password1') as user_role;\r\n",
                "select 'user3' as user, check_auth('user3', 'password3') as user_role;\r\n",
                "select 'new user' as user, check_auth('new user', 'incorrect_password') as user_role;"
            ],
            "metadata": {
                "language": "sql",
                "azdata_cell_guid": "d1351c6d-e08b-40a9-b3a5-b953b1a23916"
            },
            "outputs": [
                {
                    "output_type": "display_data",
                    "data": {
                        "text/html": "(1 row(s) affected)"
                    },
                    "metadata": {}
                },
                {
                    "output_type": "display_data",
                    "data": {
                        "text/html": "(1 row(s) affected)"
                    },
                    "metadata": {}
                },
                {
                    "output_type": "display_data",
                    "data": {
                        "text/html": "(1 row(s) affected)"
                    },
                    "metadata": {}
                },
                {
                    "output_type": "display_data",
                    "data": {
                        "text/html": "Total execution time: 00:00:00.018"
                    },
                    "metadata": {}
                },
                {
                    "output_type": "execute_result",
                    "metadata": {},
                    "execution_count": 226,
                    "data": {
                        "application/vnd.dataresource+json": {
                            "schema": {
                                "fields": [
                                    {
                                        "name": "user"
                                    },
                                    {
                                        "name": "user_role"
                                    }
                                ]
                            },
                            "data": [
                                {
                                    "user": "user1",
                                    "user_role": "client"
                                }
                            ]
                        },
                        "text/html": [
                            "<table>",
                            "<tr><th>user</th><th>user_role</th></tr>",
                            "<tr><td>user1</td><td>client</td></tr>",
                            "</table>"
                        ]
                    }
                },
                {
                    "output_type": "execute_result",
                    "metadata": {},
                    "execution_count": 226,
                    "data": {
                        "application/vnd.dataresource+json": {
                            "schema": {
                                "fields": [
                                    {
                                        "name": "user"
                                    },
                                    {
                                        "name": "user_role"
                                    }
                                ]
                            },
                            "data": [
                                {
                                    "user": "user3",
                                    "user_role": "admin"
                                }
                            ]
                        },
                        "text/html": [
                            "<table>",
                            "<tr><th>user</th><th>user_role</th></tr>",
                            "<tr><td>user3</td><td>admin</td></tr>",
                            "</table>"
                        ]
                    }
                },
                {
                    "output_type": "execute_result",
                    "metadata": {},
                    "execution_count": 226,
                    "data": {
                        "application/vnd.dataresource+json": {
                            "schema": {
                                "fields": [
                                    {
                                        "name": "user"
                                    },
                                    {
                                        "name": "user_role"
                                    }
                                ]
                            },
                            "data": [
                                {
                                    "user": "new user",
                                    "user_role": "NULL"
                                }
                            ]
                        },
                        "text/html": [
                            "<table>",
                            "<tr><th>user</th><th>user_role</th></tr>",
                            "<tr><td>new user</td><td>NULL</td></tr>",
                            "</table>"
                        ]
                    }
                }
            ],
            "execution_count": 226
        },
        {
            "cell_type": "markdown",
            "source": [
                "**Procedures**"
            ],
            "metadata": {
                "language": "sql",
                "azdata_cell_guid": "dff6b9e3-7734-4344-8619-8f6f5e8f878c"
            },
            "attachments": {}
        },
        {
            "cell_type": "code",
            "source": [
                "drop procedure if exists add_user;\r\n",
                "\r\n",
                "create procedure add_user (user_name varchar, user_password varchar, user_role varchar default 'client') as\r\n",
                "$$\r\n",
                "begin\r\n",
                "    if not exists (select rolname from pg_roles where user_name = rolname) then\r\n",
                "        insert into users values (user_name, user_password, user_role);\r\n",
                "        execute 'create user \"'||user_name||'\" with login connection limit 1;';\r\n",
                "    end if;\r\n",
                "end;\r\n",
                "$$ language plpgsql;\r\n",
                "\r\n",
                "\r\n",
                ""
            ],
            "metadata": {
                "language": "sql",
                "azdata_cell_guid": "4537dc7b-702a-452f-a00c-bfaba58df6c9"
            },
            "outputs": [
                {
                    "output_type": "display_data",
                    "data": {
                        "text/html": "DROP PROCEDURE"
                    },
                    "metadata": {}
                },
                {
                    "output_type": "display_data",
                    "data": {
                        "text/html": "CREATE PROCEDURE"
                    },
                    "metadata": {}
                },
                {
                    "output_type": "display_data",
                    "data": {
                        "text/html": "Total execution time: 00:00:00.017"
                    },
                    "metadata": {}
                }
            ],
            "execution_count": 227
        },
        {
            "cell_type": "markdown",
            "source": [
                "**Tests**"
            ],
            "metadata": {
                "language": "sql",
                "azdata_cell_guid": "c0a57cfc-6785-4d8d-87b6-09da682cea20"
            },
            "attachments": {}
        },
        {
            "cell_type": "code",
            "source": [
                ""
            ],
            "metadata": {
                "language": "sql",
                "azdata_cell_guid": "9198d735-022b-447b-a7f3-3b9a835c2fcd"
            },
            "outputs": [
                {
                    "output_type": "display_data",
                    "data": {
                        "text/html": "Total execution time: 00:00:00"
                    },
                    "metadata": {}
                }
            ],
            "execution_count": 228
        },
        {
            "cell_type": "markdown",
            "source": [
                "**Triggres**"
            ],
            "metadata": {
                "language": "sql",
                "azdata_cell_guid": "449f6013-1f2c-4b37-9900-094330ad9581"
            },
            "attachments": {}
        },
        {
            "cell_type": "code",
            "source": [
                "CREATE OR REPLACE TRIGGER contract_signed \r\n",
                "    AFTER UPDATE OF signed \r\n",
                "    ON raw_contracts\r\n",
                "    FOR EACH ROW\r\n",
                "    EXECUTE PROCEDURE archive_contract();"
            ],
            "metadata": {
                "language": "sql",
                "azdata_cell_guid": "97d75978-dc1f-4b05-9060-3fdcc984e233",
                "tags": []
            },
            "outputs": [
                {
                    "output_type": "display_data",
                    "data": {
                        "text/html": "CREATE TRIGGER"
                    },
                    "metadata": {}
                },
                {
                    "output_type": "display_data",
                    "data": {
                        "text/html": "Total execution time: 00:00:00.013"
                    },
                    "metadata": {}
                }
            ],
            "execution_count": 229
        },
        {
            "cell_type": "markdown",
            "source": [
                "**Test**"
            ],
            "metadata": {
                "language": "sql",
                "azdata_cell_guid": "816986ae-1c6f-4a58-ae6b-e31294534542"
            },
            "attachments": {}
        },
        {
            "cell_type": "code",
            "source": [
                "delete from raw_contracts;\r\n",
                "delete from archive;\r\n",
                "delete from cars;\r\n",
                "delete from parkings;\r\n",
                "delete from clients;\r\n",
                "delete from managers;\r\n",
                "\r\n",
                "insert into parkings values \r\n",
                "(1, 'asfiaslfdgashdfguiapshg'),\r\n",
                "(2, 'gflsdjiopsjdfoigaoijbdi');\r\n",
                "\r\n",
                "insert into managers values \r\n",
                "('manager passport 1', 'manager name 1', 'manager phone 1', DEFAULT, 10, 'user2', 1),\r\n",
                "('manager passport 2', 'manager name 2', 'manager phone 2', DEFAULT, 20, 'user4', 2);\r\n",
                "\r\n",
                "insert into clients values \r\n",
                "('1234567891', 'client name', 'client phone', 'client email', now(), 'reg address', 'rev address', 'user1');\r\n",
                "\r\n",
                "insert into cars values \r\n",
                "('123764192341192834912', 1.00, 'car brand 1', 'car color 1', 'car class 1', 'akpp', 'ai-95', 1),\r\n",
                "('248597238945703124582', 2.00, 'car brand 2', 'car color 2', 'car class 2', 'mkpp', 'ai-95', 2),\r\n",
                "('234587923452475245883', 3.00, 'car brand 3', 'car color 3', 'car class 3', 'akpp', 'ai-95', 2);\r\n",
                "\r\n",
                "insert into raw_contracts values\r\n",
                "(1, '1 day', 1000.00, '1234567891', '123764192341192834912');\r\n",
                "\r\n",
                "insert into manager_on_contract values\r\n",
                "('manager passport 1', 1);\r\n",
                "\r\n",
                "\r\n",
                "select * from raw_contracts;\r\n",
                "select * from archive;\r\n",
                "\r\n",
                "\r\n",
                "update raw_contracts\r\n",
                "set signed = true \r\n",
                "where ID_contract = 1;\r\n",
                "\r\n",
                "\r\n",
                "select * from archive;\r\n",
                "select * from raw_contracts;\r\n",
                "select * from manager_on_contract;"
            ],
            "metadata": {
                "language": "sql",
                "azdata_cell_guid": "35718f81-384d-4ef3-bf77-d3b4cde8cf75"
            },
            "outputs": [
                {
                    "output_type": "display_data",
                    "data": {
                        "text/html": "DELETE 0"
                    },
                    "metadata": {}
                },
                {
                    "output_type": "display_data",
                    "data": {
                        "text/html": "DELETE 0"
                    },
                    "metadata": {}
                },
                {
                    "output_type": "display_data",
                    "data": {
                        "text/html": "DELETE 0"
                    },
                    "metadata": {}
                },
                {
                    "output_type": "display_data",
                    "data": {
                        "text/html": "DELETE 0"
                    },
                    "metadata": {}
                },
                {
                    "output_type": "display_data",
                    "data": {
                        "text/html": "DELETE 0"
                    },
                    "metadata": {}
                },
                {
                    "output_type": "display_data",
                    "data": {
                        "text/html": "DELETE 0"
                    },
                    "metadata": {}
                },
                {
                    "output_type": "display_data",
                    "data": {
                        "text/html": "INSERT 0 2"
                    },
                    "metadata": {}
                },
                {
                    "output_type": "display_data",
                    "data": {
                        "text/html": "INSERT 0 2"
                    },
                    "metadata": {}
                },
                {
                    "output_type": "display_data",
                    "data": {
                        "text/html": "INSERT 0 1"
                    },
                    "metadata": {}
                },
                {
                    "output_type": "display_data",
                    "data": {
                        "text/html": "INSERT 0 3"
                    },
                    "metadata": {}
                },
                {
                    "output_type": "display_data",
                    "data": {
                        "text/html": "INSERT 0 1"
                    },
                    "metadata": {}
                },
                {
                    "output_type": "display_data",
                    "data": {
                        "text/html": "INSERT 0 1"
                    },
                    "metadata": {}
                },
                {
                    "output_type": "display_data",
                    "data": {
                        "text/html": "(1 row(s) affected)"
                    },
                    "metadata": {}
                },
                {
                    "output_type": "display_data",
                    "data": {
                        "text/html": "(0 row(s) affected)"
                    },
                    "metadata": {}
                },
                {
                    "output_type": "display_data",
                    "data": {
                        "text/html": "UPDATE 1"
                    },
                    "metadata": {}
                },
                {
                    "output_type": "display_data",
                    "data": {
                        "text/html": "(1 row(s) affected)"
                    },
                    "metadata": {}
                },
                {
                    "output_type": "display_data",
                    "data": {
                        "text/html": "(0 row(s) affected)"
                    },
                    "metadata": {}
                },
                {
                    "output_type": "display_data",
                    "data": {
                        "text/html": "(0 row(s) affected)"
                    },
                    "metadata": {}
                },
                {
                    "output_type": "display_data",
                    "data": {
                        "text/html": "Total execution time: 00:00:00.085"
                    },
                    "metadata": {}
                },
                {
                    "output_type": "execute_result",
                    "metadata": {},
                    "execution_count": 230,
                    "data": {
                        "application/vnd.dataresource+json": {
                            "schema": {
                                "fields": [
                                    {
                                        "name": "id_contract"
                                    },
                                    {
                                        "name": "rental_duration"
                                    },
                                    {
                                        "name": "total_price"
                                    },
                                    {
                                        "name": "driving_license"
                                    },
                                    {
                                        "name": "vin_number"
                                    },
                                    {
                                        "name": "signed"
                                    }
                                ]
                            },
                            "data": [
                                {
                                    "id_contract": "1",
                                    "rental_duration": "1 day",
                                    "total_price": "$1,000.00",
                                    "driving_license": "1234567891",
                                    "vin_number": "123764192341192834912",
                                    "signed": "False"
                                }
                            ]
                        },
                        "text/html": [
                            "<table>",
                            "<tr><th>id_contract</th><th>rental_duration</th><th>total_price</th><th>driving_license</th><th>vin_number</th><th>signed</th></tr>",
                            "<tr><td>1</td><td>1 day</td><td>$1,000.00</td><td>1234567891</td><td>123764192341192834912</td><td>False</td></tr>",
                            "</table>"
                        ]
                    }
                },
                {
                    "output_type": "execute_result",
                    "metadata": {},
                    "execution_count": 230,
                    "data": {
                        "application/vnd.dataresource+json": {
                            "schema": {
                                "fields": [
                                    {
                                        "name": "id_record"
                                    },
                                    {
                                        "name": "id_contract"
                                    },
                                    {
                                        "name": "start_date"
                                    },
                                    {
                                        "name": "end_date"
                                    },
                                    {
                                        "name": "total_price"
                                    },
                                    {
                                        "name": "car_vin_number"
                                    },
                                    {
                                        "name": "client_driving_license"
                                    },
                                    {
                                        "name": "client_name"
                                    },
                                    {
                                        "name": "phone_number"
                                    },
                                    {
                                        "name": "manager_passport_details"
                                    },
                                    {
                                        "name": "manager_name"
                                    }
                                ]
                            },
                            "data": []
                        },
                        "text/html": [
                            "<table>",
                            "<tr><th>id_record</th><th>id_contract</th><th>start_date</th><th>end_date</th><th>total_price</th><th>car_vin_number</th><th>client_driving_license</th><th>client_name</th><th>phone_number</th><th>manager_passport_details</th><th>manager_name</th></tr>",
                            "</table>"
                        ]
                    }
                },
                {
                    "output_type": "execute_result",
                    "metadata": {},
                    "execution_count": 230,
                    "data": {
                        "application/vnd.dataresource+json": {
                            "schema": {
                                "fields": [
                                    {
                                        "name": "id_record"
                                    },
                                    {
                                        "name": "id_contract"
                                    },
                                    {
                                        "name": "start_date"
                                    },
                                    {
                                        "name": "end_date"
                                    },
                                    {
                                        "name": "total_price"
                                    },
                                    {
                                        "name": "car_vin_number"
                                    },
                                    {
                                        "name": "client_driving_license"
                                    },
                                    {
                                        "name": "client_name"
                                    },
                                    {
                                        "name": "phone_number"
                                    },
                                    {
                                        "name": "manager_passport_details"
                                    },
                                    {
                                        "name": "manager_name"
                                    }
                                ]
                            },
                            "data": [
                                {
                                    "id_record": "1",
                                    "id_contract": "1",
                                    "start_date": "2023-12-12",
                                    "end_date": "2023-12-13",
                                    "total_price": "$1,000.00",
                                    "car_vin_number": "123764192341192834912",
                                    "client_driving_license": "1234567891",
                                    "client_name": "client name",
                                    "phone_number": "client phone",
                                    "manager_passport_details": "manager passport 1",
                                    "manager_name": "manager name 1"
                                }
                            ]
                        },
                        "text/html": [
                            "<table>",
                            "<tr><th>id_record</th><th>id_contract</th><th>start_date</th><th>end_date</th><th>total_price</th><th>car_vin_number</th><th>client_driving_license</th><th>client_name</th><th>phone_number</th><th>manager_passport_details</th><th>manager_name</th></tr>",
                            "<tr><td>1</td><td>1</td><td>2023-12-12</td><td>2023-12-13</td><td>$1,000.00</td><td>123764192341192834912</td><td>1234567891</td><td>client name</td><td>client phone</td><td>manager passport 1</td><td>manager name 1</td></tr>",
                            "</table>"
                        ]
                    }
                },
                {
                    "output_type": "execute_result",
                    "metadata": {},
                    "execution_count": 230,
                    "data": {
                        "application/vnd.dataresource+json": {
                            "schema": {
                                "fields": [
                                    {
                                        "name": "id_contract"
                                    },
                                    {
                                        "name": "rental_duration"
                                    },
                                    {
                                        "name": "total_price"
                                    },
                                    {
                                        "name": "driving_license"
                                    },
                                    {
                                        "name": "vin_number"
                                    },
                                    {
                                        "name": "signed"
                                    }
                                ]
                            },
                            "data": []
                        },
                        "text/html": [
                            "<table>",
                            "<tr><th>id_contract</th><th>rental_duration</th><th>total_price</th><th>driving_license</th><th>vin_number</th><th>signed</th></tr>",
                            "</table>"
                        ]
                    }
                },
                {
                    "output_type": "execute_result",
                    "metadata": {},
                    "execution_count": 230,
                    "data": {
                        "application/vnd.dataresource+json": {
                            "schema": {
                                "fields": [
                                    {
                                        "name": "manager_passport_details"
                                    },
                                    {
                                        "name": "id_contract"
                                    }
                                ]
                            },
                            "data": []
                        },
                        "text/html": [
                            "<table>",
                            "<tr><th>manager_passport_details</th><th>id_contract</th></tr>",
                            "</table>"
                        ]
                    }
                }
            ],
            "execution_count": 230
        },
        {
            "cell_type": "markdown",
            "source": [
                "**Roles**"
            ],
            "metadata": {
                "language": "sql",
                "azdata_cell_guid": "d5fc3f65-0453-49dd-88b3-ff6609b38a0b"
            },
            "attachments": {}
        },
        {
            "cell_type": "code",
            "source": [
                "/*\r\n",
                "drop role if exists _admin;\r\n",
                "drop role if exists _manager;\r\n",
                "drop role if exists _client;\r\n",
                "\r\n",
                "\r\n",
                "-- Create roles\r\n",
                "\r\n",
                "\r\n",
                "create role _admin createrole login;\r\n",
                "create role _manager inherit login;\r\n",
                "create role _client inherit login;\r\n",
                "*/\r\n",
                "\r\n",
                "------------------------------------------\r\n",
                "\r\n",
                "-- Admin configuration\r\n",
                "grant all on all tables in schema public to _admin;\r\n",
                "\r\n",
                "\r\n",
                "-- Manager configuration\r\n",
                "grant select on cars, managers, archive to _manager;\r\n",
                "grant insert on archive, accidents to _manager;\r\n",
                "\r\n",
                "\r\n",
                "\r\n",
                "-- Client configuration\r\n",
                "grant insert on raw_contracts to _client;\r\n",
                "grant select on cars to _client;\r\n",
                "\r\n",
                "\r\n",
                "\r\n",
                "------------------------------------------\r\n",
                "\r\n",
                "\r\n",
                "\r\n",
                "\r\n",
                "-- Create admin users\r\n",
                "\r\n",
                "\r\n",
                "\r\n",
                "-- Create manager users\r\n",
                "\r\n",
                "\r\n",
                "\r\n",
                "-- Create client users\r\n",
                "\r\n",
                "\r\n",
                "\r\n",
                "\r\n",
                "\r\n",
                "------------------------------------------\r\n",
                "\r\n",
                "\r\n",
                "/*\r\n",
                "\r\n",
                "create user user4;\r\n",
                "grant _manager to user4;\r\n",
                "\r\n",
                "\r\n",
                "\r\n",
                "\r\n",
                "grant select on cars, managers to _manager;\r\n",
                "grant select, insert on archive, accidents to _manager;\r\n",
                "grant update on raw_contracts to _manager;\r\n",
                "\r\n",
                "grant insert on raw_contracts to _client;\r\n",
                "*/\r\n",
                ""
            ],
            "metadata": {
                "language": "sql",
                "azdata_cell_guid": "53f37fe3-f82b-492a-a8d4-a19006308be4"
            },
            "outputs": [
                {
                    "output_type": "display_data",
                    "data": {
                        "text/html": "GRANT"
                    },
                    "metadata": {}
                },
                {
                    "output_type": "display_data",
                    "data": {
                        "text/html": "GRANT"
                    },
                    "metadata": {}
                },
                {
                    "output_type": "display_data",
                    "data": {
                        "text/html": "GRANT"
                    },
                    "metadata": {}
                },
                {
                    "output_type": "display_data",
                    "data": {
                        "text/html": "GRANT"
                    },
                    "metadata": {}
                },
                {
                    "output_type": "display_data",
                    "data": {
                        "text/html": "GRANT"
                    },
                    "metadata": {}
                },
                {
                    "output_type": "display_data",
                    "data": {
                        "text/html": "Total execution time: 00:00:00.030"
                    },
                    "metadata": {}
                }
            ],
            "execution_count": 231
        },
        {
            "cell_type": "markdown",
            "source": [
                "**Test**"
            ],
            "metadata": {
                "language": "sql",
                "azdata_cell_guid": "eb51d037-4261-4575-877a-a3f4e418753e"
            },
            "attachments": {}
        },
        {
            "cell_type": "code",
            "source": [
                "set role postgres;\r\n",
                "\r\n",
                "call add_user('new_user', 'new_password');\r\n",
                "\r\n",
                "select * from users;\r\n",
                "\r\n",
                "select rolname from pg_roles;"
            ],
            "metadata": {
                "language": "sql",
                "azdata_cell_guid": "6972591c-35bf-421f-be5f-fdb9378c5128"
            },
            "outputs": [
                {
                    "output_type": "display_data",
                    "data": {
                        "text/html": "SET"
                    },
                    "metadata": {}
                },
                {
                    "output_type": "display_data",
                    "data": {
                        "text/html": "CALL"
                    },
                    "metadata": {}
                },
                {
                    "output_type": "display_data",
                    "data": {
                        "text/html": "(4 row(s) affected)"
                    },
                    "metadata": {}
                },
                {
                    "output_type": "display_data",
                    "data": {
                        "text/html": "(20 row(s) affected)"
                    },
                    "metadata": {}
                },
                {
                    "output_type": "display_data",
                    "data": {
                        "text/html": "Total execution time: 00:00:00.015"
                    },
                    "metadata": {}
                },
                {
                    "output_type": "execute_result",
                    "metadata": {},
                    "execution_count": 232,
                    "data": {
                        "application/vnd.dataresource+json": {
                            "schema": {
                                "fields": [
                                    {
                                        "name": "username"
                                    },
                                    {
                                        "name": "password"
                                    },
                                    {
                                        "name": "role"
                                    }
                                ]
                            },
                            "data": [
                                {
                                    "username": "user1",
                                    "password": "password1",
                                    "role": "client"
                                },
                                {
                                    "username": "user2",
                                    "password": "password2",
                                    "role": "manager"
                                },
                                {
                                    "username": "user3",
                                    "password": "password3",
                                    "role": "admin"
                                },
                                {
                                    "username": "user4",
                                    "password": "password4",
                                    "role": "manager"
                                }
                            ]
                        },
                        "text/html": [
                            "<table>",
                            "<tr><th>username</th><th>password</th><th>role</th></tr>",
                            "<tr><td>user1</td><td>password1</td><td>client</td></tr>",
                            "<tr><td>user2</td><td>password2</td><td>manager</td></tr>",
                            "<tr><td>user3</td><td>password3</td><td>admin</td></tr>",
                            "<tr><td>user4</td><td>password4</td><td>manager</td></tr>",
                            "</table>"
                        ]
                    }
                },
                {
                    "output_type": "execute_result",
                    "metadata": {},
                    "execution_count": 232,
                    "data": {
                        "application/vnd.dataresource+json": {
                            "schema": {
                                "fields": [
                                    {
                                        "name": "rolname"
                                    }
                                ]
                            },
                            "data": [
                                {
                                    "rolname": "pg_database_owner"
                                },
                                {
                                    "rolname": "pg_read_all_data"
                                },
                                {
                                    "rolname": "pg_write_all_data"
                                },
                                {
                                    "rolname": "pg_monitor"
                                },
                                {
                                    "rolname": "pg_read_all_settings"
                                },
                                {
                                    "rolname": "pg_read_all_stats"
                                },
                                {
                                    "rolname": "pg_stat_scan_tables"
                                },
                                {
                                    "rolname": "pg_read_server_files"
                                },
                                {
                                    "rolname": "pg_write_server_files"
                                },
                                {
                                    "rolname": "pg_execute_server_program"
                                },
                                {
                                    "rolname": "pg_signal_backend"
                                },
                                {
                                    "rolname": "pg_checkpoint"
                                },
                                {
                                    "rolname": "pg_use_reserved_connections"
                                },
                                {
                                    "rolname": "pg_create_subscription"
                                },
                                {
                                    "rolname": "postgres"
                                },
                                {
                                    "rolname": "_admin"
                                },
                                {
                                    "rolname": "_manager"
                                },
                                {
                                    "rolname": "_client"
                                },
                                {
                                    "rolname": "user234"
                                },
                                {
                                    "rolname": "new_user"
                                }
                            ]
                        },
                        "text/html": [
                            "<table>",
                            "<tr><th>rolname</th></tr>",
                            "<tr><td>pg_database_owner</td></tr>",
                            "<tr><td>pg_read_all_data</td></tr>",
                            "<tr><td>pg_write_all_data</td></tr>",
                            "<tr><td>pg_monitor</td></tr>",
                            "<tr><td>pg_read_all_settings</td></tr>",
                            "<tr><td>pg_read_all_stats</td></tr>",
                            "<tr><td>pg_stat_scan_tables</td></tr>",
                            "<tr><td>pg_read_server_files</td></tr>",
                            "<tr><td>pg_write_server_files</td></tr>",
                            "<tr><td>pg_execute_server_program</td></tr>",
                            "<tr><td>pg_signal_backend</td></tr>",
                            "<tr><td>pg_checkpoint</td></tr>",
                            "<tr><td>pg_use_reserved_connections</td></tr>",
                            "<tr><td>pg_create_subscription</td></tr>",
                            "<tr><td>postgres</td></tr>",
                            "<tr><td>_admin</td></tr>",
                            "<tr><td>_manager</td></tr>",
                            "<tr><td>_client</td></tr>",
                            "<tr><td>user234</td></tr>",
                            "<tr><td>new_user</td></tr>",
                            "</table>"
                        ]
                    }
                }
            ],
            "execution_count": 232
        },
        {
            "cell_type": "markdown",
            "source": [
                "**Polices**"
            ],
            "metadata": {
                "language": "sql",
                "azdata_cell_guid": "577dc6d4-b5de-4658-8d87-0d17cb32bfff"
            },
            "attachments": {}
        },
        {
            "cell_type": "code",
            "source": [
                "set role postgres;\r\n",
                "alter table cars enable row level security;\r\n",
                "\r\n",
                "-- drop policy manager_select_policy;\r\n",
                "-- drop policy manager_select_cars_policy;\r\n",
                "\r\n",
                "create policy manager_select_cars_policy on cars\r\n",
                "    for select to _manager\r\n",
                "    using ((select ID_parking from managers where username = current_user) = ID_parking);\r\n",
                ""
            ],
            "metadata": {
                "language": "sql",
                "azdata_cell_guid": "6684aa35-dff7-4e02-ba61-33b690d15507"
            },
            "outputs": [
                {
                    "output_type": "display_data",
                    "data": {
                        "text/html": "SET"
                    },
                    "metadata": {}
                },
                {
                    "output_type": "display_data",
                    "data": {
                        "text/html": "ALTER TABLE"
                    },
                    "metadata": {}
                },
                {
                    "output_type": "display_data",
                    "data": {
                        "text/html": "CREATE POLICY"
                    },
                    "metadata": {}
                },
                {
                    "output_type": "display_data",
                    "data": {
                        "text/html": "Total execution time: 00:00:00.021"
                    },
                    "metadata": {}
                }
            ],
            "execution_count": 233
        },
        {
            "cell_type": "markdown",
            "source": [
                "**Test**"
            ],
            "metadata": {
                "language": "sql",
                "azdata_cell_guid": "1d31c627-e61d-4fe1-849e-3c6f44d35aa3"
            },
            "attachments": {}
        },
        {
            "cell_type": "code",
            "source": [
                ""
            ],
            "metadata": {
                "language": "sql",
                "azdata_cell_guid": "f80a929d-da08-41a6-95b2-5efa4450dc1a"
            },
            "outputs": [
{
    "output_type": "display_data",
    "data": {
        "text/html": "Total execution time: 00:00:00"
    },
    "metadata": {}
}
],
            "execution_count": 234
        }
    ]
}