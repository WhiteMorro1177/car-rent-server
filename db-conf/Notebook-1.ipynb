{
    "metadata": {
        "kernelspec": {
            "name": "SQL",
            "display_name": "SQL",
            "language": "sql"
        },
        "language_info": {
            "name": "sql",
            "version": ""
        }
    },
    "nbformat_minor": 2,
    "nbformat": 4,
    "cells": [
        {
            "cell_type": "markdown",
            "source": [
                "**Initialize database**"
            ],
            "metadata": {
                "azdata_cell_guid": "8bd1c088-7509-49d7-899b-15fb367d9433"
            },
            "attachments": {}
        },
        {
            "cell_type": "code",
            "source": [
                "\r\n",
                "/* Drop Tables */\r\n",
                "\r\n",
                "set role postgres;\r\n",
                "\r\n",
                "DROP TABLE IF EXISTS accidents;\r\n",
                "DROP TABLE IF EXISTS archive;\r\n",
                "DROP TABLE IF EXISTS manager_on_contract;\r\n",
                "DROP TABLE IF EXISTS raw_contracts;\r\n",
                "DROP TABLE IF EXISTS cars;\r\n",
                "DROP TABLE IF EXISTS clients;\r\n",
                "DROP TABLE IF EXISTS managers;\r\n",
                "DROP TABLE IF EXISTS parkings;\r\n",
                "DROP TABLE IF EXISTS users;\r\n",
                "\r\n",
                "\r\n",
                "\r\n",
                "\r\n",
                "/* Create Tables */\r\n",
                "\r\n",
                "CREATE TABLE accidents\r\n",
                "(\r\n",
                "\tID_accident int NOT NULL UNIQUE,\r\n",
                "\tis_confirmed boolean NOT NULL,\r\n",
                "\tdriving_license varchar(10) NOT NULL,\r\n",
                "\tvin_number varchar(100) NOT NULL UNIQUE,\r\n",
                "\tPRIMARY KEY (ID_accident)\r\n",
                ") WITHOUT OIDS;\r\n",
                "\r\n",
                "\r\n",
                "CREATE TABLE archive\r\n",
                "(\r\n",
                "\tID_record serial UNIQUE,\r\n",
                "\r\n",
                "\tID_contract int NOT NULL,\r\n",
                "\tstart_date date NOT NULL,\r\n",
                "\tend_date date NOT NULL,\r\n",
                "\ttotal_price money NOT NULL,\r\n",
                "\r\n",
                "\tcar_vin_number varchar(100) NOT NULL UNIQUE,\r\n",
                "\t\r\n",
                "\tclient_driving_license varchar(10) NOT NULL UNIQUE,\r\n",
                "\tclient_name varchar(100) NOT NULL,\r\n",
                "\tphone_number varchar(20) UNIQUE,\r\n",
                "\r\n",
                "\tmanager_passport_details varchar(90) NOT NULL UNIQUE,\r\n",
                "\tmanager_name varchar(100) NOT NULL,\r\n",
                "\r\n",
                "\tPRIMARY KEY (ID_record)\r\n",
                ") WITHOUT OIDS;\r\n",
                "\r\n",
                "\r\n",
                "CREATE TABLE cars\r\n",
                "(\r\n",
                "\tvin_number varchar(100) NOT NULL UNIQUE,\r\n",
                "\tcost_per_hour money,\r\n",
                "\tcar_brand varchar(40) NOT NULL,\r\n",
                "\tcar_color varchar(20) NOT NULL,\r\n",
                "\tcar_class varchar(20) NOT NULL,\r\n",
                "\ttransmission_type varchar(4) NOT NULL,\r\n",
                "\tfuel_type varchar(20) NOT NULL,\r\n",
                "\tlocked boolean DEFAULT 'FALSE' NOT NULL,\r\n",
                "\tID_parking int NOT NULL,\r\n",
                "\tPRIMARY KEY (vin_number)\r\n",
                ") WITHOUT OIDS;\r\n",
                "\r\n",
                "\r\n",
                "CREATE TABLE clients\r\n",
                "(\r\n",
                "\tdriving_license varchar(10) NOT NULL,\r\n",
                "\tname varchar(100) NOT NULL,\r\n",
                "\tphone varchar(20) UNIQUE,\r\n",
                "\temail varchar(50) UNIQUE,\r\n",
                "\tdate_of_birth date,\r\n",
                "\tregistration_address varchar,\r\n",
                "\tresidence_address varchar,\r\n",
                "\tusername varchar(20) NOT NULL UNIQUE,\r\n",
                "\tPRIMARY KEY (driving_license)\r\n",
                ") WITHOUT OIDS;\r\n",
                "\r\n",
                "\r\n",
                "CREATE TABLE managers\r\n",
                "(\r\n",
                "\tmanager_passport_details varchar(90) NOT NULL UNIQUE,\r\n",
                "\tname varchar(100) NOT NULL,\r\n",
                "\tphone varchar(20) NOT NULL UNIQUE,\r\n",
                "\texpirience smallint DEFAULT 0,\r\n",
                "\tsalary int,\r\n",
                "\tusername varchar(20) NOT NULL UNIQUE,\r\n",
                "\tID_parking int NOT NULL UNIQUE,\r\n",
                "\tPRIMARY KEY (manager_passport_details)\r\n",
                ") WITHOUT OIDS;\r\n",
                "\r\n",
                "\r\n",
                "CREATE TABLE manager_on_contract\r\n",
                "(\r\n",
                "\tmanager_passport_details varchar(90) NOT NULL UNIQUE,\r\n",
                "\tID_contract int NOT NULL UNIQUE\r\n",
                ") WITHOUT OIDS;\r\n",
                "\r\n",
                "\r\n",
                "CREATE TABLE parkings\r\n",
                "(\r\n",
                "\tID_parking int NOT NULL UNIQUE,\r\n",
                "\taddress varchar(100) NOT NULL,\r\n",
                "\tPRIMARY KEY (ID_parking)\r\n",
                ") WITHOUT OIDS;\r\n",
                "\r\n",
                "\r\n",
                "CREATE TABLE raw_contracts\r\n",
                "(\r\n",
                "\tID_contract int NOT NULL UNIQUE,\r\n",
                "\trental_duration interval NOT NULL,\r\n",
                "\ttotal_price money NOT NULL,\r\n",
                "\tdriving_license varchar(10) NOT NULL UNIQUE,\r\n",
                "\tvin_number varchar(100) NOT NULL UNIQUE,\r\n",
                "\tsigned boolean DEFAULT 'FALSE' NOT NULL,\r\n",
                "\tPRIMARY KEY (ID_contract)\r\n",
                ") WITHOUT OIDS;\r\n",
                "\r\n",
                "\r\n",
                "CREATE TABLE users\r\n",
                "(\r\n",
                "\tusername varchar(20) NOT NULL UNIQUE,\r\n",
                "\tpassword varchar(30) NOT NULL,\r\n",
                "\tPRIMARY KEY (username)\r\n",
                ") WITHOUT OIDS;\r\n",
                "\r\n",
                "\r\n",
                "\r\n",
                "/* Create Foreign Keys */\r\n",
                "\r\n",
                "ALTER TABLE accidents\r\n",
                "\tADD FOREIGN KEY (vin_number)\r\n",
                "\tREFERENCES cars (vin_number)\r\n",
                "\tON UPDATE NO ACTION\r\n",
                "\tON DELETE NO ACTION\r\n",
                ";\r\n",
                "\r\n",
                "\r\n",
                "ALTER TABLE accidents\r\n",
                "\tADD FOREIGN KEY (driving_license)\r\n",
                "\tREFERENCES clients (driving_license)\r\n",
                "\tON UPDATE NO ACTION\r\n",
                "\tON DELETE NO ACTION\r\n",
                ";\r\n",
                "\r\n",
                "\r\n",
                "ALTER TABLE raw_contracts\r\n",
                "\tADD FOREIGN KEY (vin_number)\r\n",
                "\tREFERENCES cars (vin_number)\r\n",
                "\tON UPDATE NO ACTION\r\n",
                "\tON DELETE NO ACTION\r\n",
                ";\r\n",
                "\r\n",
                "\r\n",
                "ALTER TABLE raw_contracts\r\n",
                "\tADD FOREIGN KEY (driving_license)\r\n",
                "\tREFERENCES clients (driving_license)\r\n",
                "\tON UPDATE NO ACTION\r\n",
                "\tON DELETE NO ACTION\r\n",
                ";\r\n",
                "\r\n",
                "\r\n",
                "ALTER TABLE manager_on_contract\r\n",
                "\tADD FOREIGN KEY (manager_passport_details)\r\n",
                "\tREFERENCES managers (manager_passport_details)\r\n",
                "\tON UPDATE NO ACTION\r\n",
                "\tON DELETE NO ACTION\r\n",
                ";\r\n",
                "\r\n",
                "\r\n",
                "ALTER TABLE cars\r\n",
                "\tADD FOREIGN KEY (ID_parking)\r\n",
                "\tREFERENCES parkings (ID_parking)\r\n",
                "\tON UPDATE NO ACTION\r\n",
                "\tON DELETE NO ACTION\r\n",
                ";\r\n",
                "\r\n",
                "\r\n",
                "ALTER TABLE managers\r\n",
                "\tADD FOREIGN KEY (ID_parking)\r\n",
                "\tREFERENCES parkings (ID_parking)\r\n",
                "\tON UPDATE NO ACTION\r\n",
                "\tON DELETE NO ACTION\r\n",
                ";\r\n",
                "\r\n",
                "\r\n",
                "ALTER TABLE manager_on_contract\r\n",
                "\tADD FOREIGN KEY (ID_contract)\r\n",
                "\tREFERENCES raw_contracts (ID_contract)\r\n",
                "\tON UPDATE CASCADE\r\n",
                "\tON DELETE CASCADE\r\n",
                ";\r\n",
                "\r\n",
                "\r\n",
                "ALTER TABLE clients\r\n",
                "\tADD FOREIGN KEY (username)\r\n",
                "\tREFERENCES users (username)\r\n",
                "\tON UPDATE NO ACTION\r\n",
                "\tON DELETE NO ACTION\r\n",
                ";\r\n",
                "\r\n",
                "\r\n",
                "ALTER TABLE managers\r\n",
                "\tADD FOREIGN KEY (username)\r\n",
                "\tREFERENCES users (username)\r\n",
                "\tON UPDATE NO ACTION\r\n",
                "\tON DELETE NO ACTION\r\n",
                ";\r\n",
                "\r\n",
                "\r\n",
                "\r\n",
                "/* Comments */\r\n",
                "\r\n",
                "COMMENT ON COLUMN clients.name IS 'Фамилия Имя Отчество клиента';\r\n",
                "COMMENT ON COLUMN clients.phone IS 'Потребуется для быстрой связи с клиентом. Тип данных - могло быть и число, но для простоты учебного примера - пусть будет строка';\r\n",
                "COMMENT ON COLUMN clients.email IS 'Электронный адрес';"
            ],
            "metadata": {
                "azdata_cell_guid": "febc6b73-a219-4b4a-8b5f-ac56c5344e8d",
                "language": "sql",
                "tags": []
            },
            "outputs": [
                {
                    "output_type": "display_data",
                    "data": {
                        "text/html": "SET"
                    },
                    "metadata": {}
                },
                {
                    "output_type": "display_data",
                    "data": {
                        "text/html": "DROP TABLE"
                    },
                    "metadata": {}
                },
                {
                    "output_type": "display_data",
                    "data": {
                        "text/html": "DROP TABLE"
                    },
                    "metadata": {}
                },
                {
                    "output_type": "display_data",
                    "data": {
                        "text/html": "DROP TABLE"
                    },
                    "metadata": {}
                },
                {
                    "output_type": "display_data",
                    "data": {
                        "text/html": "DROP TABLE"
                    },
                    "metadata": {}
                },
                {
                    "output_type": "display_data",
                    "data": {
                        "text/html": "DROP TABLE"
                    },
                    "metadata": {}
                },
                {
                    "output_type": "display_data",
                    "data": {
                        "text/html": "DROP TABLE"
                    },
                    "metadata": {}
                },
                {
                    "output_type": "display_data",
                    "data": {
                        "text/html": "DROP TABLE"
                    },
                    "metadata": {}
                },
                {
                    "output_type": "display_data",
                    "data": {
                        "text/html": "DROP TABLE"
                    },
                    "metadata": {}
                },
                {
                    "output_type": "display_data",
                    "data": {
                        "text/html": "DROP TABLE"
                    },
                    "metadata": {}
                },
                {
                    "output_type": "display_data",
                    "data": {
                        "text/html": "CREATE TABLE"
                    },
                    "metadata": {}
                },
                {
                    "output_type": "display_data",
                    "data": {
                        "text/html": "CREATE TABLE"
                    },
                    "metadata": {}
                },
                {
                    "output_type": "display_data",
                    "data": {
                        "text/html": "CREATE TABLE"
                    },
                    "metadata": {}
                },
                {
                    "output_type": "display_data",
                    "data": {
                        "text/html": "CREATE TABLE"
                    },
                    "metadata": {}
                },
                {
                    "output_type": "display_data",
                    "data": {
                        "text/html": "CREATE TABLE"
                    },
                    "metadata": {}
                },
                {
                    "output_type": "display_data",
                    "data": {
                        "text/html": "CREATE TABLE"
                    },
                    "metadata": {}
                },
                {
                    "output_type": "display_data",
                    "data": {
                        "text/html": "CREATE TABLE"
                    },
                    "metadata": {}
                },
                {
                    "output_type": "display_data",
                    "data": {
                        "text/html": "CREATE TABLE"
                    },
                    "metadata": {}
                },
                {
                    "output_type": "display_data",
                    "data": {
                        "text/html": "CREATE TABLE"
                    },
                    "metadata": {}
                },
                {
                    "output_type": "display_data",
                    "data": {
                        "text/html": "ALTER TABLE"
                    },
                    "metadata": {}
                },
                {
                    "output_type": "display_data",
                    "data": {
                        "text/html": "ALTER TABLE"
                    },
                    "metadata": {}
                },
                {
                    "output_type": "display_data",
                    "data": {
                        "text/html": "ALTER TABLE"
                    },
                    "metadata": {}
                },
                {
                    "output_type": "display_data",
                    "data": {
                        "text/html": "ALTER TABLE"
                    },
                    "metadata": {}
                },
                {
                    "output_type": "display_data",
                    "data": {
                        "text/html": "ALTER TABLE"
                    },
                    "metadata": {}
                },
                {
                    "output_type": "display_data",
                    "data": {
                        "text/html": "ALTER TABLE"
                    },
                    "metadata": {}
                },
                {
                    "output_type": "display_data",
                    "data": {
                        "text/html": "ALTER TABLE"
                    },
                    "metadata": {}
                },
                {
                    "output_type": "display_data",
                    "data": {
                        "text/html": "ALTER TABLE"
                    },
                    "metadata": {}
                },
                {
                    "output_type": "display_data",
                    "data": {
                        "text/html": "ALTER TABLE"
                    },
                    "metadata": {}
                },
                {
                    "output_type": "display_data",
                    "data": {
                        "text/html": "ALTER TABLE"
                    },
                    "metadata": {}
                },
                {
                    "output_type": "display_data",
                    "data": {
                        "text/html": "COMMENT"
                    },
                    "metadata": {}
                },
                {
                    "output_type": "display_data",
                    "data": {
                        "text/html": "COMMENT"
                    },
                    "metadata": {}
                },
                {
                    "output_type": "display_data",
                    "data": {
                        "text/html": "COMMENT"
                    },
                    "metadata": {}
                },
                {
                    "output_type": "display_data",
                    "data": {
                        "text/html": "Total execution time: 00:00:00.363"
                    },
                    "metadata": {}
                }
            ],
            "execution_count": 193
        },
        {
            "cell_type": "markdown",
            "source": [
                "**Types**"
            ],
            "metadata": {
                "azdata_cell_guid": "f2b019ae-7754-410f-a9ff-94ba2015f311"
            },
            "attachments": {}
        },
        {
            "cell_type": "code",
            "source": [
                "-- drop type if exists type_transmission;\r\n",
                "\r\n",
                "-- CREATE TYPE type_transmission AS ENUM ('A', 'M');"
            ],
            "metadata": {
                "azdata_cell_guid": "9f7f7c7a-c2ae-4c3b-821b-410c68e11287",
                "language": "sql"
            },
            "outputs": [
                {
                    "output_type": "display_data",
                    "data": {
                        "text/html": "Total execution time: 00:00:00"
                    },
                    "metadata": {}
                }
            ],
            "execution_count": 194
        },
        {
            "cell_type": "markdown",
            "source": [
                "**Alter table**"
            ],
            "metadata": {
                "language": "sql",
                "azdata_cell_guid": "511e623e-edac-498a-a04f-a234717b401d"
            },
            "attachments": {}
        },
        {
            "cell_type": "code",
            "source": [
                "alter table cars\r\n",
                "alter column transmission_type type type_transmission using transmission_type::type_transmission; "
            ],
            "metadata": {
                "language": "sql",
                "azdata_cell_guid": "ba38d333-5a99-40d8-ad48-b15ea035579b"
            },
            "outputs": [
                {
                    "output_type": "display_data",
                    "data": {
                        "text/html": "ALTER TABLE"
                    },
                    "metadata": {}
                },
                {
                    "output_type": "display_data",
                    "data": {
                        "text/html": "Total execution time: 00:00:00.012"
                    },
                    "metadata": {}
                }
            ],
            "execution_count": 195
        },
        {
            "cell_type": "markdown",
            "source": [
                "**Functions**"
            ],
            "metadata": {
                "azdata_cell_guid": "8518dc17-b550-4431-9afc-bef77362d1d6"
            },
            "attachments": {}
        },
        {
            "cell_type": "code",
            "source": [
                "drop function if exists check_auth;\r\n",
                "drop function if exists archive_contract;\r\n",
                "drop function if exists add_new_user_role;\r\n",
                "drop function if exists modify_on_insert;\r\n",
                "drop function if exists get_cars;\r\n",
                "drop function if exists prepare_contract;\r\n",
                "drop function if exists add_accident;\r\n",
                "drop function if exists create_user_role;\r\n",
                "\r\n",
                "\r\n",
                "create function check_auth(input_username varchar, input_password varchar)\r\n",
                "returns varchar as \r\n",
                "$$\r\n",
                "declare \r\n",
                "    has_login boolean;\r\n",
                "begin\r\n",
                "\r\n",
                "    if exists (select username, password from users where username = input_username and password = input_password) then\r\n",
                "        return true;\r\n",
                "    end if;\r\n",
                "    return false;\r\n",
                "end\r\n",
                "$$ LANGUAGE plpgsql;\r\n",
                "\r\n",
                "\r\n",
                "create function get_cars() \r\n",
                "returns table (hour_cost money, class varchar, brand varchar, color varchar, transmission type_transmission, fuel varchar) as $$\r\n",
                "begin \r\n",
                "    return query \r\n",
                "        select cost_per_hour, car_class, car_brand, car_color, transmission_type, fuel_type \r\n",
                "        from cars \r\n",
                "        where locked = false;\r\n",
                "end;\r\n",
                "$$ language plpgsql;\r\n",
                "\r\n",
                "\r\n",
                "\r\n",
                "-- \"Procedure-like\" functions\r\n",
                "create function prepare_contract(username varchar, vin varchar, duration interval)\r\n",
                "returns varchar as $$\r\n",
                "declare\r\n",
                "    id int;\r\n",
                "    total_price money;\r\n",
                "    license varchar;\r\n",
                "begin\r\n",
                "    select floor(random() * 10000) into id;\r\n",
                "    select driving_license into license from clients where clients.username = username;\r\n",
                "    select (cost_per_hour * (extract(epoch from duration))) into total_price from cars where car.vin_number = vin;\r\n",
                "\r\n",
                "    insert into raw_contracts values (id, duration, total_price, license, vin);\r\n",
                "    return id;\r\n",
                "end;\r\n",
                "$$ language plpgsql;\r\n",
                "\r\n",
                "create function add_accident(username varchar, vin varchar)\r\n",
                "returns varchar as $$\r\n",
                "declare\r\n",
                "    id int;\r\n",
                "    license varchar;\r\n",
                "begin\r\n",
                "    select floor(random() * 10000) into id;\r\n",
                "    select driving_license into license from clients where clients.username = username;\r\n",
                "    insert into accidents values (id, false, license, vin);\r\n",
                "    return id;\r\n",
                "end;\r\n",
                "$$ language plpgsql;\r\n",
                "\r\n",
                "\r\n",
                "\r\n",
                "-- Trigger functions\r\n",
                "create function archive_contract() returns trigger as $$\r\n",
                "begin\r\n",
                "    if new.signed = true then\r\n",
                "        insert into archive ( ID_contract, \r\n",
                "            start_date, \r\n",
                "            end_date, \r\n",
                "            total_price, \r\n",
                "            car_vin_number, \r\n",
                "            client_driving_license, \r\n",
                "            client_name, \r\n",
                "            phone_number, \r\n",
                "            manager_passport_details, \r\n",
                "            manager_name) values (\r\n",
                "                new.ID_contract,\r\n",
                "                now(),\r\n",
                "                now() + new.rental_duration,\r\n",
                "                new.total_price,\r\n",
                "                new.vin_number,\r\n",
                "                new.driving_license,\r\n",
                "                (select name from clients c where c.driving_license = new.driving_license),\r\n",
                "                (select phone from clients c where c.driving_license = new.driving_license),\r\n",
                "                (select manager_passport_details from managers m where m.manager_passport_details in (\r\n",
                "                    select manager_passport_details from manager_on_contract mc where mc.ID_contract = new.ID_contract)\r\n",
                "                ),\r\n",
                "                (select name from managers m where m.manager_passport_details in (\r\n",
                "                    select manager_passport_details from manager_on_contract mc where mc.ID_contract = new.ID_contract)\r\n",
                "                )\r\n",
                "        );\r\n",
                "\r\n",
                "        delete from raw_contracts where new.ID_contract = old.ID_contract;\r\n",
                "        return new;\r\n",
                "    end if;\r\n",
                "end;\r\n",
                "$$ language plpgsql;\r\n",
                "\r\n",
                "create function create_user_role() returns trigger as $$\r\n",
                "begin\r\n",
                "    if not exists (select rolname from pg_roles where new.username = rolname) then\r\n",
                "        execute 'create user \"'||new.username||'\" with login connection limit 1;';\r\n",
                "        execute 'grant _client to \"'||new.username||'\"';\r\n",
                "    end if;\r\n",
                "    return new;\r\n",
                "end;\r\n",
                "$$ language plpgsql;\r\n",
                "\r\n",
                "create function modify_on_insert() returns trigger as $$\r\n",
                "begin\r\n",
                "    update cars set locked = true where cars.vin_number = new.vin_number;\r\n",
                "    return new;\r\n",
                "end;\r\n",
                "$$ language plpgsql;"
            ],
            "metadata": {
                "azdata_cell_guid": "6f8fe525-b723-46fe-ab2a-e50c9b79e0bb",
                "language": "sql"
            },
            "outputs": [
                {
                    "output_type": "display_data",
                    "data": {
                        "text/html": "DROP FUNCTION"
                    },
                    "metadata": {}
                },
                {
                    "output_type": "display_data",
                    "data": {
                        "text/html": "DROP FUNCTION"
                    },
                    "metadata": {}
                },
                {
                    "output_type": "display_data",
                    "data": {
                        "text/html": "NOTICE: function add_new_user_role() does not exist, skipping"
                    },
                    "metadata": {}
                },
                {
                    "output_type": "display_data",
                    "data": {
                        "text/html": "DROP FUNCTION"
                    },
                    "metadata": {}
                },
                {
                    "output_type": "display_data",
                    "data": {
                        "text/html": "DROP FUNCTION"
                    },
                    "metadata": {}
                },
                {
                    "output_type": "display_data",
                    "data": {
                        "text/html": "DROP FUNCTION"
                    },
                    "metadata": {}
                },
                {
                    "output_type": "display_data",
                    "data": {
                        "text/html": "DROP FUNCTION"
                    },
                    "metadata": {}
                },
                {
                    "output_type": "display_data",
                    "data": {
                        "text/html": "DROP FUNCTION"
                    },
                    "metadata": {}
                },
                {
                    "output_type": "display_data",
                    "data": {
                        "text/html": "DROP FUNCTION"
                    },
                    "metadata": {}
                },
                {
                    "output_type": "display_data",
                    "data": {
                        "text/html": "CREATE FUNCTION"
                    },
                    "metadata": {}
                },
                {
                    "output_type": "display_data",
                    "data": {
                        "text/html": "CREATE FUNCTION"
                    },
                    "metadata": {}
                },
                {
                    "output_type": "display_data",
                    "data": {
                        "text/html": "CREATE FUNCTION"
                    },
                    "metadata": {}
                },
                {
                    "output_type": "display_data",
                    "data": {
                        "text/html": "CREATE FUNCTION"
                    },
                    "metadata": {}
                },
                {
                    "output_type": "display_data",
                    "data": {
                        "text/html": "CREATE FUNCTION"
                    },
                    "metadata": {}
                },
                {
                    "output_type": "display_data",
                    "data": {
                        "text/html": "CREATE FUNCTION"
                    },
                    "metadata": {}
                },
                {
                    "output_type": "display_data",
                    "data": {
                        "text/html": "CREATE FUNCTION"
                    },
                    "metadata": {}
                },
                {
                    "output_type": "display_data",
                    "data": {
                        "text/html": "Total execution time: 00:00:00.043"
                    },
                    "metadata": {}
                }
            ],
            "execution_count": 196
        },
        {
            "cell_type": "markdown",
            "source": [
                "**Test**"
            ],
            "metadata": {
                "language": "sql",
                "azdata_cell_guid": "3dc47098-6992-4a4f-870f-790447489f08"
            },
            "attachments": {}
        },
        {
            "cell_type": "code",
            "source": [
                "select * from get_cars();"
            ],
            "metadata": {
                "language": "sql",
                "azdata_cell_guid": "e3a729ac-6986-4c9b-8ee8-6cecf9bceacf"
            },
            "outputs": [
                {
                    "output_type": "display_data",
                    "data": {
                        "text/html": "(0 row(s) affected)"
                    },
                    "metadata": {}
                },
                {
                    "output_type": "display_data",
                    "data": {
                        "text/html": "Total execution time: 00:00:00.004"
                    },
                    "metadata": {}
                },
                {
                    "output_type": "execute_result",
                    "metadata": {},
                    "execution_count": 197,
                    "data": {
                        "application/vnd.dataresource+json": {
                            "schema": {
                                "fields": [
                                    {
                                        "name": "hour_cost"
                                    },
                                    {
                                        "name": "class"
                                    },
                                    {
                                        "name": "brand"
                                    },
                                    {
                                        "name": "color"
                                    },
                                    {
                                        "name": "transmission"
                                    },
                                    {
                                        "name": "fuel"
                                    }
                                ]
                            },
                            "data": []
                        },
                        "text/html": [
                            "<table>",
                            "<tr><th>hour_cost</th><th>class</th><th>brand</th><th>color</th><th>transmission</th><th>fuel</th></tr>",
                            "</table>"
                        ]
                    }
                }
            ],
            "execution_count": 197
        },
        {
            "cell_type": "code",
            "source": [
                "/*\r\n",
                "select 'user1' as user, check_auth('user1', 'password1') as user_role;\r\n",
                "select 'user3' as user, check_auth('user3', 'password3') as user_role;\r\n",
                "select 'new user' as user, check_auth('new user', 'incorrect_password') as user_role;\r\n",
                "*/"
            ],
            "metadata": {
                "language": "sql",
                "azdata_cell_guid": "d1351c6d-e08b-40a9-b3a5-b953b1a23916"
            },
            "outputs": [
                {
                    "output_type": "display_data",
                    "data": {
                        "text/html": "Total execution time: 00:00:00"
                    },
                    "metadata": {}
                }
            ],
            "execution_count": 198
        },
        {
            "cell_type": "markdown",
            "source": [
                "**Procedures**"
            ],
            "metadata": {
                "language": "sql",
                "azdata_cell_guid": "dff6b9e3-7734-4344-8619-8f6f5e8f878c"
            },
            "attachments": {}
        },
        {
            "cell_type": "code",
            "source": [
                "drop procedure if exists add_user;\r\n",
                "drop procedure if exists confirm_accident;\r\n",
                "\r\n",
                "create procedure add_user (user_name varchar, user_password varchar) as\r\n",
                "$$\r\n",
                "begin\r\n",
                "    if not exists (select username from users where user_name = username) then\r\n",
                "        insert into users values (user_name, user_password);\r\n",
                "    end if;\r\n",
                "end;\r\n",
                "$$ language plpgsql;\r\n",
                "\r\n",
                "\r\n",
                "create procedure confirm_accident (id varchar) as \r\n",
                "$$\r\n",
                "begin \r\n",
                "    update accidents set is_confirmed = true where id = ID_accident;\r\n",
                "end;\r\n",
                "$$ language plpgsql;"
            ],
            "metadata": {
                "language": "sql",
                "azdata_cell_guid": "4537dc7b-702a-452f-a00c-bfaba58df6c9"
            },
            "outputs": [
                {
                    "output_type": "display_data",
                    "data": {
                        "text/html": "DROP PROCEDURE"
                    },
                    "metadata": {}
                },
                {
                    "output_type": "display_data",
                    "data": {
                        "text/html": "DROP PROCEDURE"
                    },
                    "metadata": {}
                },
                {
                    "output_type": "display_data",
                    "data": {
                        "text/html": "CREATE PROCEDURE"
                    },
                    "metadata": {}
                },
                {
                    "output_type": "display_data",
                    "data": {
                        "text/html": "CREATE PROCEDURE"
                    },
                    "metadata": {}
                },
                {
                    "output_type": "display_data",
                    "data": {
                        "text/html": "Total execution time: 00:00:00.014"
                    },
                    "metadata": {}
                }
            ],
            "execution_count": 199
        },
        {
            "cell_type": "markdown",
            "source": [
                "**Triggres**"
            ],
            "metadata": {
                "language": "sql",
                "azdata_cell_guid": "449f6013-1f2c-4b37-9900-094330ad9581"
            },
            "attachments": {}
        },
        {
            "cell_type": "code",
            "source": [
                "CREATE OR REPLACE TRIGGER contract_signed \r\n",
                "    AFTER UPDATE OF signed \r\n",
                "    ON raw_contracts\r\n",
                "    FOR EACH ROW\r\n",
                "    EXECUTE PROCEDURE archive_contract();\r\n",
                "\r\n",
                "create or replace trigger on_insert_raw_contracts\r\n",
                "    after insert on raw_contracts\r\n",
                "    for each row \r\n",
                "    execute procedure modify_on_insert();\r\n",
                "\r\n",
                "create or replace trigger user_added\r\n",
                "    after insert on users\r\n",
                "    for each row\r\n",
                "    execute procedure create_user_role();"
            ],
            "metadata": {
                "language": "sql",
                "azdata_cell_guid": "97d75978-dc1f-4b05-9060-3fdcc984e233",
                "tags": []
            },
            "outputs": [
                {
                    "output_type": "display_data",
                    "data": {
                        "text/html": "CREATE TRIGGER"
                    },
                    "metadata": {}
                },
                {
                    "output_type": "display_data",
                    "data": {
                        "text/html": "CREATE TRIGGER"
                    },
                    "metadata": {}
                },
                {
                    "output_type": "display_data",
                    "data": {
                        "text/html": "CREATE TRIGGER"
                    },
                    "metadata": {}
                },
                {
                    "output_type": "display_data",
                    "data": {
                        "text/html": "Total execution time: 00:00:00.017"
                    },
                    "metadata": {}
                }
            ],
            "execution_count": 200
        },
        {
            "cell_type": "markdown",
            "source": [
                "**Test**"
            ],
            "metadata": {
                "language": "sql",
                "azdata_cell_guid": "816986ae-1c6f-4a58-ae6b-e31294534542"
            },
            "attachments": {}
        },
        {
            "cell_type": "code",
            "source": [
                "/*\r\n",
                "delete from raw_contracts;\r\n",
                "delete from archive;\r\n",
                "delete from cars;\r\n",
                "delete from parkings;\r\n",
                "delete from clients;\r\n",
                "delete from managers;\r\n",
                "delete from users;\r\n",
                "\r\n",
                "insert into parkings values \r\n",
                "(1, 'asfiaslfdgashdfguiapshg'),\r\n",
                "(2, 'gflsdjiopsjdfoigaoijbdi');\r\n",
                "\r\n",
                "INSERT INTO users (username, password) VALUES \r\n",
                "('user1', 'password1'),\r\n",
                "('user2', 'password2'),\r\n",
                "('user3', 'password3'),\r\n",
                "('user4', 'password4');\r\n",
                "\r\n",
                "insert into managers (manager_passport_details, name, phone, expirience, salary, username, ID_parking) values \r\n",
                "('manager passport 1', 'manager name 1', 'manager phone 1', DEFAULT, 10, 'user2', 1),\r\n",
                "('manager passport 2', 'manager name 2', 'manager phone 2', DEFAULT, 20, 'user4', 2);\r\n",
                "\r\n",
                "insert into clients values \r\n",
                "('1234567891', 'client name 1', 'client phone 1', 'client email 1', now(), 'reg address 1', 'rev address 1', 'user1'),\r\n",
                "('2345678912', 'client name 2', 'client phone 2', 'client email 2', now(), 'reg address 2', 'rev address 2', 'user2'),\r\n",
                "('3456789123', 'client name 3', 'client phone 3', 'client email 3', now(), 'reg address 3', 'rev address 3', 'user3');\r\n",
                "\r\n",
                "insert into cars values \r\n",
                "('123764192341192834912', 1.00, 'car brand 1', 'car color 1', 'car class 1', 'A', 'ai-95', false, 1),\r\n",
                "('248597238945703124582', 2.00, 'car brand 2', 'car color 2', 'car class 2', 'M', 'ai-95', false, 2),\r\n",
                "('234587923452475245883', 3.00, 'car brand 3', 'car color 3', 'car class 3', 'A', 'ai-95', false, 2);\r\n",
                "\r\n",
                "insert into raw_contracts values\r\n",
                "(1, '1 day', 1000.00, '1234567891', '123764192341192834912');\r\n",
                "\r\n",
                "insert into manager_on_contract values\r\n",
                "('manager passport 1', 1);\r\n",
                "\r\n",
                "\r\n",
                "select * from raw_contracts;\r\n",
                "select * from archive;\r\n",
                "\r\n",
                "\r\n",
                "update raw_contracts\r\n",
                "set signed = true \r\n",
                "where ID_contract = 1;\r\n",
                "\r\n",
                "\r\n",
                "select * from archive;\r\n",
                "select * from raw_contracts;\r\n",
                "select * from manager_on_contract;\r\n",
                "*/"
            ],
            "metadata": {
                "language": "sql",
                "azdata_cell_guid": "35718f81-384d-4ef3-bf77-d3b4cde8cf75"
            },
            "outputs": [
                {
                    "output_type": "display_data",
                    "data": {
                        "text/html": "Total execution time: 00:00:00"
                    },
                    "metadata": {}
                }
            ],
            "execution_count": 201
        },
        {
            "cell_type": "markdown",
            "source": [
                "**Roles**"
            ],
            "metadata": {
                "language": "sql",
                "azdata_cell_guid": "d5fc3f65-0453-49dd-88b3-ff6609b38a0b"
            },
            "attachments": {}
        },
        {
            "cell_type": "code",
            "source": [
                "/*\r\n",
                "*/\r\n",
                "drop role if exists _admin;\r\n",
                "drop role if exists _manager;\r\n",
                "drop role if exists _client;\r\n",
                "\r\n",
                "drop role if exists new_user;\r\n",
                "\r\n",
                "\r\n",
                "-- Create roles\r\n",
                "\r\n",
                "\r\n",
                "create role _admin createrole inherit nologin;\r\n",
                "create role _manager inherit nologin;\r\n",
                "create role _client inherit nologin;\r\n",
                "\r\n",
                "------------------------------------------\r\n",
                "\r\n",
                "-- Admin configuration\r\n",
                "grant all on all tables in schema public to _admin;\r\n",
                "\r\n",
                "\r\n",
                "-- Manager configuration\r\n",
                "grant select on cars, managers, archive to _manager;\r\n",
                "grant insert on archive, accidents to _manager;\r\n",
                "\r\n",
                "\r\n",
                "\r\n",
                "-- Client configuration\r\n",
                "grant insert on raw_contracts to _client;\r\n",
                "grant select on cars to _client;\r\n",
                "\r\n",
                "\r\n",
                "\r\n",
                "------------------------------------------\r\n",
                "\r\n",
                "\r\n",
                "\r\n",
                "-- Create admin users"
            ],
            "metadata": {
                "language": "sql",
                "azdata_cell_guid": "53f37fe3-f82b-492a-a8d4-a19006308be4"
            },
            "outputs": [
                {
                    "output_type": "display_data",
                    "data": {
                        "text/html": "DROP ROLE"
                    },
                    "metadata": {}
                },
                {
                    "output_type": "display_data",
                    "data": {
                        "text/html": "DROP ROLE"
                    },
                    "metadata": {}
                },
                {
                    "output_type": "display_data",
                    "data": {
                        "text/html": "DROP ROLE"
                    },
                    "metadata": {}
                },
                {
                    "output_type": "display_data",
                    "data": {
                        "text/html": "DROP ROLE"
                    },
                    "metadata": {}
                },
                {
                    "output_type": "display_data",
                    "data": {
                        "text/html": "CREATE ROLE"
                    },
                    "metadata": {}
                },
                {
                    "output_type": "display_data",
                    "data": {
                        "text/html": "CREATE ROLE"
                    },
                    "metadata": {}
                },
                {
                    "output_type": "display_data",
                    "data": {
                        "text/html": "CREATE ROLE"
                    },
                    "metadata": {}
                },
                {
                    "output_type": "display_data",
                    "data": {
                        "text/html": "GRANT"
                    },
                    "metadata": {}
                },
                {
                    "output_type": "display_data",
                    "data": {
                        "text/html": "GRANT"
                    },
                    "metadata": {}
                },
                {
                    "output_type": "display_data",
                    "data": {
                        "text/html": "GRANT"
                    },
                    "metadata": {}
                },
                {
                    "output_type": "display_data",
                    "data": {
                        "text/html": "GRANT"
                    },
                    "metadata": {}
                },
                {
                    "output_type": "display_data",
                    "data": {
                        "text/html": "GRANT"
                    },
                    "metadata": {}
                },
                {
                    "output_type": "display_data",
                    "data": {
                        "text/html": "Total execution time: 00:00:00.043"
                    },
                    "metadata": {}
                }
            ],
            "execution_count": 202
        },
        {
            "cell_type": "markdown",
            "source": [
                "**Test**"
            ],
            "metadata": {
                "language": "sql",
                "azdata_cell_guid": "eb51d037-4261-4575-877a-a3f4e418753e"
            },
            "attachments": {}
        },
        {
            "cell_type": "code",
            "source": [
                "set role postgres;\r\n",
                "\r\n",
                "call add_user('new_user', 'new_password');\r\n",
                "call add_user('user2', 'password2');\r\n",
                "call add_user('user3', 'password3');\r\n",
                "call add_user('user4', 'password4');\r\n",
                "\r\n",
                "select * from users;\r\n",
                "\r\n",
                "select * from pg_roles;"
            ],
            "metadata": {
                "language": "sql",
                "azdata_cell_guid": "6972591c-35bf-421f-be5f-fdb9378c5128"
            },
            "outputs": [
                {
                    "output_type": "display_data",
                    "data": {
                        "text/html": "SET"
                    },
                    "metadata": {}
                },
                {
                    "output_type": "display_data",
                    "data": {
                        "text/html": "CALL"
                    },
                    "metadata": {}
                },
                {
                    "output_type": "display_data",
                    "data": {
                        "text/html": "CALL"
                    },
                    "metadata": {}
                },
                {
                    "output_type": "display_data",
                    "data": {
                        "text/html": "CALL"
                    },
                    "metadata": {}
                },
                {
                    "output_type": "display_data",
                    "data": {
                        "text/html": "CALL"
                    },
                    "metadata": {}
                },
                {
                    "output_type": "display_data",
                    "data": {
                        "text/html": "(4 row(s) affected)"
                    },
                    "metadata": {}
                },
                {
                    "output_type": "display_data",
                    "data": {
                        "text/html": "(23 row(s) affected)"
                    },
                    "metadata": {}
                },
                {
                    "output_type": "display_data",
                    "data": {
                        "text/html": "Total execution time: 00:00:00.025"
                    },
                    "metadata": {}
                },
                {
                    "output_type": "execute_result",
                    "metadata": {},
                    "execution_count": 203,
                    "data": {
                        "application/vnd.dataresource+json": {
                            "schema": {
                                "fields": [
                                    {
                                        "name": "username"
                                    },
                                    {
                                        "name": "password"
                                    }
                                ]
                            },
                            "data": [
                                {
                                    "username": "new_user",
                                    "password": "new_password"
                                },
                                {
                                    "username": "user2",
                                    "password": "password2"
                                },
                                {
                                    "username": "user3",
                                    "password": "password3"
                                },
                                {
                                    "username": "user4",
                                    "password": "password4"
                                }
                            ]
                        },
                        "text/html": [
                            "<table>",
                            "<tr><th>username</th><th>password</th></tr>",
                            "<tr><td>new_user</td><td>new_password</td></tr>",
                            "<tr><td>user2</td><td>password2</td></tr>",
                            "<tr><td>user3</td><td>password3</td></tr>",
                            "<tr><td>user4</td><td>password4</td></tr>",
                            "</table>"
                        ]
                    }
                },
                {
                    "output_type": "execute_result",
                    "metadata": {},
                    "execution_count": 203,
                    "data": {
                        "application/vnd.dataresource+json": {
                            "schema": {
                                "fields": [
                                    {
                                        "name": "rolname"
                                    },
                                    {
                                        "name": "rolsuper"
                                    },
                                    {
                                        "name": "rolinherit"
                                    },
                                    {
                                        "name": "rolcreaterole"
                                    },
                                    {
                                        "name": "rolcreatedb"
                                    },
                                    {
                                        "name": "rolcanlogin"
                                    },
                                    {
                                        "name": "rolreplication"
                                    },
                                    {
                                        "name": "rolconnlimit"
                                    },
                                    {
                                        "name": "rolpassword"
                                    },
                                    {
                                        "name": "rolvaliduntil"
                                    },
                                    {
                                        "name": "rolbypassrls"
                                    },
                                    {
                                        "name": "rolconfig"
                                    },
                                    {
                                        "name": "oid"
                                    }
                                ]
                            },
                            "data": [
                                {
                                    "rolname": "pg_database_owner",
                                    "rolsuper": "False",
                                    "rolinherit": "True",
                                    "rolcreaterole": "False",
                                    "rolcreatedb": "False",
                                    "rolcanlogin": "False",
                                    "rolreplication": "False",
                                    "rolconnlimit": "-1",
                                    "rolpassword": "********",
                                    "rolvaliduntil": "NULL",
                                    "rolbypassrls": "False",
                                    "rolconfig": "NULL",
                                    "oid": "6171"
                                },
                                {
                                    "rolname": "pg_read_all_data",
                                    "rolsuper": "False",
                                    "rolinherit": "True",
                                    "rolcreaterole": "False",
                                    "rolcreatedb": "False",
                                    "rolcanlogin": "False",
                                    "rolreplication": "False",
                                    "rolconnlimit": "-1",
                                    "rolpassword": "********",
                                    "rolvaliduntil": "NULL",
                                    "rolbypassrls": "False",
                                    "rolconfig": "NULL",
                                    "oid": "6181"
                                },
                                {
                                    "rolname": "pg_write_all_data",
                                    "rolsuper": "False",
                                    "rolinherit": "True",
                                    "rolcreaterole": "False",
                                    "rolcreatedb": "False",
                                    "rolcanlogin": "False",
                                    "rolreplication": "False",
                                    "rolconnlimit": "-1",
                                    "rolpassword": "********",
                                    "rolvaliduntil": "NULL",
                                    "rolbypassrls": "False",
                                    "rolconfig": "NULL",
                                    "oid": "6182"
                                },
                                {
                                    "rolname": "pg_monitor",
                                    "rolsuper": "False",
                                    "rolinherit": "True",
                                    "rolcreaterole": "False",
                                    "rolcreatedb": "False",
                                    "rolcanlogin": "False",
                                    "rolreplication": "False",
                                    "rolconnlimit": "-1",
                                    "rolpassword": "********",
                                    "rolvaliduntil": "NULL",
                                    "rolbypassrls": "False",
                                    "rolconfig": "NULL",
                                    "oid": "3373"
                                },
                                {
                                    "rolname": "pg_read_all_settings",
                                    "rolsuper": "False",
                                    "rolinherit": "True",
                                    "rolcreaterole": "False",
                                    "rolcreatedb": "False",
                                    "rolcanlogin": "False",
                                    "rolreplication": "False",
                                    "rolconnlimit": "-1",
                                    "rolpassword": "********",
                                    "rolvaliduntil": "NULL",
                                    "rolbypassrls": "False",
                                    "rolconfig": "NULL",
                                    "oid": "3374"
                                },
                                {
                                    "rolname": "pg_read_all_stats",
                                    "rolsuper": "False",
                                    "rolinherit": "True",
                                    "rolcreaterole": "False",
                                    "rolcreatedb": "False",
                                    "rolcanlogin": "False",
                                    "rolreplication": "False",
                                    "rolconnlimit": "-1",
                                    "rolpassword": "********",
                                    "rolvaliduntil": "NULL",
                                    "rolbypassrls": "False",
                                    "rolconfig": "NULL",
                                    "oid": "3375"
                                },
                                {
                                    "rolname": "pg_stat_scan_tables",
                                    "rolsuper": "False",
                                    "rolinherit": "True",
                                    "rolcreaterole": "False",
                                    "rolcreatedb": "False",
                                    "rolcanlogin": "False",
                                    "rolreplication": "False",
                                    "rolconnlimit": "-1",
                                    "rolpassword": "********",
                                    "rolvaliduntil": "NULL",
                                    "rolbypassrls": "False",
                                    "rolconfig": "NULL",
                                    "oid": "3377"
                                },
                                {
                                    "rolname": "pg_read_server_files",
                                    "rolsuper": "False",
                                    "rolinherit": "True",
                                    "rolcreaterole": "False",
                                    "rolcreatedb": "False",
                                    "rolcanlogin": "False",
                                    "rolreplication": "False",
                                    "rolconnlimit": "-1",
                                    "rolpassword": "********",
                                    "rolvaliduntil": "NULL",
                                    "rolbypassrls": "False",
                                    "rolconfig": "NULL",
                                    "oid": "4569"
                                },
                                {
                                    "rolname": "pg_write_server_files",
                                    "rolsuper": "False",
                                    "rolinherit": "True",
                                    "rolcreaterole": "False",
                                    "rolcreatedb": "False",
                                    "rolcanlogin": "False",
                                    "rolreplication": "False",
                                    "rolconnlimit": "-1",
                                    "rolpassword": "********",
                                    "rolvaliduntil": "NULL",
                                    "rolbypassrls": "False",
                                    "rolconfig": "NULL",
                                    "oid": "4570"
                                },
                                {
                                    "rolname": "pg_execute_server_program",
                                    "rolsuper": "False",
                                    "rolinherit": "True",
                                    "rolcreaterole": "False",
                                    "rolcreatedb": "False",
                                    "rolcanlogin": "False",
                                    "rolreplication": "False",
                                    "rolconnlimit": "-1",
                                    "rolpassword": "********",
                                    "rolvaliduntil": "NULL",
                                    "rolbypassrls": "False",
                                    "rolconfig": "NULL",
                                    "oid": "4571"
                                },
                                {
                                    "rolname": "pg_signal_backend",
                                    "rolsuper": "False",
                                    "rolinherit": "True",
                                    "rolcreaterole": "False",
                                    "rolcreatedb": "False",
                                    "rolcanlogin": "False",
                                    "rolreplication": "False",
                                    "rolconnlimit": "-1",
                                    "rolpassword": "********",
                                    "rolvaliduntil": "NULL",
                                    "rolbypassrls": "False",
                                    "rolconfig": "NULL",
                                    "oid": "4200"
                                },
                                {
                                    "rolname": "pg_checkpoint",
                                    "rolsuper": "False",
                                    "rolinherit": "True",
                                    "rolcreaterole": "False",
                                    "rolcreatedb": "False",
                                    "rolcanlogin": "False",
                                    "rolreplication": "False",
                                    "rolconnlimit": "-1",
                                    "rolpassword": "********",
                                    "rolvaliduntil": "NULL",
                                    "rolbypassrls": "False",
                                    "rolconfig": "NULL",
                                    "oid": "4544"
                                },
                                {
                                    "rolname": "pg_use_reserved_connections",
                                    "rolsuper": "False",
                                    "rolinherit": "True",
                                    "rolcreaterole": "False",
                                    "rolcreatedb": "False",
                                    "rolcanlogin": "False",
                                    "rolreplication": "False",
                                    "rolconnlimit": "-1",
                                    "rolpassword": "********",
                                    "rolvaliduntil": "NULL",
                                    "rolbypassrls": "False",
                                    "rolconfig": "NULL",
                                    "oid": "4550"
                                },
                                {
                                    "rolname": "pg_create_subscription",
                                    "rolsuper": "False",
                                    "rolinherit": "True",
                                    "rolcreaterole": "False",
                                    "rolcreatedb": "False",
                                    "rolcanlogin": "False",
                                    "rolreplication": "False",
                                    "rolconnlimit": "-1",
                                    "rolpassword": "********",
                                    "rolvaliduntil": "NULL",
                                    "rolbypassrls": "False",
                                    "rolconfig": "NULL",
                                    "oid": "6304"
                                },
                                {
                                    "rolname": "postgres",
                                    "rolsuper": "True",
                                    "rolinherit": "True",
                                    "rolcreaterole": "True",
                                    "rolcreatedb": "True",
                                    "rolcanlogin": "True",
                                    "rolreplication": "True",
                                    "rolconnlimit": "-1",
                                    "rolpassword": "********",
                                    "rolvaliduntil": "NULL",
                                    "rolbypassrls": "True",
                                    "rolconfig": "NULL",
                                    "oid": "10"
                                },
                                {
                                    "rolname": "user1",
                                    "rolsuper": "False",
                                    "rolinherit": "True",
                                    "rolcreaterole": "False",
                                    "rolcreatedb": "False",
                                    "rolcanlogin": "True",
                                    "rolreplication": "False",
                                    "rolconnlimit": "1",
                                    "rolpassword": "********",
                                    "rolvaliduntil": "NULL",
                                    "rolbypassrls": "False",
                                    "rolconfig": "NULL",
                                    "oid": "19254"
                                },
                                {
                                    "rolname": "_admin",
                                    "rolsuper": "False",
                                    "rolinherit": "True",
                                    "rolcreaterole": "True",
                                    "rolcreatedb": "False",
                                    "rolcanlogin": "False",
                                    "rolreplication": "False",
                                    "rolconnlimit": "-1",
                                    "rolpassword": "********",
                                    "rolvaliduntil": "NULL",
                                    "rolbypassrls": "False",
                                    "rolconfig": "NULL",
                                    "oid": "19555"
                                },
                                {
                                    "rolname": "_manager",
                                    "rolsuper": "False",
                                    "rolinherit": "True",
                                    "rolcreaterole": "False",
                                    "rolcreatedb": "False",
                                    "rolcanlogin": "False",
                                    "rolreplication": "False",
                                    "rolconnlimit": "-1",
                                    "rolpassword": "********",
                                    "rolvaliduntil": "NULL",
                                    "rolbypassrls": "False",
                                    "rolconfig": "NULL",
                                    "oid": "19556"
                                },
                                {
                                    "rolname": "_client",
                                    "rolsuper": "False",
                                    "rolinherit": "True",
                                    "rolcreaterole": "False",
                                    "rolcreatedb": "False",
                                    "rolcanlogin": "False",
                                    "rolreplication": "False",
                                    "rolconnlimit": "-1",
                                    "rolpassword": "********",
                                    "rolvaliduntil": "NULL",
                                    "rolbypassrls": "False",
                                    "rolconfig": "NULL",
                                    "oid": "19557"
                                },
                                {
                                    "rolname": "new_user",
                                    "rolsuper": "False",
                                    "rolinherit": "True",
                                    "rolcreaterole": "False",
                                    "rolcreatedb": "False",
                                    "rolcanlogin": "True",
                                    "rolreplication": "False",
                                    "rolconnlimit": "1",
                                    "rolpassword": "********",
                                    "rolvaliduntil": "NULL",
                                    "rolbypassrls": "False",
                                    "rolconfig": "NULL",
                                    "oid": "19558"
                                },
                                {
                                    "rolname": "user2",
                                    "rolsuper": "False",
                                    "rolinherit": "True",
                                    "rolcreaterole": "False",
                                    "rolcreatedb": "False",
                                    "rolcanlogin": "True",
                                    "rolreplication": "False",
                                    "rolconnlimit": "1",
                                    "rolpassword": "********",
                                    "rolvaliduntil": "NULL",
                                    "rolbypassrls": "False",
                                    "rolconfig": "NULL",
                                    "oid": "19560"
                                },
                                {
                                    "rolname": "user3",
                                    "rolsuper": "False",
                                    "rolinherit": "True",
                                    "rolcreaterole": "False",
                                    "rolcreatedb": "False",
                                    "rolcanlogin": "True",
                                    "rolreplication": "False",
                                    "rolconnlimit": "1",
                                    "rolpassword": "********",
                                    "rolvaliduntil": "NULL",
                                    "rolbypassrls": "False",
                                    "rolconfig": "NULL",
                                    "oid": "19562"
                                },
                                {
                                    "rolname": "user4",
                                    "rolsuper": "False",
                                    "rolinherit": "True",
                                    "rolcreaterole": "False",
                                    "rolcreatedb": "False",
                                    "rolcanlogin": "True",
                                    "rolreplication": "False",
                                    "rolconnlimit": "1",
                                    "rolpassword": "********",
                                    "rolvaliduntil": "NULL",
                                    "rolbypassrls": "False",
                                    "rolconfig": "NULL",
                                    "oid": "19564"
                                }
                            ]
                        },
                        "text/html": [
                            "<table>",
                            "<tr><th>rolname</th><th>rolsuper</th><th>rolinherit</th><th>rolcreaterole</th><th>rolcreatedb</th><th>rolcanlogin</th><th>rolreplication</th><th>rolconnlimit</th><th>rolpassword</th><th>rolvaliduntil</th><th>rolbypassrls</th><th>rolconfig</th><th>oid</th></tr>",
                            "<tr><td>pg_database_owner</td><td>False</td><td>True</td><td>False</td><td>False</td><td>False</td><td>False</td><td>-1</td><td>********</td><td>NULL</td><td>False</td><td>NULL</td><td>6171</td></tr>",
                            "<tr><td>pg_read_all_data</td><td>False</td><td>True</td><td>False</td><td>False</td><td>False</td><td>False</td><td>-1</td><td>********</td><td>NULL</td><td>False</td><td>NULL</td><td>6181</td></tr>",
                            "<tr><td>pg_write_all_data</td><td>False</td><td>True</td><td>False</td><td>False</td><td>False</td><td>False</td><td>-1</td><td>********</td><td>NULL</td><td>False</td><td>NULL</td><td>6182</td></tr>",
                            "<tr><td>pg_monitor</td><td>False</td><td>True</td><td>False</td><td>False</td><td>False</td><td>False</td><td>-1</td><td>********</td><td>NULL</td><td>False</td><td>NULL</td><td>3373</td></tr>",
                            "<tr><td>pg_read_all_settings</td><td>False</td><td>True</td><td>False</td><td>False</td><td>False</td><td>False</td><td>-1</td><td>********</td><td>NULL</td><td>False</td><td>NULL</td><td>3374</td></tr>",
                            "<tr><td>pg_read_all_stats</td><td>False</td><td>True</td><td>False</td><td>False</td><td>False</td><td>False</td><td>-1</td><td>********</td><td>NULL</td><td>False</td><td>NULL</td><td>3375</td></tr>",
                            "<tr><td>pg_stat_scan_tables</td><td>False</td><td>True</td><td>False</td><td>False</td><td>False</td><td>False</td><td>-1</td><td>********</td><td>NULL</td><td>False</td><td>NULL</td><td>3377</td></tr>",
                            "<tr><td>pg_read_server_files</td><td>False</td><td>True</td><td>False</td><td>False</td><td>False</td><td>False</td><td>-1</td><td>********</td><td>NULL</td><td>False</td><td>NULL</td><td>4569</td></tr>",
                            "<tr><td>pg_write_server_files</td><td>False</td><td>True</td><td>False</td><td>False</td><td>False</td><td>False</td><td>-1</td><td>********</td><td>NULL</td><td>False</td><td>NULL</td><td>4570</td></tr>",
                            "<tr><td>pg_execute_server_program</td><td>False</td><td>True</td><td>False</td><td>False</td><td>False</td><td>False</td><td>-1</td><td>********</td><td>NULL</td><td>False</td><td>NULL</td><td>4571</td></tr>",
                            "<tr><td>pg_signal_backend</td><td>False</td><td>True</td><td>False</td><td>False</td><td>False</td><td>False</td><td>-1</td><td>********</td><td>NULL</td><td>False</td><td>NULL</td><td>4200</td></tr>",
                            "<tr><td>pg_checkpoint</td><td>False</td><td>True</td><td>False</td><td>False</td><td>False</td><td>False</td><td>-1</td><td>********</td><td>NULL</td><td>False</td><td>NULL</td><td>4544</td></tr>",
                            "<tr><td>pg_use_reserved_connections</td><td>False</td><td>True</td><td>False</td><td>False</td><td>False</td><td>False</td><td>-1</td><td>********</td><td>NULL</td><td>False</td><td>NULL</td><td>4550</td></tr>",
                            "<tr><td>pg_create_subscription</td><td>False</td><td>True</td><td>False</td><td>False</td><td>False</td><td>False</td><td>-1</td><td>********</td><td>NULL</td><td>False</td><td>NULL</td><td>6304</td></tr>",
                            "<tr><td>postgres</td><td>True</td><td>True</td><td>True</td><td>True</td><td>True</td><td>True</td><td>-1</td><td>********</td><td>NULL</td><td>True</td><td>NULL</td><td>10</td></tr>",
                            "<tr><td>user1</td><td>False</td><td>True</td><td>False</td><td>False</td><td>True</td><td>False</td><td>1</td><td>********</td><td>NULL</td><td>False</td><td>NULL</td><td>19254</td></tr>",
                            "<tr><td>_admin</td><td>False</td><td>True</td><td>True</td><td>False</td><td>False</td><td>False</td><td>-1</td><td>********</td><td>NULL</td><td>False</td><td>NULL</td><td>19555</td></tr>",
                            "<tr><td>_manager</td><td>False</td><td>True</td><td>False</td><td>False</td><td>False</td><td>False</td><td>-1</td><td>********</td><td>NULL</td><td>False</td><td>NULL</td><td>19556</td></tr>",
                            "<tr><td>_client</td><td>False</td><td>True</td><td>False</td><td>False</td><td>False</td><td>False</td><td>-1</td><td>********</td><td>NULL</td><td>False</td><td>NULL</td><td>19557</td></tr>",
                            "<tr><td>new_user</td><td>False</td><td>True</td><td>False</td><td>False</td><td>True</td><td>False</td><td>1</td><td>********</td><td>NULL</td><td>False</td><td>NULL</td><td>19558</td></tr>",
                            "<tr><td>user2</td><td>False</td><td>True</td><td>False</td><td>False</td><td>True</td><td>False</td><td>1</td><td>********</td><td>NULL</td><td>False</td><td>NULL</td><td>19560</td></tr>",
                            "<tr><td>user3</td><td>False</td><td>True</td><td>False</td><td>False</td><td>True</td><td>False</td><td>1</td><td>********</td><td>NULL</td><td>False</td><td>NULL</td><td>19562</td></tr>",
                            "<tr><td>user4</td><td>False</td><td>True</td><td>False</td><td>False</td><td>True</td><td>False</td><td>1</td><td>********</td><td>NULL</td><td>False</td><td>NULL</td><td>19564</td></tr>",
                            "</table>"
                        ]
                    }
                }
            ],
            "execution_count": 203
        },
        {
            "cell_type": "markdown",
            "source": [
                "**Polices**"
            ],
            "metadata": {
                "language": "sql",
                "azdata_cell_guid": "577dc6d4-b5de-4658-8d87-0d17cb32bfff"
            },
            "attachments": {}
        },
        {
            "cell_type": "code",
            "source": [
                "set role postgres;\r\n",
                "alter table cars enable row level security;\r\n",
                "\r\n",
                "\r\n",
                "create policy manager_select_cars_policy on cars\r\n",
                "    for select to _manager\r\n",
                "    using ((select ID_parking from managers where username = current_user) = ID_parking);\r\n",
                "\r\n",
                "create policy client_select_cars_policy on cars \r\n",
                "    for select to _client \r\n",
                "    using (locked = false);\r\n",
                ""
            ],
            "metadata": {
                "language": "sql",
                "azdata_cell_guid": "6684aa35-dff7-4e02-ba61-33b690d15507"
            },
            "outputs": [
                {
                    "output_type": "display_data",
                    "data": {
                        "text/html": "SET"
                    },
                    "metadata": {}
                },
                {
                    "output_type": "display_data",
                    "data": {
                        "text/html": "ALTER TABLE"
                    },
                    "metadata": {}
                },
                {
                    "output_type": "display_data",
                    "data": {
                        "text/html": "CREATE POLICY"
                    },
                    "metadata": {}
                },
                {
                    "output_type": "display_data",
                    "data": {
                        "text/html": "CREATE POLICY"
                    },
                    "metadata": {}
                },
                {
                    "output_type": "display_data",
                    "data": {
                        "text/html": "Total execution time: 00:00:00.023"
                    },
                    "metadata": {}
                }
            ],
            "execution_count": 204
        },
        {
            "cell_type": "markdown",
            "source": [
                "**Test**"
            ],
            "metadata": {
                "language": "sql",
                "azdata_cell_guid": "1d31c627-e61d-4fe1-849e-3c6f44d35aa3"
            },
            "attachments": {}
        },
        {
            "cell_type": "code",
            "source": [
                "set role postgres;\r\n",
                "\r\n",
                "select * from cars;\r\n",
                "\r\n",
                "set role new_user;\r\n",
                "\r\n",
                "select * from cars;"
            ],
            "metadata": {
                "language": "sql",
                "azdata_cell_guid": "f80a929d-da08-41a6-95b2-5efa4450dc1a"
            },
            "outputs": [
                {
                    "output_type": "display_data",
                    "data": {
                        "text/html": "SET"
                    },
                    "metadata": {}
                },
                {
                    "output_type": "display_data",
                    "data": {
                        "text/html": "(0 row(s) affected)"
                    },
                    "metadata": {}
                },
                {
                    "output_type": "display_data",
                    "data": {
                        "text/html": "SET"
                    },
                    "metadata": {}
                },
                {
                    "output_type": "display_data",
                    "data": {
                        "text/html": "(0 row(s) affected)"
                    },
                    "metadata": {}
                },
                {
                    "output_type": "display_data",
                    "data": {
                        "text/html": "Total execution time: 00:00:00.008"
                    },
                    "metadata": {}
                },
                {
                    "output_type": "execute_result",
                    "metadata": {},
                    "execution_count": 205,
                    "data": {
                        "application/vnd.dataresource+json": {
                            "schema": {
                                "fields": [
                                    {
                                        "name": "vin_number"
                                    },
                                    {
                                        "name": "cost_per_hour"
                                    },
                                    {
                                        "name": "car_brand"
                                    },
                                    {
                                        "name": "car_color"
                                    },
                                    {
                                        "name": "car_class"
                                    },
                                    {
                                        "name": "transmission_type"
                                    },
                                    {
                                        "name": "fuel_type"
                                    },
                                    {
                                        "name": "locked"
                                    },
                                    {
                                        "name": "id_parking"
                                    }
                                ]
                            },
                            "data": []
                        },
                        "text/html": [
                            "<table>",
                            "<tr><th>vin_number</th><th>cost_per_hour</th><th>car_brand</th><th>car_color</th><th>car_class</th><th>transmission_type</th><th>fuel_type</th><th>locked</th><th>id_parking</th></tr>",
                            "</table>"
                        ]
                    }
                },
                {
                    "output_type": "execute_result",
                    "metadata": {},
                    "execution_count": 205,
                    "data": {
                        "application/vnd.dataresource+json": {
                            "schema": {
                                "fields": [
                                    {
                                        "name": "vin_number"
                                    },
                                    {
                                        "name": "cost_per_hour"
                                    },
                                    {
                                        "name": "car_brand"
                                    },
                                    {
                                        "name": "car_color"
                                    },
                                    {
                                        "name": "car_class"
                                    },
                                    {
                                        "name": "transmission_type"
                                    },
                                    {
                                        "name": "fuel_type"
                                    },
                                    {
                                        "name": "locked"
                                    },
                                    {
                                        "name": "id_parking"
                                    }
                                ]
                            },
                            "data": []
                        },
                        "text/html": [
                            "<table>",
                            "<tr><th>vin_number</th><th>cost_per_hour</th><th>car_brand</th><th>car_color</th><th>car_class</th><th>transmission_type</th><th>fuel_type</th><th>locked</th><th>id_parking</th></tr>",
                            "</table>"
                        ]
                    }
                }
            ],
            "execution_count": 205
        }
    ]
}